{
 "cells": [
  {
   "cell_type": "markdown",
   "metadata": {},
   "source": [
    "## NetShark Info"
   ]
  },
  {
   "cell_type": "markdown",
   "metadata": {},
   "source": [
    "### Imports & Setup"
   ]
  },
  {
   "cell_type": "code",
   "execution_count": null,
   "metadata": {},
   "outputs": [],
   "source": [
    "from steelscript.netshark.core import NetShark\n",
    "from steelscript.common import UserAuth\n",
    "\n",
    "from steelscript.common.datautils import bytes2human"
   ]
  },
  {
   "cell_type": "code",
   "execution_count": null,
   "metadata": {},
   "outputs": [],
   "source": [
    "hostname = \"NETSHARK.HOSTNAME.COM\"\n",
    "username = \"USERNAME\"\n",
    "password = \"PASSWORD\""
   ]
  },
  {
   "cell_type": "code",
   "execution_count": null,
   "metadata": {},
   "outputs": [],
   "source": [
    "netshark = NetShark(hostname, auth=UserAuth(username, password))\n",
    "netshark"
   ]
  },
  {
   "cell_type": "markdown",
   "metadata": {},
   "source": [
    "### Appliance Information"
   ]
  },
  {
   "cell_type": "code",
   "execution_count": null,
   "metadata": {},
   "outputs": [],
   "source": [
    "info = netshark.get_serverinfo()\n",
    "info"
   ]
  },
  {
   "cell_type": "code",
   "execution_count": null,
   "metadata": {},
   "outputs": [],
   "source": [
    "info['local_time']"
   ]
  },
  {
   "cell_type": "code",
   "execution_count": null,
   "metadata": {},
   "outputs": [],
   "source": [
    "import datetime\n",
    "local_time = datetime.datetime.fromtimestamp(info['local_time'] / 1000000000.0)\n",
    "print repr(local_time)\n",
    "print str(local_time)"
   ]
  },
  {
   "cell_type": "markdown",
   "metadata": {},
   "source": [
    "### Stats"
   ]
  },
  {
   "cell_type": "code",
   "execution_count": null,
   "metadata": {},
   "outputs": [],
   "source": [
    "stats = netshark.get_stats()\n",
    "stats.keys()"
   ]
  },
  {
   "cell_type": "code",
   "execution_count": null,
   "metadata": {},
   "outputs": [],
   "source": [
    "stats['storage'].keys()"
   ]
  },
  {
   "cell_type": "code",
   "execution_count": null,
   "metadata": {},
   "outputs": [],
   "source": [
    "stats['storage']['packet_storage']"
   ]
  },
  {
   "cell_type": "code",
   "execution_count": null,
   "metadata": {},
   "outputs": [],
   "source": [
    "pkt_storage = stats['storage']['packet_storage']\n",
    "total = pkt_storage['total']\n",
    "used = pkt_storage['used']"
   ]
  },
  {
   "cell_type": "markdown",
   "metadata": {},
   "source": [
    "Compute the percentage used from total and used"
   ]
  },
  {
   "cell_type": "code",
   "execution_count": null,
   "metadata": {},
   "outputs": [],
   "source": [
    "pct_used = (used / total) * 100.0\n",
    "pct_used"
   ]
  },
  {
   "cell_type": "markdown",
   "metadata": {},
   "source": [
    "Both used and total are integers and Python performs integer division -- which yeilds 0!  Convert one of the arguments of division to float first to ensure a floating point operation and get the result we want:"
   ]
  },
  {
   "cell_type": "code",
   "execution_count": null,
   "metadata": {},
   "outputs": [],
   "source": [
    "pct_used = (float(used) / total) * 100.0\n",
    "pct_used"
   ]
  },
  {
   "cell_type": "markdown",
   "metadata": {},
   "source": [
    "### List Interfaces"
   ]
  },
  {
   "cell_type": "code",
   "execution_count": null,
   "metadata": {},
   "outputs": [],
   "source": [
    "interfaces = netshark.get_interfaces()\n",
    "type(interfaces)"
   ]
  },
  {
   "cell_type": "code",
   "execution_count": null,
   "metadata": {},
   "outputs": [],
   "source": [
    "len(interfaces)"
   ]
  },
  {
   "cell_type": "code",
   "execution_count": null,
   "metadata": {},
   "outputs": [],
   "source": [
    "i = interfaces[0]\n",
    "i.id, i.description"
   ]
  },
  {
   "cell_type": "code",
   "execution_count": null,
   "metadata": {},
   "outputs": [],
   "source": [
    "for i in interfaces:\n",
    "    print(\"%s: %s\" % (i.id, i.description))"
   ]
  },
  {
   "cell_type": "markdown",
   "metadata": {},
   "source": [
    "### List Sources\n",
    "#### Trace Files"
   ]
  },
  {
   "cell_type": "code",
   "execution_count": null,
   "metadata": {},
   "outputs": [],
   "source": [
    "for f in netshark.get_files():\n",
    "    print('%s (%s bytes, created: %s)' %\n",
    "          (f, bytes2human(f.size), f.created))"
   ]
  },
  {
   "cell_type": "markdown",
   "metadata": {},
   "source": [
    "#### Jobs"
   ]
  },
  {
   "cell_type": "code",
   "execution_count": null,
   "metadata": {},
   "outputs": [],
   "source": [
    "jobs = netshark.get_capture_jobs()\n",
    "for j in jobs:\n",
    "    status = j.get_status()\n",
    "    state = status['state']\n",
    "    if state == 'RUNNING':\n",
    "        continue\n",
    "    print('%s (size: %s, src interface: %s, status %s)' %\n",
    "          (j, bytes2human(j.size_limit), j.interface.id, state))"
   ]
  },
  {
   "cell_type": "code",
   "execution_count": null,
   "metadata": {},
   "outputs": [],
   "source": [
    "j.get_status()"
   ]
  },
  {
   "cell_type": "code",
   "execution_count": null,
   "metadata": {},
   "outputs": [],
   "source": [
    "j = jobs[0]\n",
    "j.get_status()"
   ]
  },
  {
   "cell_type": "markdown",
   "metadata": {},
   "source": [
    "#### Trace Clips"
   ]
  },
  {
   "cell_type": "code",
   "execution_count": null,
   "metadata": {},
   "outputs": [],
   "source": [
    "for c in netshark.get_clips():\n",
    "    if c.description == \"\":\n",
    "        print('%s (%s)' % (c, bytes2human(c.size)))\n",
    "    else:\n",
    "        print('%s, %s (%s)' %\n",
    "              (c.description, c, bytes2human(c.size)))"
   ]
  },
  {
   "cell_type": "markdown",
   "metadata": {},
   "source": [
    "### List Views"
   ]
  },
  {
   "cell_type": "code",
   "execution_count": null,
   "metadata": {},
   "outputs": [],
   "source": [
    "for view in netshark.get_open_views():\n",
    "    print('%s' % (view.handle))\n",
    "    for output in view.all_outputs():\n",
    "        print('\\t%s' % (output.id))"
   ]
  }
 ],
 "metadata": {
  "language_info": {
   "name": "python",
   "pygments_lexer": "ipython2"
  }
 },
 "nbformat": 4,
 "nbformat_minor": 1
}
