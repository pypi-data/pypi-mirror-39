{
 "cells": [
  {
   "cell_type": "markdown",
   "metadata": {},
   "source": [
    "## Upload Pcap"
   ]
  },
  {
   "cell_type": "markdown",
   "metadata": {},
   "source": [
    "### Imports & Setup"
   ]
  },
  {
   "cell_type": "code",
   "execution_count": null,
   "metadata": {},
   "outputs": [],
   "source": [
    "import os\n",
    "import sys\n",
    "import steelscript\n",
    "from steelscript.netshark.core import NetShark\n",
    "from steelscript.netshark.core.types import Value, Key\n",
    "from steelscript.common import UserAuth"
   ]
  },
  {
   "cell_type": "code",
   "execution_count": null,
   "metadata": {},
   "outputs": [],
   "source": [
    "hostname = \"NETSHARK.HOSTNAME.COM\"\n",
    "username = \"USERNAME\"\n",
    "password = \"PASSWORD\""
   ]
  },
  {
   "cell_type": "code",
   "execution_count": null,
   "metadata": {},
   "outputs": [],
   "source": [
    "netshark = NetShark(hostname, auth=UserAuth(username, password))\n",
    "netshark"
   ]
  },
  {
   "cell_type": "markdown",
   "metadata": {},
   "source": [
    "### Upload trace file\n",
    "\n",
    "(Note, this may yield an exception...)"
   ]
  },
  {
   "cell_type": "code",
   "execution_count": null,
   "metadata": {},
   "outputs": [],
   "source": [
    "pkgs = steelscript.__path__\n",
    "if len(pkgs) == 1:\n",
    "    pcap_path = os.path.join(sys.prefix, 'share', 'doc', 'steelscript', 'docs', 'netshark', 'tutorial.pcap')\n",
    "else:\n",
    "    ns_path = [x for x in pkgs if 'steelscript-netshark' in x][0]\n",
    "    pcap_path = os.path.join(ns_path, '..', 'docs', 'tutorial.pcap')\n",
    "\n",
    "if not os.path.exists(pcap_path):\n",
    "    print 'ERROR: Unable to find sample pcap file in usual places!'"
   ]
  },
  {
   "cell_type": "code",
   "execution_count": null,
   "metadata": {},
   "outputs": [],
   "source": [
    "localfile = pcap_path\n",
    "remotefile = '/%s/tutorial.pcap' % username\n",
    "tracefile = netshark.upload_trace_file(remotefile, localfile)"
   ]
  },
  {
   "cell_type": "markdown",
   "metadata": {},
   "source": [
    "### Check, then upload trace file\n",
    "Better to check first if the remote file already exists. \n",
    "If it does, remove it first just in case the remote file \n",
    "does not match what we want"
   ]
  },
  {
   "cell_type": "code",
   "execution_count": null,
   "metadata": {},
   "outputs": [],
   "source": [
    "if netshark.exists(remotefile):\n",
    "    print \"Removing existing file\"\n",
    "    tracefile = netshark.get_file(remotefile)\n",
    "    tracefile.remove()\n",
    "    \n",
    "tracefile = netshark.upload_trace_file(remotefile, localfile)\n",
    "tracefile"
   ]
  },
  {
   "cell_type": "code",
   "execution_count": null,
   "metadata": {},
   "outputs": [],
   "source": [
    "tracefile.get_info()"
   ]
  },
  {
   "cell_type": "markdown",
   "metadata": {},
   "source": [
    "### Check out the file system a bit"
   ]
  },
  {
   "cell_type": "code",
   "execution_count": null,
   "metadata": {},
   "outputs": [],
   "source": [
    "homedir = netshark.get_dir('/%s' % username)\n",
    "homedir"
   ]
  },
  {
   "cell_type": "code",
   "execution_count": null,
   "metadata": {},
   "outputs": [],
   "source": [
    "homedir.list()"
   ]
  },
  {
   "cell_type": "code",
   "execution_count": null,
   "metadata": {},
   "outputs": [],
   "source": [
    "homedir.get_info()"
   ]
  },
  {
   "cell_type": "markdown",
   "metadata": {},
   "source": [
    "### Create a simple view based on the tracefile\n",
    "\n",
    "Note that a timefilter is not used below -- the view will then run over the entire pcap file."
   ]
  },
  {
   "cell_type": "code",
   "execution_count": null,
   "metadata": {},
   "outputs": [],
   "source": [
    "columns = [\n",
    "    Key(netshark.columns.tcp.server_ip),\n",
    "    Key(netshark.columns.tcp.server_port),\n",
    "    Key(netshark.columns.generic.traffic_type.application),\n",
    "    Value(netshark.columns.generic.bytes)\n",
    "]"
   ]
  },
  {
   "cell_type": "code",
   "execution_count": null,
   "metadata": {},
   "outputs": [],
   "source": [
    "view = netshark.create_view(tracefile, columns)"
   ]
  },
  {
   "cell_type": "code",
   "execution_count": null,
   "metadata": {},
   "outputs": [],
   "source": [
    "data = view.get_data(aggregated=True)"
   ]
  },
  {
   "cell_type": "code",
   "execution_count": null,
   "metadata": {},
   "outputs": [],
   "source": [
    "data[0]"
   ]
  }
 ],
 "metadata": {
  "language_info": {
   "name": "python",
   "pygments_lexer": "ipython2"
  }
 },
 "nbformat": 4,
 "nbformat_minor": 1
}
