{
 "cells": [
  {
   "cell_type": "markdown",
   "metadata": {},
   "source": [
    "## NetShark Info"
   ]
  },
  {
   "cell_type": "markdown",
   "metadata": {},
   "source": [
    "### Imports & Setup"
   ]
  },
  {
   "cell_type": "code",
   "execution_count": null,
   "metadata": {},
   "outputs": [],
   "source": [
    "from datetime import timedelta\n",
    "\n",
    "from steelscript.netshark.core import NetShark\n",
    "from steelscript.netshark.core.types import Value, Key\n",
    "from steelscript.netshark.core.filters import NetSharkFilter, TimeFilter\n",
    "from steelscript.common import UserAuth"
   ]
  },
  {
   "cell_type": "code",
   "execution_count": null,
   "metadata": {},
   "outputs": [],
   "source": [
    "hostname = \"NETSHARK.HOSTNAME.COM\"\n",
    "username = \"USERNAME\"\n",
    "password = \"PASSWORD\""
   ]
  },
  {
   "cell_type": "code",
   "execution_count": null,
   "metadata": {},
   "outputs": [],
   "source": [
    "netshark = NetShark(hostname, auth=UserAuth(username, password))\n",
    "netshark"
   ]
  },
  {
   "cell_type": "markdown",
   "metadata": {},
   "source": [
    "### Source - Capture Job\n",
    "\n",
    "Pick the first capture job that's running"
   ]
  },
  {
   "cell_type": "code",
   "execution_count": null,
   "metadata": {},
   "outputs": [],
   "source": [
    "jobs = netshark.get_capture_jobs()\n",
    "source = None\n",
    "for j in jobs:\n",
    "    if j.get_status()['state'] == 'RUNNING':\n",
    "        source = j\n",
    "        break\n",
    "source"
   ]
  },
  {
   "cell_type": "markdown",
   "metadata": {},
   "source": [
    "### Columns\n",
    "\n",
    "Select the key and value columns to collect.  The set of \"Key\" column define how the \"Value\" column data is aggregated.  For example a single Key column of \"server_port\" as below indicates that a row will be defined for each unique server port seen."
   ]
  },
  {
   "cell_type": "code",
   "execution_count": null,
   "metadata": {},
   "outputs": [],
   "source": [
    "columns = [\n",
    "    Key(netshark.columns.tcp.server_port),\n",
    "    Value(netshark.columns.generic.bytes)\n",
    "]"
   ]
  },
  {
   "cell_type": "markdown",
   "metadata": {},
   "source": [
    "### Filters\n"
   ]
  },
  {
   "cell_type": "code",
   "execution_count": null,
   "metadata": {},
   "outputs": [],
   "source": [
    "timefilter = TimeFilter.parse_range('last 1s')"
   ]
  },
  {
   "cell_type": "code",
   "execution_count": null,
   "metadata": {},
   "outputs": [],
   "source": [
    "filters = [timefilter]"
   ]
  },
  {
   "cell_type": "markdown",
   "metadata": {},
   "source": [
    "### Create the view"
   ]
  },
  {
   "cell_type": "code",
   "execution_count": null,
   "metadata": {},
   "outputs": [],
   "source": [
    "view = netshark.create_view(source, columns, filters)"
   ]
  },
  {
   "cell_type": "code",
   "execution_count": null,
   "metadata": {},
   "outputs": [],
   "source": [
    "view"
   ]
  },
  {
   "cell_type": "code",
   "execution_count": null,
   "metadata": {},
   "outputs": [],
   "source": [
    "ti = view.get_timeinfo()\n",
    "ti"
   ]
  },
  {
   "cell_type": "markdown",
   "metadata": {},
   "source": [
    "Most times from shark are unix epoch in nanoseconds (so nanoseconds since Jan 1, 1970)"
   ]
  },
  {
   "cell_type": "code",
   "execution_count": null,
   "metadata": {},
   "outputs": [],
   "source": [
    "(ti['end'] - ti['start']) / 1000000000"
   ]
  },
  {
   "cell_type": "markdown",
   "metadata": {},
   "source": [
    "### Retrieve data"
   ]
  },
  {
   "cell_type": "code",
   "execution_count": null,
   "metadata": {},
   "outputs": [],
   "source": [
    "data = view.get_data(aggregated=True)\n",
    "packets = data[0]['p']\n",
    "t = data[0]['t']\n",
    "rows = data[0]['vals']\n",
    "\n",
    "print('Counted %d packets starting at %s, yielding %d rows' % \n",
    "      (packets, str(t), len(rows)))"
   ]
  },
  {
   "cell_type": "code",
   "execution_count": null,
   "metadata": {},
   "outputs": [],
   "source": [
    "data"
   ]
  },
  {
   "cell_type": "markdown",
   "metadata": {},
   "source": [
    "Each row is a tuple of (*port*, *bytes*) -- the requested key and value columns"
   ]
  },
  {
   "cell_type": "code",
   "execution_count": null,
   "metadata": {},
   "outputs": [],
   "source": [
    "rows[0]"
   ]
  },
  {
   "cell_type": "markdown",
   "metadata": {},
   "source": [
    "Sort the rows by the bytes column, column 1 in each row:"
   ]
  },
  {
   "cell_type": "code",
   "execution_count": null,
   "metadata": {},
   "outputs": [],
   "source": [
    "rows.sort(lambda a, b: cmp(a[1], b[1]), reverse=True)\n",
    "rows[:10]"
   ]
  },
  {
   "cell_type": "markdown",
   "metadata": {},
   "source": [
    "### Analyze the data, looking for a single port"
   ]
  },
  {
   "cell_type": "code",
   "execution_count": null,
   "metadata": {},
   "outputs": [],
   "source": [
    "def find_port(data, port):\n",
    "    total = 0\n",
    "    for sample in data:\n",
    "        for v in sample['vals']:\n",
    "            if v[0] == port:\n",
    "                print \"%s: %s\" % (str(sample['t']), v[1])\n",
    "                total = total + v[1]\n",
    "    print \"Total: %d\" % total"
   ]
  },
  {
   "cell_type": "code",
   "execution_count": null,
   "metadata": {},
   "outputs": [],
   "source": [
    "find_port(data, 80)"
   ]
  },
  {
   "cell_type": "code",
   "execution_count": null,
   "metadata": {},
   "outputs": [],
   "source": [
    "data_1min = view.get_data(aggregated=False, delta=timedelta(seconds=60))\n",
    "print \"Data points: %d\" % len(data_1min)\n",
    "find_port(data_1min, 80)"
   ]
  },
  {
   "cell_type": "code",
   "execution_count": null,
   "metadata": {},
   "outputs": [],
   "source": [
    "data_10sec = view.get_data(aggregated=False, delta=timedelta(seconds=10))\n",
    "print \"Data points: %d\" % len(data_10sec)\n",
    "find_port(data_10sec, 80)"
   ]
  }
 ],
 "metadata": {
  "language_info": {
   "name": "python",
   "pygments_lexer": "ipython2"
  }
 },
 "nbformat": 4,
 "nbformat_minor": 1
}
