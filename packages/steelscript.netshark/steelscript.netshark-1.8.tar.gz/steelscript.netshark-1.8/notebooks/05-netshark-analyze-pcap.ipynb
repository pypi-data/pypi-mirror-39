{
 "cells": [
  {
   "cell_type": "markdown",
   "metadata": {},
   "source": [
    "# Analyze Pcap"
   ]
  },
  {
   "cell_type": "markdown",
   "metadata": {},
   "source": [
    "## Imports & Setup"
   ]
  },
  {
   "cell_type": "code",
   "execution_count": null,
   "metadata": {},
   "outputs": [],
   "source": [
    "from datetime import timedelta\n",
    "import pandas\n",
    "\n",
    "from steelscript.netshark.core import NetShark\n",
    "from steelscript.netshark.core.types import Value, Key\n",
    "from steelscript.netshark.core.filters import NetSharkFilter, TimeFilter\n",
    "from steelscript.common import UserAuth\n",
    "\n",
    "from steelscript.common.datautils import bytes2human"
   ]
  },
  {
   "cell_type": "code",
   "execution_count": null,
   "metadata": {},
   "outputs": [],
   "source": [
    "# optional debug logging\n",
    "import logging\n",
    "logger = logging.getLogger()\n",
    "logging.basicConfig(format=\"%(asctime)s [%(levelname)-8.5s] (%(name)s) %(msg)s\", level=logging.DEBUG)\n",
    "logger.setLevel(logging.DEBUG)"
   ]
  },
  {
   "cell_type": "code",
   "execution_count": null,
   "metadata": {},
   "outputs": [],
   "source": [
    "hostname = \"NETSHARK.HOSTNAME.COM\"\n",
    "username = \"USERNAME\"\n",
    "password = \"PASSWORD\""
   ]
  },
  {
   "cell_type": "markdown",
   "metadata": {},
   "source": [
    "## Connect to the NetShark device"
   ]
  },
  {
   "cell_type": "code",
   "execution_count": null,
   "metadata": {},
   "outputs": [],
   "source": [
    "netshark = NetShark(hostname, auth=UserAuth(username, password))\n",
    "netshark"
   ]
  },
  {
   "cell_type": "markdown",
   "metadata": {},
   "source": [
    "## Pick the source\n",
    "\n",
    "Choose the first running job."
   ]
  },
  {
   "cell_type": "code",
   "execution_count": null,
   "metadata": {},
   "outputs": [],
   "source": [
    "jobs = netshark.get_capture_jobs()\n",
    "source = None\n",
    "for j in jobs:\n",
    "    if j.get_status()['state'] == 'RUNNING':\n",
    "        source = j\n",
    "        break\n",
    "source"
   ]
  },
  {
   "cell_type": "code",
   "execution_count": null,
   "metadata": {},
   "outputs": [],
   "source": [
    "timefilter = TimeFilter.parse_range('last 10s')\n",
    "srvport = 443\n",
    "portfilter = NetSharkFilter('tcp.server_port=%d' % srvport)"
   ]
  },
  {
   "cell_type": "code",
   "execution_count": null,
   "metadata": {},
   "outputs": [],
   "source": [
    "export = netshark.create_export(source, timefilter, filters=[portfilter])"
   ]
  },
  {
   "cell_type": "markdown",
   "metadata": {},
   "source": [
    "Note that the export details does not represent the port 22 filter - it really represents the maximum possible size of the resulting packet set until the export is actually used below"
   ]
  },
  {
   "cell_type": "code",
   "execution_count": null,
   "metadata": {},
   "outputs": [],
   "source": [
    "export.details()"
   ]
  },
  {
   "cell_type": "markdown",
   "metadata": {},
   "source": [
    "The `export` object is used to download the packets locally to disk.  Once the download occurs, the export object is deleted on the NetShark side of things."
   ]
  },
  {
   "cell_type": "code",
   "execution_count": null,
   "metadata": {},
   "outputs": [],
   "source": [
    "export.download('/tmp/telnet.pcap', overwrite=True)"
   ]
  },
  {
   "cell_type": "markdown",
   "metadata": {},
   "source": [
    "## Analyze a pcap file using Wireshark\n",
    "\n",
    "(or more precisely, tshark -- the command line version of wireshark)\n",
    "\n",
    "The module `steelscript.wireshark` provides a Python wrapper around tshark, making it easy to inspect and perform queries on pcap files."
   ]
  },
  {
   "cell_type": "code",
   "execution_count": null,
   "metadata": {},
   "outputs": [],
   "source": [
    "from steelscript.wireshark.core.pcap import PcapFile\n",
    "\n",
    "pcap = PcapFile('/tmp/telnet.pcap')\n",
    "pcap.info()\n",
    "print pcap.starttime\n",
    "print pcap.endtime\n",
    "print pcap.numpackets"
   ]
  },
  {
   "cell_type": "markdown",
   "metadata": {},
   "source": [
    "The `TSharkFields` class allows for searching for fields by name or protocol:"
   ]
  },
  {
   "cell_type": "code",
   "execution_count": null,
   "metadata": {},
   "outputs": [],
   "source": [
    "from steelscript.wireshark.core.pcap import TSharkFields\n",
    "fields = TSharkFields()"
   ]
  },
  {
   "cell_type": "code",
   "execution_count": null,
   "metadata": {},
   "outputs": [],
   "source": [
    "fields.find(name_re='^tcp.*rtt')"
   ]
  },
  {
   "cell_type": "code",
   "execution_count": null,
   "metadata": {},
   "outputs": [],
   "source": [
    "fields.find(name_re='^tcp.*flight')"
   ]
  },
  {
   "cell_type": "markdown",
   "metadata": {},
   "source": [
    "## Query the pcap file for a set of packet fields"
   ]
  },
  {
   "cell_type": "code",
   "execution_count": null,
   "metadata": {},
   "outputs": [],
   "source": [
    "df = pcap.query(['frame.time_epoch', 'ip.src', 'ip.dst', 'ip.len', \n",
    "                 'tcp.srcport', 'tcp.dstport', \n",
    "                 'tcp.flags', 'tcp.analysis.ack_rtt'], \n",
    "                 filterexpr='tcp',\n",
    "                 as_dataframe=True)\n",
    "df[:10]"
   ]
  },
  {
   "cell_type": "markdown",
   "metadata": {},
   "source": [
    "### Filter for rows that have an RTT"
   ]
  },
  {
   "cell_type": "code",
   "execution_count": null,
   "metadata": {},
   "outputs": [],
   "source": [
    "has_rtt = (~df['tcp.analysis.ack_rtt'].isnull())\n",
    "df[has_rtt][:10]"
   ]
  },
  {
   "cell_type": "markdown",
   "metadata": {},
   "source": [
    "### Assign client/server IP based on port"
   ]
  },
  {
   "cell_type": "code",
   "execution_count": null,
   "metadata": {},
   "outputs": [],
   "source": [
    "# Assign the column dst to:\n",
    "#    src_true for all rows where expr is True\n",
    "#    src_false for all rows where expr is False\n",
    "\n",
    "def assign_col(df, expr, dst, src_true, src_false):\n",
    "    df.ix[expr, dst]  = df.ix[expr, src_true]\n",
    "    df.ix[~expr, dst] = df.ix[~expr, src_false]    "
   ]
  },
  {
   "cell_type": "code",
   "execution_count": null,
   "metadata": {},
   "outputs": [],
   "source": [
    "# This boolean expression assigns a True/False value for each row \n",
    "# based on the tcp.srcport.  Since we know the filter was on port 22\n",
    "# than if the srcport is 22, the source is the server.  Otherwise\n",
    "# the dest is the server.\n",
    "srv_src = (df['tcp.srcport'] == 22)\n",
    "\n",
    "srv_src[:10]"
   ]
  },
  {
   "cell_type": "markdown",
   "metadata": {},
   "source": [
    "### Now we can use this \"expression\" to set the client/server IP and port."
   ]
  },
  {
   "cell_type": "code",
   "execution_count": null,
   "metadata": {},
   "outputs": [],
   "source": [
    "assign_col(df, srv_src, 'ip.cli',      'ip.dst',      'ip.src')\n",
    "assign_col(df, srv_src, 'ip.srv',      'ip.src',      'ip.dst')\n",
    "assign_col(df, srv_src, 'tcp.cliport', 'tcp.dstport', 'tcp.srcport')\n",
    "\n",
    "df = df.ix[:,['frame.time_epoch', 'ip.srv', 'ip.cli', 'tcp.cliport', \n",
    "              'ip.len', 'tcp.flags', 'tcp.analysis.ack_rtt']]\n",
    "df[:10]"
   ]
  },
  {
   "cell_type": "markdown",
   "metadata": {},
   "source": [
    "### Group by conversation\n",
    "\n",
    "In this case a unique conversation defined by the triplet: Client/Server IP and Client Port (since the server port is always 22, we don't bother)"
   ]
  },
  {
   "cell_type": "code",
   "execution_count": null,
   "metadata": {},
   "outputs": [],
   "source": [
    "gb = df.groupby(['ip.cli', 'ip.srv', 'tcp.cliport'])"
   ]
  },
  {
   "cell_type": "markdown",
   "metadata": {},
   "source": [
    "The `gb` object itself is not an interesting result -- instead, you then frequently use it to aggregate rows that have the same index (the triplet)"
   ]
  },
  {
   "cell_type": "code",
   "execution_count": null,
   "metadata": {},
   "outputs": [],
   "source": [
    "agg = gb.aggregate({'ip.len': 'sum',\n",
    "                    'tcp.analysis.ack_rtt': ['min', 'mean', 'max', 'count']})\n",
    "agg"
   ]
  },
  {
   "cell_type": "markdown",
   "metadata": {},
   "source": [
    "### Lets plot some of this"
   ]
  },
  {
   "cell_type": "code",
   "execution_count": null,
   "metadata": {},
   "outputs": [],
   "source": [
    "%pylab inline"
   ]
  },
  {
   "cell_type": "markdown",
   "metadata": {},
   "source": [
    "Compute the index of the row in the aggregate data that has the highest number of samples"
   ]
  },
  {
   "cell_type": "code",
   "execution_count": null,
   "metadata": {},
   "outputs": [],
   "source": [
    "rtt_index = agg.sort(columns=[('tcp.analysis.ack_rtt', 'count')], ascending=False).index[0]"
   ]
  },
  {
   "cell_type": "markdown",
   "metadata": {},
   "source": [
    "Now index into the original `df` using the `rtt_index` -- this allows us to filter on only packets that were assocaited with the client/server/port index value."
   ]
  },
  {
   "cell_type": "code",
   "execution_count": null,
   "metadata": {},
   "outputs": [],
   "source": [
    "clisrv = df.set_index(agg.index.names)\n",
    "s = clisrv[clisrv.index.isin([rtt_index])]"
   ]
  },
  {
   "cell_type": "markdown",
   "metadata": {},
   "source": [
    "Index this filtered data set on time and graph packet size (ie. `ip.len`)"
   ]
  },
  {
   "cell_type": "code",
   "execution_count": null,
   "metadata": {},
   "outputs": [],
   "source": [
    "s = s.set_index('frame.time_epoch')\n",
    "s.plot(y=['ip.len'])"
   ]
  },
  {
   "cell_type": "markdown",
   "metadata": {},
   "source": [
    "Now plot of few other interesting metrics, like computing bit rate -- the sum of ip.len across all rows in a 1 second interval:"
   ]
  },
  {
   "cell_type": "code",
   "execution_count": null,
   "metadata": {},
   "outputs": [],
   "source": [
    "s.resample('1s', {'ip.len': 'sum'}).plot()"
   ]
  },
  {
   "cell_type": "code",
   "execution_count": null,
   "metadata": {},
   "outputs": [],
   "source": [
    "s.plot(y=['tcp.analysis.ack_rtt'])"
   ]
  },
  {
   "cell_type": "code",
   "execution_count": null,
   "metadata": {},
   "outputs": [],
   "source": [
    "s.resample('100L', {'tcp.analysis.ack_rtt': ['min', 'mean', 'max']}).plot()"
   ]
  }
 ],
 "metadata": {
  "language_info": {
   "name": "python",
   "pygments_lexer": "ipython2"
  }
 },
 "nbformat": 4,
 "nbformat_minor": 1
}
