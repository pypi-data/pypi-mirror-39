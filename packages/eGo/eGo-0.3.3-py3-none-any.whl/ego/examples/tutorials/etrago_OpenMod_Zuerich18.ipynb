{
 "cells": [
  {
   "cell_type": "markdown",
   "metadata": {},
   "source": [
    "<img src=\"https://www.uni-flensburg.de/fileadmin/content/system/logos/europa/uni-flensburg.png\" alt=\"EUF\" height=\"200\" width=\"300\"  align=\"right\" >\n",
    "<img src=\"https://hs-flensburg.de/themes/hsfl/img/Logo_color_schrift_grau_72dpi-320px.png\" alt=\"HSF\" height=\"200\" width=\"200\"  align=\"left\" >\n"
   ]
  },
  {
   "cell_type": "code",
   "execution_count": null,
   "metadata": {
    "collapsed": true
   },
   "outputs": [],
   "source": [
    "__copyright__ = \"Zentrum für nachhaltige Energiesysteme Flensburg\"\n",
    "__license__   = \"GNU Affero General Public License Version 3 (AGPL-3.0)\"\n",
    "__url__       = \"https://github.com/openego/data_processing/blob/master/LICENSE\"\n",
    "__author__    = \"wolfbunke, ulfmueller\""
   ]
  },
  {
   "cell_type": "markdown",
   "metadata": {},
   "source": [
    "\n",
    "# <center> OpenMod Workshop Zürich 2018</center>\n",
    "\n",
    "## Open source tools for cross-grid-level electricity grid optimization developed in the open_eGo project - Learn-a-thon\n",
    "\n",
    "****\n",
    "\n",
    "### Learn more about\n",
    "\n",
    "\n",
    "* __[open_eGo Project Webpage](https://openegoproject.wordpress.com/)__\n",
    "* __[eTraGo Tool Documentation](http://etrago.readthedocs.io/en/latest/index.html)__  \n",
    "*  __[oedb Tutorials](http://oep.iks.cs.ovgu.de/dataedit/)__  How to use the OpenEnergy Database\n",
    "* __[OpenMod Forum](https://forum.openmod-initiative.org/t/learn-a-thon-using-tools-for-cross-grid-level-electricity-grid-optimization-developed-in-the-open-ego-project/856)__ "
   ]
  },
  {
   "cell_type": "markdown",
   "metadata": {},
   "source": [
    "<img src=\"http://etrago.readthedocs.io/en/latest/_images/etrago_logo.png\" alt=\"HSF\" height=\"200\" width=\"200\"  align=\"right\" >\n",
    "## Table of Contents <a class=\"anchor\" id=\"toc\"></a>\n",
    "\n",
    "\n",
    "* [Getting started with eTraGo](#started)\n",
    "* [LOPF Calculation of Germany and neighbours with 10 notes](#d-kmean10)\n",
    "* [LOPF Calculation of Schleswig-Holstein](#shcalc)\n",
    "* [Using snapshot clustering](#snapshot)"
   ]
  },
  {
   "cell_type": "markdown",
   "metadata": {},
   "source": [
    "# Getting started with eTraGo <a class=\"anchor\" id=\"started\"></a>\n",
    "\n",
    "\n",
    "The python package eTraGo provides a optimization of flexibility options for transmission grids based on PyPSA. A speciality in this context is that transmission grids are described by the 380, 220 and 110 kV in Germany. Conventionally the 110kV grid is part of the distribution grid. The integration of the transmission and ‘upper’ distribution grid is part of eTraGo.\n",
    "\n",
    "The focus of optimization are flexibility options with a special focus on energy storages and grid expansion measures.\n",
    "\n",
    "\n",
    "\n",
    "\n",
    "## Installation \n",
    "\n",
    "Please, find more information on the [README.md](https://github.com/openego/eGo/tree/features/tutorial/ego/examples/tutorials#etrago). \n",
    "\n",
    "\n",
    "## Import eTraGo packages\n",
    "\n",
    "We are importing the [main function](https://github.com/openego/eTraGo/blob/dev/etrago/appl.py) of eTraGo and its database and plotting functions. \n"
   ]
  },
  {
   "cell_type": "code",
   "execution_count": null,
   "metadata": {
    "collapsed": false
   },
   "outputs": [],
   "source": [
    "import numpy as np\n",
    "import pandas as pd\n",
    "from numpy import genfromtxt\n",
    "np.random.seed()\n",
    "import time\n",
    "import oedialect\n",
    "\n",
    "import os\n",
    "\n",
    "if not 'READTHEDOCS' in os.environ:\n",
    "    # Sphinx does not run this code.\n",
    "    # Do not import internal packages directly  \n",
    "    from etrago.tools.io import NetworkScenario, results_to_oedb\n",
    "    from etrago.tools.plot import (plot_line_loading, plot_stacked_gen,\n",
    "                                     add_coordinates, curtailment, gen_dist,\n",
    "                                     storage_distribution,storage_expansion)\n",
    "    from etrago.tools.utilities import (load_shedding, data_manipulation_sh,\n",
    "                                    results_to_csv, parallelisation, pf_post_lopf,  \n",
    "                                    loading_minimization, calc_line_losses, group_parallel_lines)\n",
    "    from etrago.cluster.networkclustering import busmap_from_psql, cluster_on_extra_high_voltage, kmean_clustering\n",
    "    from egoio.tools import db\n",
    "    from sqlalchemy.orm import sessionmaker\n",
    "    from etrago.appl import etrago\n",
    "    \n",
    "    "
   ]
  },
  {
   "cell_type": "code",
   "execution_count": null,
   "metadata": {
    "collapsed": true
   },
   "outputs": [],
   "source": [
    "# enable jupyter interactiv plotting\n",
    "%matplotlib notebook\n",
    "from ipywidgets import *\n",
    "import matplotlib.pyplot as plt"
   ]
  },
  {
   "cell_type": "markdown",
   "metadata": {},
   "source": [
    "# LOPF Calculation of Germany and neighbours with 30 nodes <a class=\"anchor\" id=\"d-kmean10\"></a>\n",
    "\n",
    "\n",
    "<div style=\"text-align: right\"> \n",
    "[top](#toc) </div>\n",
    "\n",
    "In this section we start our eTraGo calulation with an __Status Quo__ scenario of Germany an its electrical neighbours. For time and performents reasons we are useing the [k-mean](https://de.wikipedia.org/wiki/K-Means-Algorithmus) clustering [functionality of eTraGo](http://etrago.readthedocs.io/en/latest/api/etrago.cluster.html#etrago.cluster.networkclustering.kmean_clustering) and use $k=30$ nodes. For the same reason we choose the time period of __start_snapshot__ and __end_snapshot__ for a day with 24 hours of the scenario year.  \n",
    "\n",
    "\n",
    "### Make your calulation settings\n",
    "\n",
    "A detailed discription of the args python dictionary can be found under <http://etrago.readthedocs.io/en/latest/_modules/etrago/appl.html#etrago>. \n",
    "\n",
    "\n"
   ]
  },
  {
   "cell_type": "code",
   "execution_count": null,
   "metadata": {
    "collapsed": true
   },
   "outputs": [],
   "source": [
    "args_k10 = {# Setup and Configuration:\n",
    "        'db': 'oedb',                # db session\n",
    "        'gridversion': \"v0.2.11\",         # None for model_draft or Version number (e.g. v0.2.11) for grid schema\n",
    "        'method': 'lopf',            # lopf or pf\n",
    "        'pf_post_lopf': False,       # state whether you want to perform a pf after a lopf simulation\n",
    "        'start_snapshot': 4393,      # 2.07.\n",
    "        'end_snapshot' : 4400,\n",
    "        'scn_name': 'NEP 2035',    # state which scenario you want to run: Status Quo, NEP 2035, eGo100\n",
    "        'solver': 'glpk',            # glpk, cplex or gurobi\n",
    "        # Export options:\n",
    "        'lpfile': False,             # state if and where you want to save pyomo's lp file: False or /path/tofolder\n",
    "        'results': False,            # state if and where you want to save results as csv: False or /path/tofolder\n",
    "        'export': False,             # state if you want to export the results back to the database\n",
    "        # Settings:        \n",
    "        'storage_extendable':True,   # state if you want storages to be installed at each node if necessary.\n",
    "        'generator_noise':True,      # state if you want to apply a small generator noise \n",
    "        'reproduce_noise': False,    # state if you want to use a predefined set of random noise for the given scenario. \n",
    "                                     # if so, provide path, e.g. 'noise_values.csv'\n",
    "        'minimize_loading':False,\n",
    "        # Clustering:\n",
    "        'k_mean_clustering': 30,     # state if you want to perform a k-means clustering on the given network. \n",
    "                                     # State False or the value k (e.g. 20).\n",
    "        'network_clustering': False, # state if you want to perform a clustering of HV buses to EHV buses.\n",
    "        # Simplifications:\n",
    "        'parallelisation':False,     # state if you want to run snapshots parallely.\n",
    "        'skip_snapshots':False,\n",
    "        'line_grouping': False,      # state if you want to group lines running between the same buses.\n",
    "        'branch_capacity_factor': 0.7, # globally extend or lower branch capacities\n",
    "        'load_shedding':False,       # meet the demand at very high cost; for debugging purposes.\n",
    "        'comments':None }"
   ]
  },
  {
   "cell_type": "code",
   "execution_count": null,
   "metadata": {
    "collapsed": false
   },
   "outputs": [],
   "source": [
    "# Start eTraGo calculation with args setting\n",
    "# create network object which incluedes all input and output data\n",
    "network = etrago(args_k10)"
   ]
  },
  {
   "cell_type": "code",
   "execution_count": null,
   "metadata": {
    "collapsed": false
   },
   "outputs": [],
   "source": [
    "# plot generation distripution\n",
    "gen_dist(network, techs=None, snapshot=1,n_cols=3,gen_size=0.02)"
   ]
  },
  {
   "cell_type": "code",
   "execution_count": null,
   "metadata": {
    "collapsed": false
   },
   "outputs": [],
   "source": [
    "# plot stacked sum of nominal power for each generator type and timestep\n",
    "#fig.set_size_inches(14,14)\n",
    "# fix error in .../eGo/ego/examples/tutorials/src/etrago/etrago/tools/plot.py\n",
    "# 'wind_offshore':'skyblue', wind_onshore':'skyblue',\n",
    "plot_stacked_gen(network, resolution=\"MW\")"
   ]
  },
  {
   "cell_type": "code",
   "execution_count": null,
   "metadata": {
    "collapsed": false
   },
   "outputs": [],
   "source": [
    "# make a line loading plot\n",
    "# basemade einbauen für hintergrund länder\n",
    "fig,ax = plt.subplots(1,1)\n",
    "fig.set_size_inches(8,8)\n",
    "plot_line_loading(network)"
   ]
  },
  {
   "cell_type": "code",
   "execution_count": null,
   "metadata": {
    "collapsed": false
   },
   "outputs": [],
   "source": [
    "# plot to show extendable storages, if expanded\n",
    "storage_expansion(network)"
   ]
  },
  {
   "cell_type": "code",
   "execution_count": null,
   "metadata": {
    "collapsed": false
   },
   "outputs": [],
   "source": [
    "# get storage sizes in MW\n",
    "network.storage_units.p_nom_opt.groupby(network.storage_units.carrier, axis=0).sum()"
   ]
  },
  {
   "cell_type": "markdown",
   "metadata": {},
   "source": [
    "### Marginal price per bus node"
   ]
  },
  {
   "cell_type": "code",
   "execution_count": null,
   "metadata": {
    "collapsed": true
   },
   "outputs": [],
   "source": [
    "# get snapshot\n",
    "now = network.snapshots[2]\n",
    "\n",
    "fig,ax = plt.subplots(1,1)\n",
    "fig.set_size_inches(6,4)\n",
    "\n",
    "network.plot(ax=ax,line_widths=pd.Series(0.5,network.lines.index))\n",
    "plt.hexbin(network.buses.x, network.buses.y, \n",
    "           gridsize=20,\n",
    "           C=network.buses_t.marginal_price.loc[now],\n",
    "           cmap=plt.cm.jet)\n",
    "\n",
    "#for some reason the colorbar only works with graphs plt.plot\n",
    "#and must be attached plt.colorbar\n",
    "\n",
    "cb = plt.colorbar()\n",
    "cb.set_label('Locational Marginal Price (EUR/MWh)') "
   ]
  },
  {
   "cell_type": "markdown",
   "metadata": {},
   "source": [
    "### Change the scnario \n",
    "\n",
    "* Set <b style=\"color:Tomato;\">'scn_name':</b> to  'NEP 2035' and recalculate. \n",
    "\n",
    "\n",
    "\n",
    "****\n",
    "\n",
    "\n"
   ]
  },
  {
   "cell_type": "code",
   "execution_count": null,
   "metadata": {
    "collapsed": true
   },
   "outputs": [],
   "source": [
    "# delete eTraGo object\n",
    "#del network"
   ]
  },
  {
   "cell_type": "markdown",
   "metadata": {},
   "source": [
    "# LOPF Calculation of Schleswig-Holstein <a class=\"anchor\" id=\"shcalc\"></a>\n",
    "\n",
    "\n",
    "<div style=\"text-align: right\"> \n",
    "[top](#toc) </div>\n",
    "\n",
    "\n",
    "### Case Schleswig-Holstein\n",
    "\n",
    "The data set of Schleswing-Holstein is an extract of the main data set and works as an island. The power production and flows of the  adjacent network areas are neglected. Therefore, the installed capacity and power production is very high.\n",
    "\n",
    "For our analysis we used serveral plotting options of eTraGo of [etrago.tools.plot](http://etrago.readthedocs.io/en/latest/api/etrago.tools.html#module-etrago.tools.plot).\n",
    "\n",
    "\n",
    "### Make your settings\n"
   ]
  },
  {
   "cell_type": "code",
   "execution_count": null,
   "metadata": {
    "collapsed": true
   },
   "outputs": [],
   "source": [
    "args_sh = {# Setup and Configuration:\n",
    "        'db': 'oedb',                # db session\n",
    "        'gridversion': \"v0.2.11\",         # None for model_draft or Version number (e.g. v0.2.11) for grid schema\n",
    "        'method': 'lopf',            # lopf or pf\n",
    "        'pf_post_lopf': False,       # state whether you want to perform a pf after a lopf simulation\n",
    "        'start_snapshot': 4393,      # 6552\n",
    "        'end_snapshot' : 4394,\n",
    "        'scn_name': 'SH NEP 2035',   # state which scenario you want to run: Status Quo, NEP 2035, eGo100\n",
    "        'solver': 'glpk',            # glpk, cplex or gurobi\n",
    "        # Export options:\n",
    "        'lpfile': False,             # state if and where you want to save pyomo's lp file: False or /path/tofolder\n",
    "        'results': False,            # state if and where you want to save results as csv: False or /path/tofolder\n",
    "        'export': False,             # state if you want to export the results back to the database\n",
    "        # Settings:        \n",
    "        'storage_extendable':False,   # state if you want storages to be installed at each node if necessary.\n",
    "        'generator_noise':True,      # state if you want to apply a small generator noise \n",
    "        'reproduce_noise': False,    # state if you want to use a predefined set of random noise for the given.\n",
    "                                     # scenario. if so, provide path, e.g. 'noise_values.csv'\n",
    "        'minimize_loading':False,\n",
    "        # Clustering:\n",
    "        'k_mean_clustering': False,  # state if you want to perform a k-means clustering on the given network. \n",
    "                                     # State False or the value k (e.g. 20).\n",
    "        'network_clustering': False, # state if you want to perform a clustering of HV buses to EHV buses.\n",
    "        # Simplifications:\n",
    "        'parallelisation':False,     # state if you want to run snapshots parallely.\n",
    "        'skip_snapshots':False,\n",
    "        'line_grouping': False,      # state if you want to group lines running between the same buses.\n",
    "        'branch_capacity_factor': 0.7, # globally extend or lower branch capacities\n",
    "        'load_shedding':False,       # meet the demand at very high cost; for debugging purposes.\n",
    "        'comments':None }"
   ]
  },
  {
   "cell_type": "code",
   "execution_count": null,
   "metadata": {
    "collapsed": true
   },
   "outputs": [],
   "source": [
    "# Start eTraGo calculation with args setting\n",
    "# create network object \n",
    "network = etrago(args_sh)"
   ]
  },
  {
   "cell_type": "code",
   "execution_count": null,
   "metadata": {
    "collapsed": true
   },
   "outputs": [],
   "source": [
    "# plot generation distripution\n",
    "gen_dist(network, techs=None, snapshot=1,n_cols=3,gen_size=0.02)"
   ]
  },
  {
   "cell_type": "code",
   "execution_count": null,
   "metadata": {
    "collapsed": true
   },
   "outputs": [],
   "source": [
    "# plot stacked sum of nominal power for each generator type and timestep\n",
    "plot_stacked_gen(network, resolution=\"MW\")"
   ]
  },
  {
   "cell_type": "code",
   "execution_count": null,
   "metadata": {
    "collapsed": true
   },
   "outputs": [],
   "source": [
    "# plots\n",
    "# make a line loading plot\n",
    "fig,ax = plt.subplots(1,1)\n",
    "fig.set_size_inches(12,10)\n",
    "plot_line_loading(network)"
   ]
  },
  {
   "cell_type": "code",
   "execution_count": null,
   "metadata": {
    "collapsed": true
   },
   "outputs": [],
   "source": [
    "# plot to show extendable storages\n",
    "storage_expansion(network)"
   ]
  },
  {
   "cell_type": "code",
   "execution_count": null,
   "metadata": {
    "collapsed": true
   },
   "outputs": [],
   "source": [
    "# curtailment per carrier / energy source\n",
    "curtailment(network, carrier='wind_onshore')"
   ]
  },
  {
   "cell_type": "code",
   "execution_count": null,
   "metadata": {
    "collapsed": true
   },
   "outputs": [],
   "source": [
    "# delete network object\n",
    "del network"
   ]
  },
  {
   "cell_type": "markdown",
   "metadata": {},
   "source": [
    "# Using pf after lopf  Calculation of Germany and neighbours with 30 nodes  <a class=\"anchor\" id=\"snapshot\"></a>\n",
    "\n",
    "<div style=\"text-align: right\"> \n",
    "[top](#toc) </div>\n",
    "\n",
    "\n",
    "In order to compute the grid losses we add an power flow calculation after our liniar opf calculation by setting *pf_post_lopf = True*. \n",
    "\n"
   ]
  },
  {
   "cell_type": "code",
   "execution_count": null,
   "metadata": {
    "collapsed": true
   },
   "outputs": [],
   "source": [
    "args_lopf_pf = {# Setup and Configuration:\n",
    "        'db': 'oedb',                # db session\n",
    "        'gridversion': \"v0.2.11\",    # None for model_draft or Version number (e.g. v0.2.11) for grid schema\n",
    "        'method': 'lopf',            # lopf or pf\n",
    "        'pf_post_lopf': True,        # state whether you want to perform a pf after a lopf simulation\n",
    "        'start_snapshot': 4393, \n",
    "        'end_snapshot' : 4417,\n",
    "        'scn_name': 'NEP 2035',      # state which scenario you want to run: Status Quo, NEP 2035, eGo100\n",
    "        'solver': 'glpk',            # glpk, cplex or gurobi\n",
    "        # Export options:\n",
    "        'lpfile': False,             # state if and where you want to save pyomo's lp file: False or /path/tofolder\n",
    "        'results': False,            # state if and where you want to save results as csv: False or /path/tofolder\n",
    "        'export': False,             # state if you want to export the results back to the database\n",
    "        # Settings:        \n",
    "        'storage_extendable':False,   # state if you want storages to be installed at each node if necessary.\n",
    "        'generator_noise':True,      # state if you want to apply a small generator noise \n",
    "        'reproduce_noise': False,    # state if you want to use a predefined set of random noise for the given.\n",
    "                                     # scenario. if so, provide path, e.g. 'noise_values.csv'\n",
    "        'minimize_loading':False,\n",
    "        # Clustering:\n",
    "        'k_mean_clustering': 30,  # state if you want to perform a k-means clustering on the given network. \n",
    "                                     # State False or the value k (e.g. 20).\n",
    "        'network_clustering': False, # state if you want to perform a clustering of HV buses to EHV buses.\n",
    "        # Simplifications:\n",
    "        'parallelisation':False,     # state if you want to run snapshots parallely.\n",
    "        'skip_snapshots':False,\n",
    "        'line_grouping': False,      # state if you want to group lines running between the same buses.\n",
    "        'branch_capacity_factor': 0.7, # globally extend or lower branch capacities\n",
    "        'load_shedding':False,       # meet the demand at very high cost; for debugging purposes.\n",
    "        'comments':None }"
   ]
  },
  {
   "cell_type": "code",
   "execution_count": null,
   "metadata": {
    "collapsed": true
   },
   "outputs": [],
   "source": [
    "# Start eTraGo calculation with args setting\n",
    "# create network object\n",
    "network = etrago(args_lopf_pf)"
   ]
  },
  {
   "cell_type": "code",
   "execution_count": null,
   "metadata": {
    "collapsed": true
   },
   "outputs": [],
   "source": [
    "# plot stacked sum of nominal power for each generator type and timestep\n",
    "plot_stacked_gen(network, resolution=\"MW\")\n",
    "#plt.close()"
   ]
  },
  {
   "cell_type": "code",
   "execution_count": null,
   "metadata": {
    "collapsed": true
   },
   "outputs": [],
   "source": [
    "# plots\n",
    "# make a line loading plot\n",
    "fig,ax = plt.subplots(1,1)\n",
    "fig.set_size_inches(8,8)\n",
    "\n",
    "plot_line_loading(network)"
   ]
  },
  {
   "cell_type": "markdown",
   "metadata": {},
   "source": [
    "### Calculate grid losses\n",
    "\n",
    "We are using the function [calc_line_losses(network)](http://etrago.readthedocs.io/en/latest/_modules/etrago/tools/utilities.html#calc_line_losses)."
   ]
  },
  {
   "cell_type": "code",
   "execution_count": null,
   "metadata": {
    "collapsed": true
   },
   "outputs": [],
   "source": [
    "\n",
    "# calcualte total grid losses\n",
    "calc_line_losses(network)"
   ]
  },
  {
   "cell_type": "markdown",
   "metadata": {},
   "source": [
    "### Plot line costs"
   ]
  },
  {
   "cell_type": "code",
   "execution_count": null,
   "metadata": {
    "collapsed": true
   },
   "outputs": [],
   "source": [
    "# Line losses\n",
    "# calculate apparent power S = sqrt(p² + q²) [in MW]\n",
    "s0_lines = ((network.lines_t.p0**2 + network.lines_t.q0**2).\\\n",
    "    apply(np.sqrt)) \n",
    "\n",
    "# calculate current I = S / U [in A]\n",
    "i0_lines = np.multiply(s0_lines, 1000000) / np.multiply(network.lines.v_nom, 1000) \n",
    "\n",
    "# calculate losses per line and timestep network.lines_t.line_losses = I² * R [in MW]\n",
    "network.lines_t.losses = np.divide(i0_lines**2 * network.lines.r, 1000000)\n",
    "\n",
    "# calculate total losses per line [in MW]\n",
    "network.lines = network.lines.assign(losses=np.sum(network.lines_t.losses).values)\n",
    "\n",
    "# prepare plotting\n",
    "timestep =1\n",
    "cmap = plt.cm.jet\n",
    "\n",
    "fig,ax = plt.subplots(1,1)\n",
    "fig.set_size_inches(6,4)\n",
    "\n",
    "# do the plotting\n",
    "lc= network.plot(line_colors=network.lines.losses, line_cmap=cmap,\n",
    "                  title=\"Line loading\", line_widths=0.55)\n",
    "\n",
    "cb = plt.colorbar(lc[1])\n",
    "cb.set_label('Locational line losses in (EUR/MWh)')\n",
    "plt.show()"
   ]
  },
  {
   "cell_type": "markdown",
   "metadata": {},
   "source": [
    "### Plot the reactive power"
   ]
  },
  {
   "cell_type": "code",
   "execution_count": null,
   "metadata": {
    "collapsed": true
   },
   "outputs": [],
   "source": [
    "# get snapshot\n",
    "now = network.snapshots[2]\n",
    "#plot the reactive power\n",
    "fig,ax = plt.subplots(1,1)\n",
    "\n",
    "fig.set_size_inches(6,6)\n",
    "\n",
    "q = network.buses_t.q.sum()#.loc[now]\n",
    "\n",
    "bus_colors = pd.Series(\"r\",network.buses.index)\n",
    "bus_colors[q< 0.] = \"b\"\n",
    "\n",
    "\n",
    "network.plot(bus_sizes=abs(q)*0.005,ax=ax,bus_colors=bus_colors,title=\"Reactive power feed-in (red=+ve, blue=-ve)\")"
   ]
  },
  {
   "cell_type": "markdown",
   "metadata": {},
   "source": [
    "## Have a  look into the Programm on Github\n",
    "\n",
    "* <https://github.com/openego/eTraGo>"
   ]
  }
 ],
 "metadata": {
  "kernelspec": {
   "display_name": "Python 3",
   "language": "python",
   "name": "python3"
  },
  "language_info": {
   "codemirror_mode": {
    "name": "ipython",
    "version": 3
   },
   "file_extension": ".py",
   "mimetype": "text/x-python",
   "name": "python",
   "nbconvert_exporter": "python",
   "pygments_lexer": "ipython3",
   "version": "3.5.5"
  }
 },
 "nbformat": 4,
 "nbformat_minor": 2
}
