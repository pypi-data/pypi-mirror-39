{
 "cells": [
  {
   "cell_type": "markdown",
   "metadata": {},
   "source": [
    "# Lens Tutorial\n",
    "\n",
    "\n",
    "*Lens* is a library for exploring data in Pandas DataFrames. It computes single\n",
    "column summary statistics and estimates the correlation between columns.\n",
    "\n",
    "We wrote *Lens* when we realised that the initial steps of acquiring a new\n",
    "dataset were almost formulaic: what data type is in this column? How many null\n",
    "values are there? Which columns are correlated? What's the distribution of this\n",
    "value? Lens calculates all this for you, and provides convenient visualisation\n",
    "of this information.\n",
    "\n",
    "You can use *Lens* to analyse new datasets as well as using it to compare how\n",
    "DataFrames change over time.\n",
    "\n",
    "## Using lens\n",
    "\n",
    "To start using *Lens* you need to import the library:"
   ]
  },
  {
   "cell_type": "code",
   "execution_count": null,
   "metadata": {},
   "outputs": [],
   "source": [
    "import lens"
   ]
  },
  {
   "cell_type": "markdown",
   "metadata": {},
   "source": [
    "*Lens* has two key functions; ``lens.summarise`` for generating a Lens Summary from a DataFrame and\n",
    "``lens.explore`` for visualising the results of a summary.\n",
    "\n",
    "For this tutorial we are going to use *Lens* to analyse the Room Occupancy\n",
    "dataset provided in the [Machine Learning Repository of UC Irvine](https://archive.ics.uci.edu/ml/datasets/Occupancy+Detection+). It includes \n",
    "ambient information about a room such as Temperature, Humidity,\n",
    "Light, CO2 and whether it was occupied. The goal is to\n",
    "predict occupancy based on the room measurements.\n",
    "\n",
    "We read the training portion of the dataset into pandas directly from the UCI repository:"
   ]
  },
  {
   "cell_type": "code",
   "execution_count": 24,
   "metadata": {},
   "outputs": [],
   "source": [
    "import pandas as pd\n",
    "from urllib.request import urlopen\n",
    "from io import BytesIO\n",
    "from zipfile import ZipFile\n",
    "\n",
    "remote_zip = urlopen('https://archive.ics.uci.edu/ml/machine-learning-databases/00357/occupancy_data.zip')\n",
    "df = pd.read_csv(BytesIO(ZipFile(BytesIO(remote_zip.read())).read('datatraining.txt')))\n",
    "\n",
    "# Split a numerical variable to have additional categorical variables\n",
    "df['Humidity_cat'] = pd.cut(df['Humidity'], 5,\n",
    "                            labels=['low', 'medium-low', 'medium',\n",
    "                                    'medium-high', 'high']).astype('str')"
   ]
  },
  {
   "cell_type": "code",
   "execution_count": null,
   "metadata": {
    "scrolled": false
   },
   "outputs": [],
   "source": [
    "print('Number of rows in dataset: {}'.format(len(df.index)))\n",
    "df.head()"
   ]
  },
  {
   "cell_type": "markdown",
   "metadata": {},
   "source": [
    "## Creating the summary\n",
    "\n",
    "When you have a DataFrame that you'd like to analyse the first thing to do is\n",
    "to create a Lens ``Summary`` object."
   ]
  },
  {
   "cell_type": "code",
   "execution_count": null,
   "metadata": {},
   "outputs": [],
   "source": [
    "ls = lens.summarise(df)"
   ]
  },
  {
   "cell_type": "markdown",
   "metadata": {},
   "source": [
    "The `summarise` function takes a DataFrame and returns a Lens ``Summary`` object. The\n",
    "time this takes to run is dependent on both the number of rows and the number of\n",
    "columns in the DataFrame. It will use all cores available on the machine, so you \n",
    "might want to use a SherlockML instance with more cores to speed up the computation \n",
    "of the summary. There are additional optional parameters that can be\n",
    "passed in. Details of these can be found in the [summarise API docs](https://docs.sherlockml.com/lens/summarise_api.html#lens.summarise.summarise).\n",
    "\n",
    "Given that creating the summary is computationally intensive, *Lens* provides a way to save this summary to a JSON file on disk and recover a saved summary through the `to_json` and `from_json` methods of `lens.summary`. This allows to store it for future analysis or to share it with collaborators:"
   ]
  },
  {
   "cell_type": "code",
   "execution_count": null,
   "metadata": {},
   "outputs": [],
   "source": [
    "# Saving to JSON\n",
    "ls.to_json('room_occupancy_lens_summary.json')\n",
    "\n",
    "# Reading from a file\n",
    "ls_from_json = lens.Summary.from_json('room_occupancy_lens_summary.json')"
   ]
  },
  {
   "cell_type": "markdown",
   "metadata": {},
   "source": [
    "The `LensSummary` object contains the information computed from the dataset and provides methods to access both column-wise and whole dataset information. It is designed to be used programatically, and information about the methods can be accessed in the [LensSummary API docs](https://docs.sherlockml.com/lens/summarise_api.html#lens.summarise.Summary)."
   ]
  },
  {
   "cell_type": "code",
   "execution_count": null,
   "metadata": {},
   "outputs": [],
   "source": [
    "print(ls.columns)"
   ]
  },
  {
   "cell_type": "markdown",
   "metadata": {},
   "source": [
    "## Create explorer\n",
    "\n",
    "Lens provides a function that converts a Lens Summary into an `Explorer` object.\n",
    "This can be used to see the summary information in tabular form and to display\n",
    "plots."
   ]
  },
  {
   "cell_type": "code",
   "execution_count": null,
   "metadata": {},
   "outputs": [],
   "source": [
    "explorer = lens.explore(ls)"
   ]
  },
  {
   "cell_type": "markdown",
   "metadata": {},
   "source": [
    "Coming back to our room occupancy dataset, the first thing that we'd like to\n",
    "know is a high-level overview of the data."
   ]
  },
  {
   "cell_type": "markdown",
   "metadata": {},
   "source": [
    "### Describe\n",
    "\n",
    "To show a general description of the DataFrame call the `describe` function.\n",
    "This is similar to Pandas' ``DataFrame.describe`` but also shows information for non-numeric columns."
   ]
  },
  {
   "cell_type": "code",
   "execution_count": null,
   "metadata": {},
   "outputs": [],
   "source": [
    "explorer.describe()"
   ]
  },
  {
   "cell_type": "markdown",
   "metadata": {},
   "source": [
    "We can see that our dataset has 8143 rows and all the rows are complete. This\n",
    "is a very clean dataset! It also tells us the columns and their types, including a `desc` field that explains how *Lens* will treat this column."
   ]
  },
  {
   "cell_type": "markdown",
   "metadata": {},
   "source": [
    "### Column details\n",
    "\n",
    "To see type-specific column details, use the `column_details` method. Used on a numeric column such as `Temperature`, it provides summary statistics for the data in that column, including minimun, maximum, mean, median, and standard deviation."
   ]
  },
  {
   "cell_type": "code",
   "execution_count": null,
   "metadata": {},
   "outputs": [],
   "source": [
    "explorer.column_details('Temperature')"
   ]
  },
  {
   "cell_type": "markdown",
   "metadata": {},
   "source": [
    "We saw in the ouput of `explorer.describe()` that `Occupancy`, our target variable, is a categorical column with two unique values. With `explorer.column_details` we can obtain a frequency table for these two categories - empty (0) or occupied (1):"
   ]
  },
  {
   "cell_type": "code",
   "execution_count": null,
   "metadata": {},
   "outputs": [],
   "source": [
    "explorer.column_details('Occupancy')"
   ]
  },
  {
   "cell_type": "markdown",
   "metadata": {},
   "source": [
    "### Correlation\n",
    "\n",
    "As a first step in exploring the relationships between the columns we can look at the correlation coefficients. `explorer.correlation()` returns a Spearman rank-order correlation coefficient matrix in tabular form."
   ]
  },
  {
   "cell_type": "code",
   "execution_count": null,
   "metadata": {},
   "outputs": [],
   "source": [
    "explorer.correlation()"
   ]
  },
  {
   "cell_type": "markdown",
   "metadata": {},
   "source": [
    "However, parsing a correlation table becomes difficult when there are many columns in the dataset. To get a better overview, we can plot the correlation matrix as a heatmap, which immediately highlights a group of columns correlated with `Occupancy`: `Temperature`, `Light`, and `CO2`."
   ]
  },
  {
   "cell_type": "code",
   "execution_count": null,
   "metadata": {},
   "outputs": [],
   "source": [
    "explorer.correlation_plot()"
   ]
  },
  {
   "cell_type": "markdown",
   "metadata": {},
   "source": [
    "### Distribution and Cumulative Distribution"
   ]
  },
  {
   "cell_type": "markdown",
   "metadata": {},
   "source": [
    "We can explore the distribution of numerical variables through the `distribution_plot` and `cdf_plot` functions:"
   ]
  },
  {
   "cell_type": "code",
   "execution_count": null,
   "metadata": {},
   "outputs": [],
   "source": [
    "explorer.distribution_plot('Temperature')"
   ]
  },
  {
   "cell_type": "code",
   "execution_count": null,
   "metadata": {},
   "outputs": [],
   "source": [
    "explorer.cdf_plot('Temperature')"
   ]
  },
  {
   "cell_type": "markdown",
   "metadata": {},
   "source": [
    "### Pairwise plot\n",
    "\n",
    "Once we know that certain columns might be correlated, it is useful to visually explore that correlation. This would typically be done through a scatter plot, and *Lens* has computed a 2D Kernel Density Estimate of the scatter plot that can be accessed through `pairwise_density_plot`."
   ]
  },
  {
   "cell_type": "code",
   "execution_count": null,
   "metadata": {
    "scrolled": false
   },
   "outputs": [],
   "source": [
    "explorer.pairwise_density_plot('Temperature', 'Humidity')"
   ]
  },
  {
   "cell_type": "markdown",
   "metadata": {},
   "source": [
    "`pairwise_density_plot` can also show the relationship between a numeric column and a categorical column. In this case, a 1D KDE is computed for each of the categories in the categorical column."
   ]
  },
  {
   "cell_type": "code",
   "execution_count": null,
   "metadata": {},
   "outputs": [],
   "source": [
    "explorer.pairwise_density_plot('Temperature', 'Occupancy')"
   ]
  },
  {
   "cell_type": "markdown",
   "metadata": {
    "collapsed": true
   },
   "source": [
    "### Crosstab\n",
    "\n",
    "The pairwise relationship between two categorical variables can also be seen as a cross-tabulation: how many observations exist in the dataset of the combination of categories in the two variables. This can be seen as a table or as a plot, which can be useful when the number of categories is very large."
   ]
  },
  {
   "cell_type": "code",
   "execution_count": null,
   "metadata": {},
   "outputs": [],
   "source": [
    "explorer.crosstab('Occupancy', 'Humidity_cat')"
   ]
  },
  {
   "cell_type": "code",
   "execution_count": null,
   "metadata": {},
   "outputs": [],
   "source": [
    "explorer.pairwise_density_plot('Occupancy', 'Humidity_cat')"
   ]
  },
  {
   "cell_type": "markdown",
   "metadata": {},
   "source": [
    "## Interactive widget\n",
    "\n",
    "An alternative way of quickly exploring the plots available in *Lens* is through a Jupyter widget provided by `lens.interactive_explore`. Creating it is as easy as running this function on a *Lens* `Summary`.\n",
    "\n",
    "Note that if you are reading this tutorial through the online docs the output of the following cell will not be interactive as it needs to run within a notebook. Download the notebook from the links below to try out the interactive explorer!"
   ]
  },
  {
   "cell_type": "code",
   "execution_count": null,
   "metadata": {
    "scrolled": false
   },
   "outputs": [],
   "source": [
    "lens.interactive_explore(ls)"
   ]
  },
  {
   "cell_type": "code",
   "execution_count": null,
   "metadata": {},
   "outputs": [],
   "source": []
  }
 ],
 "metadata": {
  "kernelspec": {
   "display_name": "Python 3",
   "language": "python",
   "name": "python3"
  },
  "language_info": {
   "codemirror_mode": {
    "name": "ipython",
    "version": 3
   },
   "file_extension": ".py",
   "mimetype": "text/x-python",
   "name": "python",
   "nbconvert_exporter": "python",
   "pygments_lexer": "ipython3",
   "version": "3.6.3"
  },
  "widgets": {
   "state": {
    "496016afdc01477d9f515f2c073feb4f": {
     "views": [
      {
       "cell_index": 36
      }
     ]
    }
   },
   "version": "1.2.0"
  }
 },
 "nbformat": 4,
 "nbformat_minor": 1
}
