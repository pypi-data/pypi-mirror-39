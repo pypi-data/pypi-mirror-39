{
 "cells": [
  {
   "cell_type": "markdown",
   "metadata": {},
   "source": [
    "# Learning the IK of the arm of a [Poppy robot](http://www.poppy-project.org) using Explauto"
   ]
  },
  {
   "cell_type": "markdown",
   "metadata": {},
   "source": [
    "Explauto comes with a [PoppyEnvironment](http://flowersteam.github.io/explauto/explauto.environment.html#explauto.environment.poppy.poppy_env.PoppyEnvironment) which links a [Poppy robot](http://www.poppy-project.org) to the explauto framework. \n",
    "\n",
    "Those robots, also developed in the [Flowers team](https://flowers.inria.fr), were designed as an open-source platform for the creation, use and sharing of interactive 3D printed robots."
   ]
  },
  {
   "cell_type": "markdown",
   "metadata": {},
   "source": [
    "![Alt text](https://flowers.inria.fr/poppy/wp-content/uploads/banners/walk_detail_hands-1100x380.jpg)"
   ]
  },
  {
   "cell_type": "markdown",
   "metadata": {},
   "source": [
    "The [PoppyEnvironment](http://flowersteam.github.io/explauto/explauto.environment.html#explauto.environment.poppy.poppy_env.PoppyEnvironment) works with:\n",
    "* a physical Poppy robot (either a [Humanoid](https://github.com/poppy-project/poppy-humanoid), a [Torso](https://github.com/poppy-project/poppy-torso) or an [Ergo Jr](https://github.com/poppy-project/poppy-ergo-jr))\n",
    "* or with their simulated equivalent in [V-REP](http://www.coppeliarobotics.com)"
   ]
  },
  {
   "cell_type": "markdown",
   "metadata": {},
   "source": [
    "To illustrate how explauto can be used with poppy robots, we will setup a simple experiment where we will learn the inverse model of one of the arm of the Poppy Humanoid."
   ]
  },
  {
   "cell_type": "markdown",
   "metadata": {},
   "source": [
    "This problem is called [Inverse Kinematics](https://en.wikipedia.org/wiki/Inverse_kinematics) (IK) and consists in computing the joint parameters (angles q) that provide a desired position *p* of the end-effector in the cartesian space.\n",
    "\n",
    "![IK example](https://studywolf.files.wordpress.com/2013/08/rotated_robot_coordinate_frames1.png)\n",
    "(image source [studywolf blog](https://studywolf.wordpress.com))"
   ]
  },
  {
   "cell_type": "markdown",
   "metadata": {},
   "source": [
    "To be more concrete, here it means to learn to position the hand effector of the robot in the 3D space."
   ]
  },
  {
   "cell_type": "markdown",
   "metadata": {},
   "source": [
    "We will learn this kinematics in simulation, using the V-REP robot simulator, and then we will show how this can be used and tested on a real robot."
   ]
  },
  {
   "cell_type": "markdown",
   "metadata": {},
   "source": [
    "**In the following, we assume that you have installed the required libraries to control a Poppy in V-REP. If this is not the case, please refer to the [official documentation](http://poppy-project.github.io/poppy-docs/) and in particular this [notebook](https://github.com/poppy-project/poppy-humanoid/blob/master/software/samples/notebooks/Controlling%20a%20Poppy%20humanoid%20in%20V-REP%20using%20pypot.ipynb).** You should make sure that you have installed the following python packages:\n",
    "\n",
    "* [pypot>=2.10](https://github.com/poppy-project/pypot)\n",
    "* [poppy-creature>=1.8](https://github.com/poppy-project/poppy-creature)\n",
    "* [poppy-humanoid>=1.1](https://github.com/poppy-project/poppy-humanoid)"
   ]
  },
  {
   "cell_type": "markdown",
   "metadata": {},
   "source": [
    "You should also have installed:\n",
    "\n",
    "* [explauto](https://github.com/flowersteam/explauto)>=1.2."
   ]
  },
  {
   "cell_type": "markdown",
   "metadata": {},
   "source": [
    "# 1. Learn Poppy IK in simulation"
   ]
  },
  {
   "cell_type": "markdown",
   "metadata": {},
   "source": [
    "## Setup your Poppy Humanoid in V-REP"
   ]
  },
  {
   "cell_type": "markdown",
   "metadata": {},
   "source": [
    "First, you will need to launch V-REP. Once it is started, you can use the following code to instantiate a Poppy Humanoid in the simulator."
   ]
  },
  {
   "cell_type": "code",
   "execution_count": 1,
   "metadata": {
    "collapsed": false
   },
   "outputs": [],
   "source": [
    "from poppy.creatures import PoppyHumanoid\n",
    "\n",
    "poppy = PoppyHumanoid(simulator='vrep')"
   ]
  },
  {
   "cell_type": "markdown",
   "metadata": {},
   "source": [
    "You should see something like: ![Poppy Humanoid in V-REP](http://poppy-project.github.io/poppy-docs/img/humanoid/vrep.png)\n",
    "\n",
    "*Note: if you have a connection error or see a popup in V-REP, please refer to this [documentation](http://poppy-project.github.io/poppy-docs/#test-your-installation) on how to solve the problem.*"
   ]
  },
  {
   "cell_type": "markdown",
   "metadata": {},
   "source": [
    "## Setup the PoppyEnvironment in Explauto"
   ]
  },
  {
   "cell_type": "markdown",
   "metadata": {},
   "source": [
    "Assuming that you have explauto installed and setup and that you are familiar with Explauto basic functionalities (otherwise you should start by following this [introduction notebook](https://github.com/flowersteam/explauto/blob/master/notebook/full_tutorial.ipynb)), we will now show you how Explauto can be used with the PoppyEnvironment and more precisely the Humanoid you just created in V-REP."
   ]
  },
  {
   "cell_type": "code",
   "execution_count": 2,
   "metadata": {
    "collapsed": true
   },
   "outputs": [],
   "source": [
    "from explauto.environment.poppy import PoppyEnvironment"
   ]
  },
  {
   "cell_type": "markdown",
   "metadata": {},
   "source": [
    "To instantiate a PoppyEnvironment in Explauto, you will need to define a few arguments:\n",
    "* the **poppy robot** we want to use\n",
    "* which **motors** to use: here we will use the left arm of the robot which can be directly access via the dedicated alias *l_arm*\n",
    "* the **move duration**, meaning how long will take each motor command you sent to the robot\n",
    "* a **tracker** used to determine the tracked object position which will be used as the sensori output. When using a V-REP simulated robot you can directly use the robot itself as its own tracker and retrieve any part of the robot 3D position. That is what we will do here.\n",
    "* the **tracked object** - we will track the left forearm of the robot as we want to learn its inverse kinematics\n",
    "* and finally, the usual Explauto environment configuration: the motor bounds **(m_mins, m_maxs)** and sensori bounds **(s_mins, s_maxs)**."
   ]
  },
  {
   "cell_type": "code",
   "execution_count": 3,
   "metadata": {
    "collapsed": false
   },
   "outputs": [],
   "source": [
    "# We will use the left arm of the robot\n",
    "motors = poppy.l_arm\n",
    "# The move duration (in s)\n",
    "move_duration = 2.0\n",
    "\n",
    "# As explained above, we will use the simulated robot as its own tracker\n",
    "# Through V-REP API, we can directly retrieve the 3D position of any part of the robot\n",
    "tracker = poppy\n",
    "\n",
    "# You can use any object present in the V-REP scene here\n",
    "tracked_obj = 'l_forearm_visual'\n",
    "\n",
    "# The motors bounds for each one of the 4 motors in the arm\n",
    "m_mins = [-15, 0, -90, -90]\n",
    "m_maxs = [90, 90, 90, 0]\n",
    "\n",
    "# The sensori bounds of the more or less reachable 3D space\n",
    "s_mins = [-0.3, -0.3, 0.4]\n",
    "s_maxs = [0.35, 0.3, 0.8]"
   ]
  },
  {
   "cell_type": "markdown",
   "metadata": {},
   "source": [
    "Now that we have our config, we can create our PoppyEnvironment."
   ]
  },
  {
   "cell_type": "code",
   "execution_count": 4,
   "metadata": {
    "collapsed": false
   },
   "outputs": [],
   "source": [
    "env = PoppyEnvironment(poppy, \n",
    "                       motors, move_duration,\n",
    "                       poppy, tracked_obj,\n",
    "                       m_mins, m_maxs, s_mins, s_maxs)"
   ]
  },
  {
   "cell_type": "markdown",
   "metadata": {},
   "source": [
    "## Run a few motor commands"
   ]
  },
  {
   "cell_type": "markdown",
   "metadata": {},
   "source": [
    "Now that our environment is setup, we can use it to run a few motor commands and check that we obtain the 3D position of the forearm. Using the same procedure as describe in the [introduction notebook](https://github.com/flowersteam/explauto/blob/master/notebook/full_tutorial.ipynb) we can generate a few random motor commands (within the chosen motor bounds) and send them to the environment. We will also store the reached 3D positions."
   ]
  },
  {
   "cell_type": "code",
   "execution_count": 5,
   "metadata": {
    "collapsed": false
   },
   "outputs": [],
   "source": [
    "reached_point = []\n",
    "\n",
    "for m in env.random_motors(n=10):\n",
    "    reached_point.append(env.update(m))"
   ]
  },
  {
   "cell_type": "markdown",
   "metadata": {},
   "source": [
    "You should see the left arm of your robot moves into some various positions. You can plot the reached positions and check that everything works well:"
   ]
  },
  {
   "cell_type": "code",
   "execution_count": 6,
   "metadata": {
    "collapsed": false
   },
   "outputs": [
    {
     "name": "stdout",
     "output_type": "stream",
     "text": [
      "Populating the interactive namespace from numpy and matplotlib\n"
     ]
    },
    {
     "name": "stderr",
     "output_type": "stream",
     "text": [
      "/Users/pierrerouanet/.pyenv/versions/anaconda-2.4.0/lib/python2.7/site-packages/matplotlib/collections.py:590: FutureWarning: elementwise comparison failed; returning scalar instead, but in the future will perform elementwise comparison\n",
      "  if self._edgecolors == str('face'):\n"
     ]
    },
    {
     "data": {
      "text/plain": [
       "<mpl_toolkits.mplot3d.art3d.Path3DCollection at 0x109258dd0>"
      ]
     },
     "execution_count": 6,
     "metadata": {},
     "output_type": "execute_result"
    },
    {
     "data": {
      "image/png": "[encoded data removed]",
      "text/plain": [
       "<matplotlib.figure.Figure at 0x109133210>"
      ]
     },
     "metadata": {},
     "output_type": "display_data"
    }
   ],
   "source": [
    "%pylab inline\n",
    "\n",
    "ax = axes(projection='3d')\n",
    "x, y, z = array(reached_point).T\n",
    "ax.scatter3D(x, y, z)"
   ]
  },
  {
   "cell_type": "markdown",
   "metadata": {},
   "source": [
    "## Setup and run an Explauto experiment with Poppy"
   ]
  },
  {
   "cell_type": "markdown",
   "metadata": {},
   "source": [
    "Now we want to run the real experiment and really start learning the robot IK."
   ]
  },
  {
   "cell_type": "markdown",
   "metadata": {},
   "source": [
    "### Setup the models"
   ]
  },
  {
   "cell_type": "markdown",
   "metadata": {},
   "source": [
    "In this notebook, we will use a very simple setup: **random goal babling** as the interest model and **nearest neighbor** for the sensori-motor model. Of course, the idea is to show you how to setup a simple experiment with Poppy so you can freely design your own experiment with more complex and more interesting models."
   ]
  },
  {
   "cell_type": "code",
   "execution_count": 7,
   "metadata": {
    "collapsed": true
   },
   "outputs": [],
   "source": [
    "from explauto import InterestModel, SensorimotorModel\n",
    "\n",
    "sm_model = SensorimotorModel.from_configuration(env.conf, \n",
    "                                                'nearest_neighbor', \n",
    "                                                'default')\n",
    "\n",
    "im_model = InterestModel.from_configuration(env.conf, \n",
    "                                            env.conf.s_dims,\n",
    "                                            'random')"
   ]
  },
  {
   "cell_type": "markdown",
   "metadata": {},
   "source": [
    "### Setup the experiment"
   ]
  },
  {
   "cell_type": "markdown",
   "metadata": {},
   "source": [
    "The experiment with a Poppy (real or simulated) can be defined exactly as any other experiment in Explauto:"
   ]
  },
  {
   "cell_type": "code",
   "execution_count": 8,
   "metadata": {
    "collapsed": false
   },
   "outputs": [],
   "source": [
    "from explauto import Agent, Experiment\n",
    "\n",
    "agent = Agent(env.conf, sm_model, im_model)\n",
    "xp = Experiment(env, agent)"
   ]
  },
  {
   "cell_type": "markdown",
   "metadata": {},
   "source": [
    "### Define the testcases"
   ]
  },
  {
   "cell_type": "markdown",
   "metadata": {},
   "source": [
    "We will define a simple (and probably not so interesting for our task?) testcases. We will define a \"dense\" 3D grid of 3x3x3 points."
   ]
  },
  {
   "cell_type": "code",
   "execution_count": 9,
   "metadata": {
    "collapsed": false
   },
   "outputs": [
    {
     "data": {
      "text/plain": [
       "<mpl_toolkits.mplot3d.art3d.Path3DCollection at 0x1093dab90>"
      ]
     },
     "execution_count": 9,
     "metadata": {},
     "output_type": "execute_result"
    },
    {
     "data": {
      "image/png": "[encoded data removed]",
      "text/plain": [
       "<matplotlib.figure.Figure at 0x109133e90>"
      ]
     },
     "metadata": {},
     "output_type": "display_data"
    }
   ],
   "source": [
    "n = 3j\n",
    "X, Y, Z = numpy.mgrid[s_mins[0] + 0.1: s_maxs[0]:n - 0.1, \n",
    "                      s_mins[1] + 0.1: s_maxs[1]:n - 0.1, \n",
    "                      s_mins[2] + 0.1: s_maxs[2]:n - 0.1]\n",
    "\n",
    "dense_testcase = numpy.column_stack((X.flat, Y.flat, Z.flat))\n",
    "\n",
    "ax = axes(projection='3d')\n",
    "ax.scatter3D(X, Y, Z)"
   ]
  },
  {
   "cell_type": "markdown",
   "metadata": {},
   "source": [
    "For time saving purposes, we will run a rather short experiment (100 runs) and the results should thus be interpreted in that regard. Once again, feel free to play with the parameters of the experiment to make a more interesting one!"
   ]
  },
  {
   "cell_type": "code",
   "execution_count": 10,
   "metadata": {
    "collapsed": false
   },
   "outputs": [],
   "source": [
    "xp.evaluate_at([1, 10, 25, 50, 100], dense_testcase)"
   ]
  },
  {
   "cell_type": "markdown",
   "metadata": {},
   "source": [
    "## Run!"
   ]
  },
  {
   "cell_type": "markdown",
   "metadata": {},
   "source": [
    "Now that we have everything setup and ready, we can finally run the experiment.\n",
    "\n",
    "**Note that it will take about 5-10 minutes depending on how fast the simulation can run on your computer! So maybe you should first try with a shorter experiment.**"
   ]
  },
  {
   "cell_type": "code",
   "execution_count": 11,
   "metadata": {
    "collapsed": false
   },
   "outputs": [],
   "source": [
    "xp.run()"
   ]
  },
  {
   "cell_type": "markdown",
   "metadata": {},
   "source": [
    "## Plotting results and interpretation"
   ]
  },
  {
   "cell_type": "markdown",
   "metadata": {},
   "source": [
    "You can of course use the classical plot functionalities of Explauto:"
   ]
  },
  {
   "cell_type": "code",
   "execution_count": 12,
   "metadata": {
    "collapsed": false
   },
   "outputs": [
    {
     "data": {
      "image/png": "[encoded data removed]",
      "text/plain": [
       "<matplotlib.figure.Figure at 0x109219550>"
      ]
     },
     "metadata": {},
     "output_type": "display_data"
    }
   ],
   "source": [
    "ax = axes()\n",
    "xp.log.plot_learning_curve(ax)"
   ]
  },
  {
   "cell_type": "markdown",
   "metadata": {},
   "source": [
    "You can also plot the \"chosen\" vs \"reached\" point (here projected on the x, y plan)."
   ]
  },
  {
   "cell_type": "code",
   "execution_count": 13,
   "metadata": {
    "collapsed": false
   },
   "outputs": [
    {
     "data": {
      "text/plain": [
       "<matplotlib.legend.Legend at 0x109570110>"
      ]
     },
     "execution_count": 13,
     "metadata": {},
     "output_type": "execute_result"
    },
    {
     "data": {
      "image/png": "[encoded data removed]",
      "text/plain": [
       "<matplotlib.figure.Figure at 0x109505910>"
      ]
     },
     "metadata": {},
     "output_type": "display_data"
    }
   ],
   "source": [
    "ax = axes()\n",
    "title(('Random goal babbling'))\n",
    "\n",
    "xp.log.scatter_plot(ax, (('sensori', [0, 1]),))\n",
    "xp.log.scatter_plot(ax, (('choice', [0, 1]),), marker='.', color='red')\n",
    "\n",
    "\n",
    "legend(['reached hand positions', 'chosen goals'])"
   ]
  },
  {
   "cell_type": "markdown",
   "metadata": {
    "collapsed": true
   },
   "source": [
    "### Save the trained models so they can be reused later on"
   ]
  },
  {
   "cell_type": "markdown",
   "metadata": {},
   "source": [
    "You can save explauto models (both interest or sensorimotor) and reload them later. This is particularly useful when:\n",
    "\n",
    "* you run a very long experiment and want to regularly save the results so you can restore it\n",
    "* want to transfer trained models to another environment (of course they need to be close enough so the models correspond)"
   ]
  },
  {
   "cell_type": "markdown",
   "metadata": {},
   "source": [
    "Here, we will show you how to save the models of the experiment you just ran in simulation so they can be re-used on the real robot. To do that, we will use the [pickle](https://docs.python.org/2/library/pickle.html) python module."
   ]
  },
  {
   "cell_type": "code",
   "execution_count": 14,
   "metadata": {
    "collapsed": true
   },
   "outputs": [],
   "source": [
    "import pickle\n",
    "\n",
    "with open('simu-training.im', 'w') as f: \n",
    "    pickle.dump(im_model, f)\n",
    "    \n",
    "with open('simu-training.sm', 'w') as f:\n",
    "    pickle.dump(sm_model, f)"
   ]
  },
  {
   "cell_type": "markdown",
   "metadata": {},
   "source": [
    "The code above will save the trained models to your hard drive. You can store this file anywhere you want. But you will have to upload them to the real robot so they can be reused on this platform."
   ]
  },
  {
   "cell_type": "markdown",
   "metadata": {},
   "source": [
    "# 2. Reuse the learnt IK on the real robot"
   ]
  },
  {
   "cell_type": "markdown",
   "metadata": {},
   "source": [
    "**Even if this section is written in the same notebook for consistency, this part is intended to be run on a real robot. Thus, you should start again this notebook from this point on the Jupyter server hosted on the robot. As pointed above, you should also upload your saved models on the robot, so they can be reused in the rest of this tutorial.**"
   ]
  },
  {
   "cell_type": "markdown",
   "metadata": {},
   "source": [
    "A key feature of the PoppyEnvironment in Explauto (and of the Poppy ecosystem in general) is that it let you seamlessly switch from a simulated robot to a real one. This will let us reuse the IK we just learnt in simulation to test it on a real robot."
   ]
  },
  {
   "cell_type": "markdown",
   "metadata": {},
   "source": [
    "To do that, we will use the possibility to save and load models in Explauto. The idea is to train the models in simulation (what you did above) and create a new environment (based on the real robot) that will use the pretrained models.\n",
    "\n",
    "*Note: you will need to upload the saved models to the robot hard drive (using the upload features of the Notebook for instance, see the [dedicated section](http://docs.poppy-project.org/en/from-simulation-to-real-robot/using-jupyter.html) of the documentation for more details).*"
   ]
  },
  {
   "cell_type": "markdown",
   "metadata": {},
   "source": [
    "## Load the previously saved models"
   ]
  },
  {
   "cell_type": "markdown",
   "metadata": {},
   "source": [
    "To load the sensorimotor model we will simply use the pickle module once again:"
   ]
  },
  {
   "cell_type": "code",
   "execution_count": null,
   "metadata": {
    "collapsed": true
   },
   "outputs": [],
   "source": [
    "import pickle\n",
    "\n",
    "from explauto import SensorimotorModel\n",
    "\n",
    "with open('simu-training.sm') as f:\n",
    "    sm_model = pickle.load(f)"
   ]
  },
  {
   "cell_type": "markdown",
   "metadata": {},
   "source": [
    "*We assumed here that you upload the trained models in the same folder than the notebook. Of course, you can freely modify the path and filename to match the correct path.*"
   ]
  },
  {
   "cell_type": "markdown",
   "metadata": {},
   "source": [
    "Here we only need the sensorimotor model as we will not continue exploring but only exploit previous data. Though, the interest model could be loaded in exactly the same way. "
   ]
  },
  {
   "cell_type": "markdown",
   "metadata": {},
   "source": [
    "You can check that what you obtain are really the trained model. And that you can use it to perform inverse prediction. The inverse prediction here, $f: s \\rightarrow m$, corresponds here to computing the joints position to need a cartesian position: i.e. the inverse kinematics.\n",
    "\n",
    "For instance:"
   ]
  },
  {
   "cell_type": "code",
   "execution_count": null,
   "metadata": {
    "collapsed": false
   },
   "outputs": [],
   "source": [
    "sm_model.inverse_prediction([0.0, 0.0, 0.6])"
   ]
  },
  {
   "cell_type": "markdown",
   "metadata": {},
   "source": [
    "Will give you the joint angles to send to the motor of the left arm to reach the (0, 0, 0.6) 3D position."
   ]
  },
  {
   "cell_type": "markdown",
   "metadata": {},
   "source": [
    "## Create a PoppyEnvironment based on the real robot"
   ]
  },
  {
   "cell_type": "markdown",
   "metadata": {},
   "source": [
    "We will then create a new PoppyEnvironment, this time using a real robot. Of course to do that, you need to be connected on the real PoppyHumanoid. Otherwise, you will just get an error saying that pypot did not manage to \"ping\" the motors."
   ]
  },
  {
   "cell_type": "code",
   "execution_count": null,
   "metadata": {
    "collapsed": false
   },
   "outputs": [],
   "source": [
    "from poppy.creatures import PoppyHumanoid\n",
    "\n",
    "real_poppy = PoppyHumanoid()"
   ]
  },
  {
   "cell_type": "markdown",
   "metadata": {},
   "source": [
    "You should then put the robot in a stable position, and make sure the motor of its left arm are stiff. **This will actually make the robot move to its standing position!**"
   ]
  },
  {
   "cell_type": "code",
   "execution_count": null,
   "metadata": {
    "collapsed": true
   },
   "outputs": [],
   "source": [
    "real_poppy.stand_position.start()\n",
    "\n",
    "for m in real_poppy.motors:\n",
    "    m.compliant = False"
   ]
  },
  {
   "cell_type": "markdown",
   "metadata": {},
   "source": [
    "Then, the environment can be created exactly like the one using V-REP. Note that we will not use tracker in this case and thus we will not be able to update the models as the sensori part will not give any information. We will directly use the bounds stored in the models to make sure we are coherent."
   ]
  },
  {
   "cell_type": "code",
   "execution_count": null,
   "metadata": {
    "collapsed": false
   },
   "outputs": [],
   "source": [
    "from explauto.environment.poppy import PoppyEnvironment\n",
    "\n",
    "real_env = PoppyEnvironment(real_poppy, \n",
    "                            real_poppy.l_arm, 2.0,\n",
    "                            None, None,\n",
    "                            sm_model.conf.m_mins, sm_model.conf.m_maxs, sm_model.conf.s_mins, sm_model.conf.s_maxs)"
   ]
  },
  {
   "cell_type": "markdown",
   "metadata": {},
   "source": [
    "## Reuse of the trained models"
   ]
  },
  {
   "cell_type": "markdown",
   "metadata": {},
   "source": [
    "As shown above, we can use our sensorimotor model to compute the inverse kinematics and send the results as a motor command to our environment (it will make the robot move):"
   ]
  },
  {
   "cell_type": "code",
   "execution_count": null,
   "metadata": {
    "collapsed": false
   },
   "outputs": [],
   "source": [
    "m_ag = sm_model.inverse_prediction([0.1, -0.3, 0.6])\n",
    "\n",
    "m_env = real_env.compute_motor_command(m_ag)\n",
    "real_env.compute_sensori_effect(m_env)"
   ]
  },
  {
   "cell_type": "markdown",
   "metadata": {},
   "source": [
    "This can be easily wrapped in a function:"
   ]
  },
  {
   "cell_type": "code",
   "execution_count": null,
   "metadata": {
    "collapsed": true
   },
   "outputs": [],
   "source": [
    "def goto(pos, duration=2.0):\n",
    "    m_ag = sm_model.inverse_prediction(pos)\n",
    "    m_env = real_env.compute_motor_command(m_ag)\n",
    "    \n",
    "    real_env.move_duration = duration\n",
    "    real_env.compute_sensori_effect(m_env)"
   ]
  },
  {
   "cell_type": "markdown",
   "metadata": {},
   "source": [
    "*Note that we directly change the move duration defined in the environment to get a finer control over the speed of the movement.*"
   ]
  },
  {
   "cell_type": "markdown",
   "metadata": {},
   "source": [
    "You can then use this function to evaluate how accurate is the trained IK. It can also be used to follow a trajectory for instance a circle:"
   ]
  },
  {
   "cell_type": "code",
   "execution_count": null,
   "metadata": {
    "collapsed": false
   },
   "outputs": [],
   "source": [
    "import numpy\n",
    "\n",
    "r = .1\n",
    "x0, y0, z0 = (0.1, -0.3, 0.6)\n",
    "\n",
    "goto((x0, y0, z0), 1.)\n",
    "\n",
    "for alpha in numpy.arange(0, 2 * numpy.pi, .5):\n",
    "    x = r * numpy.cos(alpha) + x0\n",
    "    z = r * numpy.sin(alpha) + z0\n",
    "    \n",
    "    goto((x, y0, z), .5)"
   ]
  }
 ],
 "metadata": {
  "kernelspec": {
   "display_name": "Python 2",
   "language": "python",
   "name": "python2"
  },
  "language_info": {
   "codemirror_mode": {
    "name": "ipython",
    "version": 2
   },
   "file_extension": ".py",
   "mimetype": "text/x-python",
   "name": "python",
   "nbconvert_exporter": "python",
   "pygments_lexer": "ipython2",
   "version": "2.7.10"
  }
 },
 "nbformat": 4,
 "nbformat_minor": 0
}
