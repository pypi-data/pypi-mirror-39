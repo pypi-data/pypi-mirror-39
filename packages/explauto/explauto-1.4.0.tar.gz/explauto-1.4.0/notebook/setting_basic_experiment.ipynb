{
 "cells": [
  {
   "cell_type": "markdown",
   "metadata": {},
   "source": [
    "# Running basic experiments"
   ]
  },
  {
   "cell_type": "markdown",
   "metadata": {},
   "source": [
    "In this notebook, we will show you how to setup an experiment using a predifined simultated arm environment and use its default configuration. We will then run it and see how to plot the results. \n",
    "We assume that you have already installed explauto on your computer (see the [installation section](http://flowersteam.github.io/explauto/installation.html)) and that everything works as expected. We also assume that you are familiar with the scientific grounding behind the library (see our [short introduction](http://flowersteam.github.io/explauto/about.html))."
   ]
  },
  {
   "cell_type": "markdown",
   "metadata": {},
   "source": [
    "## Setup an experiment"
   ]
  },
  {
   "cell_type": "markdown",
   "metadata": {},
   "source": [
    "Thanks to explauto, setting up an experiment is really simple. You only have to instantiate the [Experiment](http://flowersteam.github.io/explauto/explauto.experiment.html) class.\n",
    "The easiest way to do that is use the from_settings factory. This method automatically creates and setups an experiment using the default settings. You only have to choose:\n",
    "* the experimental [Environment](http://flowersteam.github.io/explauto/explauto.environment.html),\n",
    "* the type of babbling (motor vs goal),\n",
    "* the [InterestModel](http://flowersteam.github.io/explauto/explauto.interestmodel.html),\n",
    "* and the [SensorimotorModel](http://flowersteam.github.io/explauto/explauto.sensorimotormodel.html)."
   ]
  },
  {
   "cell_type": "code",
   "execution_count": 1,
   "metadata": {
    "collapsed": false
   },
   "outputs": [
    {
     "data": {
      "text/plain": [
       "<bound method type.from_settings of <class 'explauto.experiment.experiment.Experiment'>>"
      ]
     },
     "execution_count": 1,
     "metadata": {},
     "output_type": "execute_result"
    }
   ],
   "source": [
    "from explauto.experiment import Experiment\n",
    "\n",
    "Experiment.from_settings"
   ]
  },
  {
   "cell_type": "markdown",
   "metadata": {},
   "source": [
    "You can check the documentation of the [from_settings()](http://flowersteam.github.io/explauto/explauto.experiment.html#explauto.experiment.experiment.Experiment.from_settings) class method for details."
   ]
  },
  {
   "cell_type": "markdown",
   "metadata": {},
   "source": [
    "### Finding the available environments"
   ]
  },
  {
   "cell_type": "markdown",
   "metadata": {},
   "source": [
    "As shown on the documentation, you must specify the environment and models using their name. This API has been chosen so you can have really compact code and can easily switch from one environment (or model) to another.\n",
    "\n",
    "Yet, you need to know which environments are available (this may depend on your installation of explauto). To do that, you can directly acess the available environments dictionary from the environment package. It is constructed as follows:\n",
    "```python\n",
    "{env_name: (env_cls, env_configs, env_testcases)}\n",
    "```\n",
    "where env_class is the class implementing the environment, env_configs are the available configurations for that environment and env_testcases is a function generating test cases for learning performance evaluation. "
   ]
  },
  {
   "cell_type": "code",
   "execution_count": 2,
   "metadata": {
    "collapsed": false
   },
   "outputs": [
    {
     "name": "stdout",
     "output_type": "stream",
     "text": [
      "Available environments: ['pypot', 'pendulum', 'simple_arm']\n"
     ]
    }
   ],
   "source": [
    "from explauto.environment import environments\n",
    "\n",
    "print 'Available environments: {}'.format(environments.keys())"
   ]
  },
  {
   "cell_type": "markdown",
   "metadata": {},
   "source": [
    "\n",
    "You can see here, that on this installation of explauto two environments are available:\n",
    "* the pendulum\n",
    "* the simple arm\n",
    "* the npendulum (beta)\n",
    "\n",
    "We will use the simple arm for this tutorial. It consists in the simulation of a $n$ degrees-of-freedom (DoF) arm with movements limited to a 2D plan, as detailled in [this tutorial](http://nbviewer.ipython.org/github/flowersteam/explauto/blob/master/notebook/setting_basic_experiment.ipynb).\n",
    "\n",
    "Each available environment comes with a set of predefined configurations. A default configuration will always be defined."
   ]
  },
  {
   "cell_type": "code",
   "execution_count": 3,
   "metadata": {
    "collapsed": false
   },
   "outputs": [
    {
     "name": "stdout",
     "output_type": "stream",
     "text": [
      "Available configurations for the simple arm environment: ['mid_dimensional', 'default', 'high_dim_high_s_range', 'low_dimensional', 'high_dimensional']\n"
     ]
    }
   ],
   "source": [
    "env_cls, env_configs, testcases_generator = environments['simple_arm']\n",
    "print 'Available configurations for the simple arm environment: {}'.format(env_configs.keys())"
   ]
  },
  {
   "cell_type": "code",
   "execution_count": 4,
   "metadata": {
    "collapsed": false
   },
   "outputs": [
    {
     "name": "stdout",
     "output_type": "stream",
     "text": [
      "Default configuration for the simple arm:\n",
      "\ts_mins: [-0.5 -1. ]\n",
      "\tm_mins: [-1.04719755 -1.04719755 -1.04719755]\n",
      "\tnoise: 0.02\n",
      "\tm_maxs: [ 1.04719755  1.04719755  1.04719755]\n",
      "\ts_maxs: [ 1.  1.]\n",
      "\tlength_ratio: 3.0\n"
     ]
    }
   ],
   "source": [
    "default_config = env_configs['default']\n",
    "\n",
    "print 'Default configuration for the simple arm:'\n",
    "for config_key, value in default_config.items():\n",
    "    print '\\t{}: {}'.format(config_key, value)"
   ]
  },
  {
   "cell_type": "markdown",
   "metadata": {},
   "source": [
    "### Finding the available models"
   ]
  },
  {
   "cell_type": "markdown",
   "metadata": {},
   "source": [
    "You can use the same trick for the interest and sensorimotor models."
   ]
  },
  {
   "cell_type": "code",
   "execution_count": 5,
   "metadata": {
    "collapsed": false
   },
   "outputs": [
    {
     "name": "stdout",
     "output_type": "stream",
     "text": [
      "Available interest models: ['discretized_progress', 'tree', 'random', 'gmm_progress_beta', 'misc_random']\n",
      "Available sensorimotor models: ['LWLR-BFGS', 'nearest_neighbor', 'WNN', 'LWLR-CMAES']\n"
     ]
    }
   ],
   "source": [
    "from explauto.interest_model import interest_models\n",
    "from explauto.sensorimotor_model import sensorimotor_models\n",
    "\n",
    "print 'Available interest models: {}'.format(interest_models.keys())\n",
    "print 'Available sensorimotor models: {}'.format(sensorimotor_models.keys())"
   ]
  },
  {
   "cell_type": "markdown",
   "metadata": {},
   "source": [
    "### Instantiating the experiment"
   ]
  },
  {
   "cell_type": "markdown",
   "metadata": {},
   "source": [
    "Once you chose your environments and models you can directly instantiate the [Experiment](http://flowersteam.github.io/explauto/explauto.experiment.html#explauto.experiment.experiment.Experiment) class using the convenience method [from_settings](http://flowersteam.github.io/explauto/explauto.experiment.html#explauto.experiment.experiment.Experiment.from_settings). In this example, we chose to do motor babbling."
   ]
  },
  {
   "cell_type": "code",
   "execution_count": 6,
   "metadata": {
    "collapsed": false
   },
   "outputs": [],
   "source": [
    "from explauto.experiment import Experiment, make_settings\n",
    "\n",
    "s = make_settings(environment='simple_arm',\n",
    "                  babbling_mode='motor', \n",
    "                  interest_model='random',\n",
    "                  sensorimotor_model='nearest_neighbor')\n",
    "\n",
    "expe = Experiment.from_settings(s)"
   ]
  },
  {
   "cell_type": "markdown",
   "metadata": {},
   "source": [
    "The next step is to define at which iteration the learning should be evaluated. Note that by default your experiment will run until reaching the last evaluation.\n",
    "Let's say we will evaluate at iteration steps: 1, 10, 20, 30, 100, and 200."
   ]
  },
  {
   "cell_type": "code",
   "execution_count": 7,
   "metadata": {
    "collapsed": false
   },
   "outputs": [],
   "source": [
    "expe.evaluate_at([1, 10, 20, 30, 100, 200, 300, 400], s.default_testcases)"
   ]
  },
  {
   "cell_type": "markdown",
   "metadata": {},
   "source": [
    "## Running the experiment"
   ]
  },
  {
   "cell_type": "markdown",
   "metadata": {},
   "source": [
    "And now that the experiment is set up, you can run it! As we have defined evaluation steps, the experiment will run for 200 iterations (the last evaluation step).\n",
    "\n",
    "Be aware that this step may actually run for a while."
   ]
  },
  {
   "cell_type": "code",
   "execution_count": 8,
   "metadata": {
    "collapsed": false
   },
   "outputs": [
    {
     "name": "stderr",
     "output_type": "stream",
     "text": [
      "WARNING:explauto.agent.agent:Sensorimotor model not bootstrapped yet\n"
     ]
    }
   ],
   "source": [
    "expe.run()"
   ]
  },
  {
   "cell_type": "markdown",
   "metadata": {},
   "source": [
    "## Plotting results"
   ]
  },
  {
   "cell_type": "markdown",
   "metadata": {},
   "source": [
    "Now that your experiment is done, you want to plot the results.\n",
    "\n",
    "For instance, you can plot the learning curve thanks to:"
   ]
  },
  {
   "cell_type": "code",
   "execution_count": 9,
   "metadata": {
    "collapsed": false
   },
   "outputs": [
    {
     "name": "stdout",
     "output_type": "stream",
     "text": [
      "Populating the interactive namespace from numpy and matplotlib\n"
     ]
    },
    {
     "data": {
      "image/png": "[encoded data removed]",
      "text/plain": [
       "<matplotlib.figure.Figure at 0x7f41006c7210>"
      ]
     },
     "metadata": {},
     "output_type": "display_data"
    }
   ],
   "source": [
    "%pylab inline\n",
    "\n",
    "ax = axes()\n",
    "expe.log.plot_learning_curve(ax)"
   ]
  },
  {
   "cell_type": "markdown",
   "metadata": {},
   "source": [
    "You can also plot projection of the reached points of the sensorimotor space thanks to:"
   ]
  },
  {
   "cell_type": "code",
   "execution_count": 10,
   "metadata": {
    "collapsed": false
   },
   "outputs": [
    {
     "data": {
      "image/png": "[encoded data removed]",
      "text/plain": [
       "<matplotlib.figure.Figure at 0x7f40d49446d0>"
      ]
     },
     "metadata": {},
     "output_type": "display_data"
    }
   ],
   "source": [
    "ax = axes()\n",
    "expe.log.scatter_plot(ax, [('sensori', [0, 1]), ], color='green')"
   ]
  },
  {
   "cell_type": "markdown",
   "metadata": {},
   "source": [
    "# Exercise"
   ]
  },
  {
   "cell_type": "markdown",
   "metadata": {},
   "source": [
    "Run the same experiment using goal babbling instead for motor babbling."
   ]
  },
  {
   "cell_type": "code",
   "execution_count": 11,
   "metadata": {
    "collapsed": false
   },
   "outputs": [],
   "source": [
    "# Solution\n",
    "%load exercise_solutions/setting_basic_experiment__goal_babbling.py"
   ]
  },
  {
   "cell_type": "code",
   "execution_count": null,
   "metadata": {
    "collapsed": false
   },
   "outputs": [],
   "source": []
  },
  {
   "cell_type": "markdown",
   "metadata": {},
   "source": [
    "Compare the results and try to understand why you can not really see any difference between motor and goal babbling in this case. This will be discussed in the next tutorial."
   ]
  }
 ],
 "metadata": {
  "kernelspec": {
   "display_name": "Python 2",
   "language": "python",
   "name": "python2"
  },
  "language_info": {
   "codemirror_mode": {
    "name": "ipython",
    "version": 2
   },
   "file_extension": ".py",
   "mimetype": "text/x-python",
   "name": "python",
   "nbconvert_exporter": "python",
   "pygments_lexer": "ipython2",
   "version": "2.7.6"
  }
 },
 "nbformat": 4,
 "nbformat_minor": 0
}
