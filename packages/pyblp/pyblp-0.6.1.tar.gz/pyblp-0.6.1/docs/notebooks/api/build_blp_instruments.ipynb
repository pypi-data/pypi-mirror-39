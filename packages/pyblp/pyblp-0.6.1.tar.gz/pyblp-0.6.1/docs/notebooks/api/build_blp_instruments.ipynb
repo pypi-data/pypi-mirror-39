{
 "cells": [
  {
   "cell_type": "markdown",
   "metadata": {},
   "source": [
    "# Building BLP Instruments Example"
   ]
  },
  {
   "cell_type": "code",
   "execution_count": 1,
   "metadata": {},
   "outputs": [
    {
     "data": {
      "text/plain": [
       "'0.6.1'"
      ]
     },
     "execution_count": 1,
     "metadata": {},
     "output_type": "execute_result"
    }
   ],
   "source": [
    "import pyblp\n",
    "import pandas as pd\n",
    "\n",
    "pyblp.__version__"
   ]
  },
  {
   "cell_type": "markdown",
   "metadata": {},
   "source": [
    "In this example, we'll load the automobile product data from :ref:`references:Berry, Levinsohn, and Pakes (1995)` and build some very simple excluded demand-side instruments for the problem. These instruments are different from the pre-built ones included in the automobile product data file."
   ]
  },
  {
   "cell_type": "code",
   "execution_count": 3,
   "metadata": {},
   "outputs": [
    {
     "data": {
      "text/plain": [
       "1 + hpwt + air + mpd + space"
      ]
     },
     "execution_count": 3,
     "metadata": {},
     "output_type": "execute_result"
    }
   ],
   "source": [
    "formulation = pyblp.Formulation('1 + hpwt + air + mpd + space')\n",
    "formulation"
   ]
  },
  {
   "cell_type": "code",
   "execution_count": 4,
   "metadata": {},
   "outputs": [
    {
     "data": {
      "text/html": [
       "<div>\n",
       "<style scoped>\n",
       "    .dataframe tbody tr th:only-of-type {\n",
       "        vertical-align: middle;\n",
       "    }\n",
       "\n",
       "    .dataframe tbody tr th {\n",
       "        vertical-align: top;\n",
       "    }\n",
       "\n",
       "    .dataframe thead th {\n",
       "        text-align: right;\n",
       "    }\n",
       "</style>\n",
       "<table border=\"1\" class=\"dataframe\">\n",
       "  <thead>\n",
       "    <tr style=\"text-align: right;\">\n",
       "      <th></th>\n",
       "      <th>market_ids</th>\n",
       "      <th>clustering_ids</th>\n",
       "      <th>car_ids</th>\n",
       "      <th>firm_ids0</th>\n",
       "      <th>firm_ids1</th>\n",
       "      <th>region</th>\n",
       "      <th>shares</th>\n",
       "      <th>prices</th>\n",
       "      <th>hpwt</th>\n",
       "      <th>air</th>\n",
       "      <th>...</th>\n",
       "      <th>demand_instruments2</th>\n",
       "      <th>demand_instruments3</th>\n",
       "      <th>demand_instruments4</th>\n",
       "      <th>demand_instruments5</th>\n",
       "      <th>supply_instruments0</th>\n",
       "      <th>supply_instruments1</th>\n",
       "      <th>supply_instruments2</th>\n",
       "      <th>supply_instruments3</th>\n",
       "      <th>supply_instruments4</th>\n",
       "      <th>supply_instruments5</th>\n",
       "    </tr>\n",
       "  </thead>\n",
       "  <tbody>\n",
       "    <tr>\n",
       "      <th>0</th>\n",
       "      <td>1971</td>\n",
       "      <td>AMGREM71</td>\n",
       "      <td>129</td>\n",
       "      <td>15</td>\n",
       "      <td>15</td>\n",
       "      <td>US</td>\n",
       "      <td>0.001051</td>\n",
       "      <td>4.935802</td>\n",
       "      <td>0.528997</td>\n",
       "      <td>0</td>\n",
       "      <td>...</td>\n",
       "      <td>0.0</td>\n",
       "      <td>-0.688460</td>\n",
       "      <td>-0.428243</td>\n",
       "      <td>-0.192959</td>\n",
       "      <td>0.444994</td>\n",
       "      <td>0.221971</td>\n",
       "      <td>0.0</td>\n",
       "      <td>0.697611</td>\n",
       "      <td>0.416169</td>\n",
       "      <td>-0.119246</td>\n",
       "    </tr>\n",
       "    <tr>\n",
       "      <th>1</th>\n",
       "      <td>1971</td>\n",
       "      <td>AMHORN71</td>\n",
       "      <td>130</td>\n",
       "      <td>15</td>\n",
       "      <td>15</td>\n",
       "      <td>US</td>\n",
       "      <td>0.000670</td>\n",
       "      <td>5.516049</td>\n",
       "      <td>0.494324</td>\n",
       "      <td>0</td>\n",
       "      <td>...</td>\n",
       "      <td>0.0</td>\n",
       "      <td>-0.709151</td>\n",
       "      <td>-0.475407</td>\n",
       "      <td>-0.187118</td>\n",
       "      <td>0.446641</td>\n",
       "      <td>0.204394</td>\n",
       "      <td>0.0</td>\n",
       "      <td>0.719701</td>\n",
       "      <td>0.467553</td>\n",
       "      <td>-0.133489</td>\n",
       "    </tr>\n",
       "    <tr>\n",
       "      <th>2</th>\n",
       "      <td>1971</td>\n",
       "      <td>AMJAVL71</td>\n",
       "      <td>132</td>\n",
       "      <td>15</td>\n",
       "      <td>15</td>\n",
       "      <td>US</td>\n",
       "      <td>0.000341</td>\n",
       "      <td>7.108642</td>\n",
       "      <td>0.467613</td>\n",
       "      <td>0</td>\n",
       "      <td>...</td>\n",
       "      <td>0.0</td>\n",
       "      <td>-0.620889</td>\n",
       "      <td>-0.540931</td>\n",
       "      <td>-0.197218</td>\n",
       "      <td>0.442757</td>\n",
       "      <td>0.187844</td>\n",
       "      <td>0.0</td>\n",
       "      <td>0.623639</td>\n",
       "      <td>0.539601</td>\n",
       "      <td>-0.109544</td>\n",
       "    </tr>\n",
       "    <tr>\n",
       "      <th>3</th>\n",
       "      <td>1971</td>\n",
       "      <td>AMMATA71</td>\n",
       "      <td>134</td>\n",
       "      <td>15</td>\n",
       "      <td>15</td>\n",
       "      <td>US</td>\n",
       "      <td>0.000522</td>\n",
       "      <td>6.839506</td>\n",
       "      <td>0.426540</td>\n",
       "      <td>0</td>\n",
       "      <td>...</td>\n",
       "      <td>0.0</td>\n",
       "      <td>-0.611296</td>\n",
       "      <td>-0.595589</td>\n",
       "      <td>-0.192055</td>\n",
       "      <td>0.444055</td>\n",
       "      <td>0.167564</td>\n",
       "      <td>0.0</td>\n",
       "      <td>0.613802</td>\n",
       "      <td>0.600176</td>\n",
       "      <td>-0.121895</td>\n",
       "    </tr>\n",
       "    <tr>\n",
       "      <th>4</th>\n",
       "      <td>1971</td>\n",
       "      <td>AMAMBS71</td>\n",
       "      <td>136</td>\n",
       "      <td>15</td>\n",
       "      <td>15</td>\n",
       "      <td>US</td>\n",
       "      <td>0.000442</td>\n",
       "      <td>8.928395</td>\n",
       "      <td>0.452489</td>\n",
       "      <td>0</td>\n",
       "      <td>...</td>\n",
       "      <td>0.0</td>\n",
       "      <td>-0.536673</td>\n",
       "      <td>-0.606958</td>\n",
       "      <td>-0.211098</td>\n",
       "      <td>0.438311</td>\n",
       "      <td>0.177433</td>\n",
       "      <td>0.0</td>\n",
       "      <td>0.532744</td>\n",
       "      <td>0.611291</td>\n",
       "      <td>-0.078455</td>\n",
       "    </tr>\n",
       "  </tbody>\n",
       "</table>\n",
       "<p>5 rows × 26 columns</p>\n",
       "</div>"
      ],
      "text/plain": [
       "   market_ids clustering_ids  car_ids  firm_ids0  firm_ids1 region    shares  \\\n",
       "0        1971       AMGREM71      129         15         15     US  0.001051   \n",
       "1        1971       AMHORN71      130         15         15     US  0.000670   \n",
       "2        1971       AMJAVL71      132         15         15     US  0.000341   \n",
       "3        1971       AMMATA71      134         15         15     US  0.000522   \n",
       "4        1971       AMAMBS71      136         15         15     US  0.000442   \n",
       "\n",
       "     prices      hpwt  air         ...           demand_instruments2  \\\n",
       "0  4.935802  0.528997    0         ...                           0.0   \n",
       "1  5.516049  0.494324    0         ...                           0.0   \n",
       "2  7.108642  0.467613    0         ...                           0.0   \n",
       "3  6.839506  0.426540    0         ...                           0.0   \n",
       "4  8.928395  0.452489    0         ...                           0.0   \n",
       "\n",
       "   demand_instruments3  demand_instruments4  demand_instruments5  \\\n",
       "0            -0.688460            -0.428243            -0.192959   \n",
       "1            -0.709151            -0.475407            -0.187118   \n",
       "2            -0.620889            -0.540931            -0.197218   \n",
       "3            -0.611296            -0.595589            -0.192055   \n",
       "4            -0.536673            -0.606958            -0.211098   \n",
       "\n",
       "   supply_instruments0  supply_instruments1  supply_instruments2  \\\n",
       "0             0.444994             0.221971                  0.0   \n",
       "1             0.446641             0.204394                  0.0   \n",
       "2             0.442757             0.187844                  0.0   \n",
       "3             0.444055             0.167564                  0.0   \n",
       "4             0.438311             0.177433                  0.0   \n",
       "\n",
       "   supply_instruments3  supply_instruments4  supply_instruments5  \n",
       "0             0.697611             0.416169            -0.119246  \n",
       "1             0.719701             0.467553            -0.133489  \n",
       "2             0.623639             0.539601            -0.109544  \n",
       "3             0.613802             0.600176            -0.121895  \n",
       "4             0.532744             0.611291            -0.078455  \n",
       "\n",
       "[5 rows x 26 columns]"
      ]
     },
     "execution_count": 4,
     "metadata": {},
     "output_type": "execute_result"
    }
   ],
   "source": [
    "product_data = pd.read_csv(pyblp.data.BLP_PRODUCTS_LOCATION)\n",
    "product_data.head()"
   ]
  },
  {
   "cell_type": "code",
   "execution_count": 5,
   "metadata": {},
   "outputs": [
    {
     "data": {
      "text/plain": [
       "(2217, 10)"
      ]
     },
     "execution_count": 5,
     "metadata": {},
     "output_type": "execute_result"
    }
   ],
   "source": [
    "instruments = pyblp.build_blp_instruments(formulation, product_data)\n",
    "instruments.shape"
   ]
  }
 ],
 "metadata": {
  "kernelspec": {
   "display_name": "Python 3",
   "language": "python",
   "name": "python3"
  },
  "language_info": {
   "codemirror_mode": {
    "name": "ipython",
    "version": 3
   },
   "file_extension": ".py",
   "mimetype": "text/x-python",
   "name": "python",
   "nbconvert_exporter": "python",
   "pygments_lexer": "ipython3",
   "version": "3.6.6"
  }
 },
 "nbformat": 4,
 "nbformat_minor": 2
}
