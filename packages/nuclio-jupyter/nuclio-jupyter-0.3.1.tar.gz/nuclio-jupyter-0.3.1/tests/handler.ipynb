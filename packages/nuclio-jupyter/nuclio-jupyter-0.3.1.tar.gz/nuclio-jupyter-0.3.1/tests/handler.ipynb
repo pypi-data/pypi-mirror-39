{
 "cells": [
  {
   "cell_type": "code",
   "execution_count": 1,
   "metadata": {},
   "outputs": [],
   "source": [
    "# nuclio: ignore\n",
    "import nuclio\n",
    "\n",
    "evt = nuclio.Event(body='Nuclio')\n",
    "ctx = nuclio.Context()"
   ]
  },
  {
   "cell_type": "code",
   "execution_count": 2,
   "metadata": {},
   "outputs": [
    {
     "name": "stdout",
     "output_type": "stream",
     "text": [
      "%nuclio: setting 'USER' environment variable\n",
      "%nuclio: setting 'PASSWORD' environment variable\n"
     ]
    }
   ],
   "source": [
    "%%nuclio env\n",
    "USER=iguazio\n",
    "PASSWORD=t0ps3cr3t"
   ]
  },
  {
   "cell_type": "code",
   "execution_count": 3,
   "metadata": {},
   "outputs": [],
   "source": [
    "%nuclio cmd --config-only apt-get install -y libyaml-dev"
   ]
  },
  {
   "cell_type": "code",
   "execution_count": 4,
   "metadata": {},
   "outputs": [
    {
     "data": {
      "text/plain": [
       "'Hello Nuclio'"
      ]
     },
     "execution_count": 4,
     "metadata": {},
     "output_type": "execute_result"
    }
   ],
   "source": [
    "%nuclio handler\n",
    "\n",
    "msg = 'Hello ' + evt.body\n",
    "msg # nuclio: return"
   ]
  },
  {
   "cell_type": "code",
   "execution_count": 5,
   "metadata": {},
   "outputs": [
    {
     "name": "stdout",
     "output_type": "stream",
     "text": [
      "%nuclio: handler exported to /tmp/test_handler\n"
     ]
    }
   ],
   "source": [
    "%nuclio export --output-dir /tmp/test_handler"
   ]
  },
  {
   "cell_type": "code",
   "execution_count": null,
   "metadata": {},
   "outputs": [],
   "source": []
  }
 ],
 "metadata": {
  "kernelspec": {
   "display_name": "Python 3",
   "language": "python",
   "name": "python3"
  },
  "language_info": {
   "codemirror_mode": {
    "name": "ipython",
    "version": 3
   },
   "file_extension": ".py",
   "mimetype": "text/x-python",
   "name": "python",
   "nbconvert_exporter": "python",
   "pygments_lexer": "ipython3",
   "version": "3.7.1"
  }
 },
 "nbformat": 4,
 "nbformat_minor": 2
}
