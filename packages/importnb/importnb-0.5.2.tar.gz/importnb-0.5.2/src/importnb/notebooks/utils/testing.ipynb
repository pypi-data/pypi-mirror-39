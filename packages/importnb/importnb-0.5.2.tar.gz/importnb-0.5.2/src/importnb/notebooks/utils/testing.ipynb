{
 "cells": [
  {
   "cell_type": "markdown",
   "metadata": {},
   "source": [
    "Utility functions to test the quality of a source notebook."
   ]
  },
  {
   "cell_type": "code",
   "execution_count": 1,
   "metadata": {},
   "outputs": [],
   "source": [
    "    import json, pathlib"
   ]
  },
  {
   "cell_type": "code",
   "execution_count": 2,
   "metadata": {},
   "outputs": [],
   "source": [
    "    class UnexecutedCell(BaseException): ..."
   ]
  },
  {
   "cell_type": "code",
   "execution_count": 3,
   "metadata": {},
   "outputs": [],
   "source": [
    "    class OutOfOrder(BaseException): ..."
   ]
  },
  {
   "cell_type": "code",
   "execution_count": 4,
   "metadata": {},
   "outputs": [],
   "source": [
    "    class MissingMarkdownDocstring(BaseException): ..."
   ]
  },
  {
   "cell_type": "code",
   "execution_count": 5,
   "metadata": {},
   "outputs": [],
   "source": [
    "    def assert_execution_order(nb, file=None):\n",
    "        shift = 1\n",
    "        for id, object in enumerate(\n",
    "            object for object in nb['cells'] if object['cell_type'] == 'code'):\n",
    "            id += shift\n",
    "            source = ''.join(object['source'])\n",
    "            if object['execution_count'] is None:\n",
    "                assert not source.strip(), \"\"\"{file} has an unexecuted with the source:\\n{source}.\"\"\".format(**locals())\n",
    "                shift -= 1\n",
    "            else:\n",
    "                assert object['execution_count'] == id, \"\"\"{file} has been executed out of order.\"\"\".format(**locals())\n",
    "               \n",
    "        return True"
   ]
  },
  {
   "cell_type": "code",
   "execution_count": 6,
   "metadata": {},
   "outputs": [],
   "source": [
    "    def assert_markdown_docstring(nb, name=None):\n",
    "        assert nb['cells'][0]['cell_type'] == 'markdown', \"\"\"{name} should begin a Markdown cell that describes the purpose of the source.\"\"\".format(**locals())\n",
    "        return True"
   ]
  },
  {
   "cell_type": "code",
   "execution_count": 7,
   "metadata": {
    "scrolled": false
   },
   "outputs": [],
   "source": [
    "    if __name__ ==  '__main__':\n",
    "        from importnb.utils.export import export\n",
    "        export('testing.ipynb', '../../utils/testing.py')"
   ]
  },
  {
   "cell_type": "code",
   "execution_count": 8,
   "metadata": {},
   "outputs": [],
   "source": [
    "    def test_assert_monotonic_execution_order():\n",
    "        __file__ = globals().get('__file__', 'testing.ipynb')\n",
    "        nb = json.loads(pathlib.Path(__file__).read_text())\n",
    "        assert assert_execution_order(nb, __file__)\n",
    "        assert assert_markdown_docstring(nb, __file__)"
   ]
  },
  {
   "cell_type": "code",
   "execution_count": null,
   "metadata": {},
   "outputs": [],
   "source": []
  }
 ],
 "metadata": {
  "kernelspec": {
   "display_name": "Python 3",
   "language": "python",
   "name": "python3"
  },
  "language_info": {
   "codemirror_mode": {
    "name": "ipython",
    "version": 3
   },
   "file_extension": ".py",
   "mimetype": "text/x-python",
   "name": "python",
   "nbconvert_exporter": "python",
   "pygments_lexer": "ipython3",
   "version": "3.6.6"
  }
 },
 "nbformat": 4,
 "nbformat_minor": 2
}
