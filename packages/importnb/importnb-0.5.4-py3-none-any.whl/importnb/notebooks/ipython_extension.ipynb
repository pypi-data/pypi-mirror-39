{
 "cells": [
  {
   "cell_type": "markdown",
   "metadata": {},
   "source": [
    "# `importnb` Jupyter magic extensions"
   ]
  },
  {
   "cell_type": "markdown",
   "metadata": {},
   "source": [
    "    %importnb --stdout --stderr --display --shell"
   ]
  },
  {
   "cell_type": "code",
   "execution_count": 1,
   "metadata": {},
   "outputs": [],
   "source": [
    "    import argparse\n",
    "    from importlib import import_module\n",
    "    from functools import partial\n",
    "    import pkg_resources, inspect"
   ]
  },
  {
   "cell_type": "code",
   "execution_count": 2,
   "metadata": {},
   "outputs": [],
   "source": [
    "    def get_module_object(str):\n",
    "        module, object = str.split(':', 1) \n",
    "        return getattr(import_module(module), object)\n",
    "\n",
    "    parser = argparse.ArgumentParser(description=\"\"\"Define the importnb loader properties.\"\"\")\n",
    "    parser.add_argument('--cls', type=get_module_object, default='importnb:Notebook')\n",
    "    parser.add_argument('--fuzzy', action=\"store_true\");"
   ]
  },
  {
   "cell_type": "code",
   "execution_count": 3,
   "metadata": {},
   "outputs": [],
   "source": [
    "    try:\n",
    "        from IPython.core import magic_arguments\n",
    "        from IPython.core.magic import Magics, magics_class, line_magic, cell_magic, line_cell_magic\n",
    "        __IPYTHON__ = True\n",
    "    except: __IPYTHON__ = False"
   ]
  },
  {
   "cell_type": "code",
   "execution_count": 4,
   "metadata": {},
   "outputs": [],
   "source": [
    "    class ImportNbExtensionBase:\n",
    "        loaders = None\n",
    "        def __init__(self, shell, loader=None):\n",
    "            self.loaders = []\n",
    "            # A default loader to install\n",
    "            if loader: \n",
    "                self.loaders.append(loader(position=-1).__enter__())"
   ]
  },
  {
   "cell_type": "code",
   "execution_count": 5,
   "metadata": {},
   "outputs": [],
   "source": [
    "    if __IPYTHON__:\n",
    "        @magics_class\n",
    "        class ImportNbExtension(Magics, ImportNbExtensionBase):\n",
    "            loaders = None\n",
    "            def __init__(self, shell, loader=None):\n",
    "                Magics.__init__(self, shell)\n",
    "                ImportNbExtensionBase.__init__(self, shell, loader)\n",
    "                    \n",
    "            @line_cell_magic\n",
    "            def importnb(self, line, cell=None):\n",
    "                if line.strip() == 'pop':\n",
    "                    return self.pop()\n",
    "                    module.__package__\n",
    "                    \n",
    "                details = vars(parser.parse_args(line.split()))\n",
    "                self.loaders.append(details.pop('cls')(**details))\n",
    "                \n",
    "                if cell is None:\n",
    "                    self.loaders[-1].__enter__()\n",
    "                    return\n",
    "                \n",
    "                with self.loaders.pop(-1): \n",
    "                    self.parent.run_cell(cell)            \n",
    "                    \n",
    "            def unload(self):\n",
    "                while self.loaders: self.pop()\n",
    "            \n",
    "            def pop(self): self.loaders.pop().__exit__(None, None, None)\n",
    "\n",
    "\n",
    "    else: \n",
    "        class ImportNbExtension(ImportNbExtensionBase): ..."
   ]
  },
  {
   "cell_type": "code",
   "execution_count": 6,
   "metadata": {},
   "outputs": [],
   "source": [
    "    manager = None"
   ]
  },
  {
   "cell_type": "code",
   "execution_count": 7,
   "metadata": {},
   "outputs": [],
   "source": [
    "    def IPYTHON_MAIN():\n",
    "        \"\"\"Decide if the Ipython command line is running code.\"\"\"\n",
    "        import pkg_resources\n",
    "        runner_frame = inspect.getouterframes(inspect.currentframe())[-2]\n",
    "        return getattr(runner_frame, 'function', None) == pkg_resources.load_entry_point('ipython', 'console_scripts', 'ipython').__name__"
   ]
  },
  {
   "cell_type": "code",
   "execution_count": 8,
   "metadata": {},
   "outputs": [],
   "source": [
    "    def load_ipython_extension(ip=None):\n",
    "        global manager, module\n",
    "        if IPYTHON_MAIN(): \n",
    "            from .parameterize import Parameterize as Notebook\n",
    "        else: \n",
    "            from .loader import Notebook\n",
    "            \n",
    "            \n",
    "        # Auto loading only works in IPython and \n",
    "        # we only read need it when there are parameters.\n",
    "        manager = ImportNbExtension(ip, Notebook)\n",
    "    \n",
    "        if ip: \n",
    "            ip.register_magics(manager)\n",
    "            ip.user_ns.update(__path__=[str(__import__('pathlib').Path().absolute())])\n",
    "            from .completer import load_ipython_extension\n",
    "            load_ipython_extension(ip)\n",
    "            \n",
    "            ip.user_ns['reload'] = __import__('importlib').reload\n",
    "        \n",
    "    def unload_ipython_extension(ip=None):\n",
    "        global manager\n",
    "        ip and manager and manager.unload()"
   ]
  },
  {
   "cell_type": "markdown",
   "metadata": {},
   "source": [
    "# Developer"
   ]
  },
  {
   "cell_type": "code",
   "execution_count": 9,
   "metadata": {},
   "outputs": [],
   "source": [
    "    if __name__ ==  '__main__':\n",
    "        from importnb.utils.export import export\n",
    "        \n",
    "        export('ipython_extension.ipynb', '../ipython_extension.py')\n",
    "        #m = Notebook(shell=True).from_filename('extensions.ipynb')\n",
    "        #print(__import__('doctest').testmod(m, verbose=2))"
   ]
  },
  {
   "cell_type": "code",
   "execution_count": null,
   "metadata": {},
   "outputs": [],
   "source": []
  },
  {
   "cell_type": "code",
   "execution_count": null,
   "metadata": {},
   "outputs": [],
   "source": []
  }
 ],
 "metadata": {
  "kernelspec": {
   "display_name": "Python 3",
   "language": "python",
   "name": "python3"
  },
  "language_info": {
   "codemirror_mode": {
    "name": "ipython",
    "version": 3
   },
   "file_extension": ".py",
   "mimetype": "text/x-python",
   "name": "python",
   "nbconvert_exporter": "python",
   "pygments_lexer": "ipython3",
   "version": "3.6.6"
  },
  "toc": {
   "colors": {
    "hover_highlight": "#DAA520",
    "running_highlight": "#FF0000",
    "selected_highlight": "#FFD700"
   },
   "moveMenuLeft": true,
   "nav_menu": {
    "height": "29px",
    "width": "252px"
   },
   "navigate_menu": true,
   "number_sections": true,
   "sideBar": true,
   "threshold": 4,
   "toc_cell": false,
   "toc_section_display": "block",
   "toc_window_display": false,
   "widenNotebook": false
  },
  "varInspector": {
   "cols": {
    "lenName": 16,
    "lenType": 16,
    "lenVar": 40
   },
   "kernels_config": {
    "python": {
     "delete_cmd_postfix": "",
     "delete_cmd_prefix": "del ",
     "library": "var_list.py",
     "varRefreshCmd": "print(var_dic_list())"
    },
    "r": {
     "delete_cmd_postfix": ") ",
     "delete_cmd_prefix": "rm(",
     "library": "var_list.r",
     "varRefreshCmd": "cat(var_dic_list()) "
    }
   },
   "types_to_exclude": [
    "module",
    "function",
    "builtin_function_or_method",
    "instance",
    "_Feature"
   ],
   "window_display": false
  }
 },
 "nbformat": 4,
 "nbformat_minor": 2
}
