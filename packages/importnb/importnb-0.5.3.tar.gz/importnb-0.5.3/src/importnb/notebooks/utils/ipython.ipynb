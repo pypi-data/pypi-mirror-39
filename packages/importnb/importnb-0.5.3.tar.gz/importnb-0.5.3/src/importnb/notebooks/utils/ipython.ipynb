{
 "cells": [
  {
   "cell_type": "code",
   "execution_count": 1,
   "metadata": {},
   "outputs": [],
   "source": [
    "    from IPython import paths, get_ipython\n",
    "    from IPython.core import profiledir\n",
    "    from pathlib import Path\n",
    "    import json, ast\n",
    "    import os"
   ]
  },
  {
   "cell_type": "code",
   "execution_count": 2,
   "metadata": {},
   "outputs": [],
   "source": [
    "    def get_config(profile='default'):\n",
    "        profile_dir = profiledir.ProfileDir()\n",
    "        try:\n",
    "            profile = profile_dir.find_profile_dir_by_name(paths.get_ipython_dir(), profile)\n",
    "        except profiledir.ProfileDirError:\n",
    "            os.makedirs(paths.get_ipython_dir(), exist_ok=True)\n",
    "            profile = profile_dir.create_profile_dir_by_name(paths.get_ipython_dir(), profile)\n",
    "        return Path(profile.location, 'ipython_config.json')"
   ]
  },
  {
   "cell_type": "code",
   "execution_count": 3,
   "metadata": {},
   "outputs": [],
   "source": [
    "    def load_config():\n",
    "        location = get_config()\n",
    "        try:\n",
    "            with location.open() as file:    \n",
    "                config = json.load(file)\n",
    "        except (FileNotFoundError, getattr(json, 'JSONDecodeError', ValueError)):\n",
    "            config = {}\n",
    "\n",
    "        if 'InteractiveShellApp' not in config:\n",
    "            config['InteractiveShellApp'] = {}\n",
    "\n",
    "        if 'extensions' not in config['InteractiveShellApp']:\n",
    "            config['InteractiveShellApp']['extensions'] = []\n",
    "\n",
    "        return config, location"
   ]
  },
  {
   "cell_type": "code",
   "execution_count": 5,
   "metadata": {},
   "outputs": [],
   "source": [
    "    import sys"
   ]
  },
  {
   "cell_type": "code",
   "execution_count": 10,
   "metadata": {},
   "outputs": [],
   "source": [
    "    def install(project='importnb'):\n",
    "        config, location = load_config()\n",
    "        projects = sys.argv[1:] or [project]\n",
    "        if not installed(project):\n",
    "            config['InteractiveShellApp']['extensions'].extend(projects)\n",
    "\n",
    "        with location.open('w') as file: \n",
    "            json.dump(config, file)\n",
    "            \n",
    "        print(\"\"\"<3 {}\"\"\".format(projects))"
   ]
  },
  {
   "cell_type": "code",
   "execution_count": 11,
   "metadata": {},
   "outputs": [],
   "source": [
    "    def installed(project):\n",
    "        config, location = load_config()\n",
    "        return project in config.get('InteractiveShellApp', {}).get('extensions', [])"
   ]
  },
  {
   "cell_type": "code",
   "execution_count": 16,
   "metadata": {},
   "outputs": [],
   "source": [
    "    def uninstall(project='importnb'):\n",
    "        config, location = load_config()\n",
    "        projects = sys.argv[1:] or [project]\n",
    "        config['InteractiveShellApp']['extensions'] = [\n",
    "            ext for ext in config['InteractiveShellApp']['extensions'] \n",
    "            if ext not in  projects\n",
    "        ]\n",
    "\n",
    "        with location.open('w') as file:  json.dump(config, file)\n",
    "        print(\"\"\"</3 {}.\"\"\".format(projects))"
   ]
  },
  {
   "cell_type": "code",
   "execution_count": 17,
   "metadata": {
    "scrolled": false
   },
   "outputs": [],
   "source": [
    "    if __name__ ==  '__main__':\n",
    "        from importnb.utils.export import export\n",
    "        export('ipython.ipynb', '../../utils/ipython.py')"
   ]
  },
  {
   "cell_type": "code",
   "execution_count": null,
   "metadata": {},
   "outputs": [],
   "source": []
  }
 ],
 "metadata": {
  "kernelspec": {
   "display_name": "Python 3",
   "language": "python",
   "name": "python3"
  },
  "language_info": {
   "codemirror_mode": {
    "name": "ipython",
    "version": 3
   },
   "file_extension": ".py",
   "mimetype": "text/x-python",
   "name": "python",
   "nbconvert_exporter": "python",
   "pygments_lexer": "ipython3",
   "version": "3.6.6"
  }
 },
 "nbformat": 4,
 "nbformat_minor": 2
}
