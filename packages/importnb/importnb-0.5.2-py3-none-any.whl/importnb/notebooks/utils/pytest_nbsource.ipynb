{
 "cells": [
  {
   "cell_type": "markdown",
   "metadata": {},
   "source": [
    "`pytest_nbsource` sets some rules when notebooks are used as source code."
   ]
  },
  {
   "cell_type": "code",
   "execution_count": 14,
   "metadata": {},
   "outputs": [],
   "source": [
    "    with __import__('importnb').Notebook():\n",
    "        try: from . import testing\n",
    "        except: from importnb.utils import testing"
   ]
  },
  {
   "cell_type": "code",
   "execution_count": 15,
   "metadata": {},
   "outputs": [],
   "source": [
    "    import importlib, pytest, abc, pathlib"
   ]
  },
  {
   "cell_type": "code",
   "execution_count": 16,
   "metadata": {},
   "outputs": [],
   "source": [
    "    from importnb import Notebook"
   ]
  },
  {
   "cell_type": "code",
   "execution_count": 17,
   "metadata": {},
   "outputs": [],
   "source": [
    "    def pytest_addoption(parser):\n",
    "        group = parser.getgroup(\"general\")\n",
    "        group.addoption('--nbsource', action='store_true', help=\n",
    "                        \"\"\"Notebook source code has monotonically increasing execution result\n",
    "    values and a leading Markdown string is the docstring.\"\"\")\n",
    "        "
   ]
  },
  {
   "cell_type": "code",
   "execution_count": 18,
   "metadata": {},
   "outputs": [],
   "source": [
    "    def pytest_collect_file(parent, path):\n",
    "        \"\"\"`pytest_collect_file` will collect notebooks.\"\"\"\n",
    "\n",
    "        if path.ext == \".ipynb\": return NotebookFile(path, parent)"
   ]
  },
  {
   "cell_type": "code",
   "execution_count": 19,
   "metadata": {},
   "outputs": [],
   "source": [
    " class NotebookFile(pytest.File):\n",
    "    def collect(self):\n",
    "        nb = __import__('json').load(self.fspath.open())\n",
    "        if self.parent.config.option.nbsource:      \n",
    "            yield AggregateNotebookTests(testing.assert_execution_order.__name__, \n",
    "                    self, nb, testing.assert_execution_order)\n",
    "            yield AggregateNotebookTests(\n",
    "                testing.assert_markdown_docstring.__name__, \n",
    "                self, nb, testing.assert_markdown_docstring)"
   ]
  },
  {
   "cell_type": "code",
   "execution_count": 20,
   "metadata": {},
   "outputs": [],
   "source": [
    "  class AggregateNotebookTests(pytest.Item):\n",
    "        \"\"\"`AggregateNotebookTests` is a `pytest.Item` for testing features of notebook data.\"\"\"\n",
    "\n",
    "        def runtest(self):  return self.callable(self.nb)\n",
    "        \n",
    "        def __init__(self, name, parent, nb, callable):\n",
    "            super().__init__(name, parent)\n",
    "            self.nb, self.callable = nb, callable\n",
    "        \n",
    "        def reportinfo(self): \n",
    "            \"\"\"`AggregateNotebookTests.repr_failure` is really similar the to the <b><i>render_traceback</i></b> attribute provided by `IPython` to customize tracebacks.\"\"\"\n",
    "            return self.fspath, 0, \"usecase: %s\" % self.name"
   ]
  },
  {
   "cell_type": "code",
   "execution_count": 21,
   "metadata": {
    "scrolled": false
   },
   "outputs": [],
   "source": [
    "    if __name__ ==  '__main__':\n",
    "        from importnb.utils.export import export\n",
    "        export('pytest_nbsource.ipynb', '../../utils/pytest_nbsource.py')"
   ]
  },
  {
   "cell_type": "code",
   "execution_count": null,
   "metadata": {},
   "outputs": [],
   "source": []
  }
 ],
 "metadata": {
  "kernelspec": {
   "display_name": "Python 3",
   "language": "python",
   "name": "python3"
  },
  "language_info": {
   "codemirror_mode": {
    "name": "ipython",
    "version": 3
   },
   "file_extension": ".py",
   "mimetype": "text/x-python",
   "name": "python",
   "nbconvert_exporter": "python",
   "pygments_lexer": "ipython3",
   "version": "3.6.6"
  }
 },
 "nbformat": 4,
 "nbformat_minor": 2
}
