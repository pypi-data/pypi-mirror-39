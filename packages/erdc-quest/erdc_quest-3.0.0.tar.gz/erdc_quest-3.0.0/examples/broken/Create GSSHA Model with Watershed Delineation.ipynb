{
 "cells": [
  {
   "cell_type": "markdown",
   "metadata": {},
   "source": [
    "# Installation Instructions\n",
    "\n",
    "Clone the repos, install dependencies and install packages terrapin, quest and gsshapy.\n",
    "\n",
    "Note: terrapin isn't used in this example but it will be in future examples...\n",
    "\n",
    "```bash\n",
    "git clone git@public.git.erdc.dren.mil:computational-analysis-and-mechanics/quest.git\n",
    "git clone git@public.git.erdc.dren.mil:computational-analysis-and-mechanics/terrapin.git\n",
    "git clone git@github.com:CI-WATER/gsshapy.git\n",
    "\n",
    "conda env create -n earthsim -f ./terrapin/py3_conda_environment.yml\n",
    "conda env update -n earthsim -f ./quest/py3_conda_environment.yml\n",
    "conda env update -n earthsim -f ./gsshapy/conda_env.yml\n",
    "source activate earthsim\n",
    "\n",
    "cd terrapin\n",
    "python setup.py develop\n",
    "cd ../quest\n",
    "python setup.py develop\n",
    "cd ../gsshapy\n",
    "python setup.py develop\n",
    "```\n"
   ]
  },
  {
   "cell_type": "code",
   "execution_count": 1,
   "metadata": {},
   "outputs": [
    {
     "ename": "ModuleNotFoundError",
     "evalue": "No module named 'gsshapy'",
     "output_type": "error",
     "traceback": [
      "\u001b[0;31m---------------------------------------------------------------------------\u001b[0m",
      "\u001b[0;31mModuleNotFoundError\u001b[0m                       Traceback (most recent call last)",
      "\u001b[0;32m<ipython-input-1-29db8e3d9ca6>\u001b[0m in \u001b[0;36m<module>\u001b[0;34m()\u001b[0m\n\u001b[1;32m      4\u001b[0m \u001b[0;34m\u001b[0m\u001b[0m\n\u001b[1;32m      5\u001b[0m \u001b[0;32mimport\u001b[0m \u001b[0mgeopandas\u001b[0m \u001b[0;32mas\u001b[0m \u001b[0mgpd\u001b[0m\u001b[0;34m\u001b[0m\u001b[0m\n\u001b[0;32m----> 6\u001b[0;31m \u001b[0;32mfrom\u001b[0m \u001b[0mgsshapy\u001b[0m\u001b[0;34m.\u001b[0m\u001b[0mmodeling\u001b[0m \u001b[0;32mimport\u001b[0m \u001b[0mGSSHAModel\u001b[0m\u001b[0;34m\u001b[0m\u001b[0m\n\u001b[0m\u001b[1;32m      7\u001b[0m \u001b[0;32mimport\u001b[0m \u001b[0mquest\u001b[0m\u001b[0;34m\u001b[0m\u001b[0m\n\u001b[1;32m      8\u001b[0m \u001b[0;32mfrom\u001b[0m \u001b[0mmatplotlib\u001b[0m \u001b[0;32mimport\u001b[0m \u001b[0mcolors\u001b[0m\u001b[0;34m,\u001b[0m \u001b[0mcm\u001b[0m\u001b[0;34m,\u001b[0m \u001b[0mpyplot\u001b[0m \u001b[0;32mas\u001b[0m \u001b[0mplt\u001b[0m\u001b[0;34m\u001b[0m\u001b[0m\n",
      "\u001b[0;31mModuleNotFoundError\u001b[0m: No module named 'gsshapy'"
     ]
    }
   ],
   "source": [
    "%matplotlib inline\n",
    "from datetime import datetime, timedelta\n",
    "import os\n",
    "\n",
    "import geopandas as gpd\n",
    "from gsshapy.modeling import GSSHAModel\n",
    "import quest\n",
    "from matplotlib import colors, cm, pyplot as plt\n",
    "from gazar import grid\n",
    "import numpy as np"
   ]
  },
  {
   "cell_type": "code",
   "execution_count": null,
   "metadata": {},
   "outputs": [],
   "source": [
    "VICKSBURG = 'vicksburg'\n",
    "PROVO = 'provo'\n",
    "\n",
    "location = PROVO\n",
    "# location = VICKSBURG\n",
    "\n",
    "BBOXES = {VICKSBURG: [-90.9, 32.2, -90.8, 32.3],\n",
    "          PROVO: [-111.6, 40.0, -111.4, 40.15]\n",
    "         }\n",
    "\n",
    "OUTLETS = {VICKSBURG: (-90.885, 32.2158), # (-90.889, 32.2133) Move point out of Mississippi River,\n",
    "           PROVO: (-111.44851851851851, 40.0787962962963),\n",
    "          }\n",
    "\n",
    "#service_feature = SERVICE_FEATURES[location]\n",
    "bbox = BBOXES[location]\n",
    "outlet = [OUTLETS[location]]"
   ]
  },
  {
   "cell_type": "markdown",
   "metadata": {},
   "source": [
    "Function to automate the downloading process:"
   ]
  },
  {
   "cell_type": "code",
   "execution_count": null,
   "metadata": {},
   "outputs": [],
   "source": [
    "def download_data(service_uri, bbox, collection):\n",
    "    \"\"\"\n",
    "    Downloads raster data from source uri and adds to a quest collection.\n",
    "    \n",
    "    If multiple raster tiles are retrieved for the given bounds it calls a quest \n",
    "    filter to merge the tiles into a single raster.\n",
    "    \n",
    "    Returns quest uid for merged raster\n",
    "    \"\"\"\n",
    "    \n",
    "    features = quest.api.search_catalog(service_uri, filters={'bbox': bbox})\n",
    "    print('Selected raster tiles:', features)\n",
    "    features = quest.api.add_datasets(collection, features)\n",
    "    datasets = quest.api.stage_for_download(features)\n",
    "    print('start download -->')\n",
    "    quest.api.download_datasets(datasets)\n",
    "    print('start merge & clip -->')\n",
    "    result = quest.api.run_tool('raster-merge', datasets=datasets, options={'bbox': bbox})\n",
    "    merged_dataset = result['datasets'][0]\n",
    "    print('merged raster:', merged_dataset)\n",
    "    \n",
    "    return merged_dataset"
   ]
  },
  {
   "cell_type": "markdown",
   "metadata": {},
   "source": [
    "Parameters to change for the run:"
   ]
  },
  {
   "cell_type": "code",
   "execution_count": null,
   "metadata": {},
   "outputs": [],
   "source": [
    "elevation_service = 'svc://usgs-ned:13-arc-second'\n",
    "land_use_service = 'svc://usgs-nlcd:2011'\n",
    "land_use_grid_id = 'nlcd'\n",
    "base_dir = os.getcwd() # path needs to be absolute for gsshapy\n",
    "gssha_model_name = location + '_with_delineation'\n",
    "gssha_model_directory = os.path.join(base_dir, gssha_model_name)\n",
    "boundary_shapefile = os.path.join(base_dir, gssha_model_name, 'watershed_boundary.shp')"
   ]
  },
  {
   "cell_type": "markdown",
   "metadata": {},
   "source": [
    "The collection is where we will origanize the downloaded data."
   ]
  },
  {
   "cell_type": "code",
   "execution_count": null,
   "metadata": {},
   "outputs": [],
   "source": [
    "## Delete all collections\n",
    "# for collection in quest.api.get_collections():\n",
    "#   quest.api.delete(collection)"
   ]
  },
  {
   "cell_type": "code",
   "execution_count": null,
   "metadata": {},
   "outputs": [],
   "source": [
    "try:\n",
    "    quest.api.new_collection(gssha_model_name)\n",
    "except ValueError as e:\n",
    "    print(e)"
   ]
  },
  {
   "cell_type": "markdown",
   "metadata": {},
   "source": [
    "Download the data. This may take some time."
   ]
  },
  {
   "cell_type": "code",
   "execution_count": null,
   "metadata": {
    "scrolled": true
   },
   "outputs": [],
   "source": [
    "elevation = download_data(elevation_service, bbox, gssha_model_name)"
   ]
  },
  {
   "cell_type": "code",
   "execution_count": null,
   "metadata": {},
   "outputs": [],
   "source": [
    "def watershed_delineation(elevation, outlet):\n",
    "    # run pit filling algorithm\n",
    "    algorithm = 'go-fill'  # one of ['flats', 'go-fill', 'go-breach']\n",
    "    result = quest.api.run_tool('raster-fill', datasets=elevation, options={'algorithm': algorithm})\n",
    "    pit_filled = result['datasets'][0]\n",
    "    \n",
    "    # run flow accumulation\n",
    "    algorithm = 'go-d8'  # one of ['d8', 'go-d8', 'go-fd8']\n",
    "    result = quest.api.run_tool('raster-flow-accumulation', datasets=pit_filled, options={'algorithm': algorithm})\n",
    "    flow_accumulation = result['datasets'][0]\n",
    "    print(flow_accumulation)\n",
    "    \n",
    "    # snap outlet point\n",
    "    result = quest.api.run_tool('raster-watershed-snap-outlet', datasets=flow_accumulation, \n",
    "                       options={'outlet_points': outlet, 'snap_outlets': 'jenson', 'stream_threshold_pct': 0.01})\n",
    "    snapped_outlet = result['features']['outlet']\n",
    "    \n",
    "    # generate delineation\n",
    "    result = quest.api.run_tool('raster-watershed-delineation', datasets=pit_filled, features=[snapped_outlet])\n",
    "\n",
    "    return result['features']['watershed'], result['features']['outlet'], flow_accumulation"
   ]
  },
  {
   "cell_type": "code",
   "execution_count": null,
   "metadata": {},
   "outputs": [],
   "source": [
    "# use the merged raster to create a shapefile\n",
    "watershed, outlet, flow_accumulation = watershed_delineation(elevation, outlet)\n",
    "print(watershed, outlet, flow_accumulation)"
   ]
  },
  {
   "cell_type": "code",
   "execution_count": null,
   "metadata": {},
   "outputs": [],
   "source": [
    "# viz watershed\n",
    "watershed_geometry = quest.api.get_metadata(watershed)[watershed]['geometry']\n",
    "outlet_lon, outlet_lat = np.array(quest.api.get_metadata(outlet)[outlet]['geometry'].coords.xy).squeeze().tolist()\n",
    "print(watershed_geometry.area, outlet_lon, outlet_lat)\n",
    "watershed_geometry"
   ]
  },
  {
   "cell_type": "code",
   "execution_count": null,
   "metadata": {},
   "outputs": [],
   "source": [
    "## read in & plot flow accumulation\n",
    "flow_accumulation_file = quest.api.get_metadata(flow_accumulation)[flow_accumulation]['file_path']\n",
    "flow_accumulation_dataset = grid.GDALGrid(flow_accumulation_file)\n",
    "flow_accumulation_data = flow_accumulation_dataset.np_array()\n",
    "\n",
    "max_accumulation = flow_accumulation_data.max()\n",
    "stream_threshold = max_accumulation * 0.01\n",
    "rivers = np.ma.masked_where(flow_accumulation_data < stream_threshold, flow_accumulation_data)\n",
    "plt.imshow(flow_accumulation_data, cmap=cm.terrain, norm=colors.LogNorm())"
   ]
  },
  {
   "cell_type": "code",
   "execution_count": null,
   "metadata": {},
   "outputs": [],
   "source": [
    "# read in elevation data\n",
    "dem_file = quest.api.get_metadata(elevation)[elevation]['file_path']\n",
    "dem = grid.GDALGrid(dem_file)\n",
    "lat, lon = dem.latlon"
   ]
  },
  {
   "cell_type": "code",
   "execution_count": null,
   "metadata": {},
   "outputs": [],
   "source": [
    "# plot outlet pixel and river network\n",
    "window = 200\n",
    "stream_threshold = flow_accumulation_data.max() * 0.01\n",
    "rivers = np.ma.masked_where(flow_accumulation_data < stream_threshold, flow_accumulation_data)\n",
    "fig, ax = plt.subplots()\n",
    "ax.imshow(np.flip(dem.np_array(), 0))\n",
    "plt.imshow(np.flip(rivers, 0), cmap=cm.gray_r, norm=colors.LogNorm(), origin=\"lower\")\n",
    "outlet_col, outlet_row = flow_accumulation_dataset.lonlat2pixel(outlet_lon, outlet_lat)\n",
    "ax.scatter(x=outlet_col, y=rivers.shape[0] - outlet_row, s=50, color='red')\n",
    "ax.set_xlim((outlet_col-window,outlet_col+window))\n",
    "ax.set_ylim((outlet_row-window,outlet_row+window))"
   ]
  },
  {
   "cell_type": "code",
   "execution_count": null,
   "metadata": {},
   "outputs": [],
   "source": [
    "# plot the generated watershed with outlet point\n",
    "watershed_geometry = quest.api.get_metadata(watershed)[watershed]['geometry']\n",
    "outlet_lon, outlet_lat = quest.api.get_metadata(outlet)[outlet]['geometry'].coords.xy\n",
    "\n",
    "import cartopy.crs as ccrs\n",
    "import cartopy.feature as cfeature\n",
    "from cartopy.mpl.gridliner import LONGITUDE_FORMATTER, LATITUDE_FORMATTER\n",
    "from matplotlib import colors, cm, pyplot as plt\n",
    "\n",
    "xmin, ymin, xmax, ymax = bbox\n",
    "display_bbox = [xmin, xmax, ymin, ymax]\n",
    "graticule_spacing = 0.01\n",
    "\n",
    "fig = plt.figure(figsize=(10, 10))\n",
    "ax = plt.axes(projection=ccrs.PlateCarree())\n",
    "ax.set_extent(display_bbox)\n",
    "\n",
    "gl = ax.gridlines(crs=ccrs.PlateCarree(), draw_labels=True,\n",
    "                  linewidth=2, color='gray', alpha=0.5, linestyle='--')\n",
    "gl.xformatter = LONGITUDE_FORMATTER\n",
    "gl.yformatter = LATITUDE_FORMATTER\n",
    "gl.xlabels_top = False\n",
    "\n",
    "plt.contourf(lon, lat, dem.np_array(), 100, zorder=2, cmap=cm.terrain, transform=ccrs.PlateCarree())\n",
    "ax.imshow(rivers, cmap=cm.ocean, origin='lower', zorder=3)\n",
    "watershed_shp = cfeature.ShapelyFeature([watershed_geometry], ccrs.PlateCarree())\n",
    "ax.add_feature(watershed_shp, zorder=4, alpha=0.6)\n",
    "ax.scatter(x=outlet_lon, y=outlet_lat, color='red', zorder=5, transform=ccrs.PlateCarree())\n",
    "plt.title(\"Watershed\")\n",
    "plt.show()"
   ]
  },
  {
   "cell_type": "code",
   "execution_count": null,
   "metadata": {},
   "outputs": [],
   "source": [
    "land_use = download_data(land_use_service, bbox, gssha_model_name)"
   ]
  },
  {
   "cell_type": "markdown",
   "metadata": {},
   "source": [
    "Use the data to generate a GSSHA model. This may take a minute."
   ]
  },
  {
   "cell_type": "code",
   "execution_count": null,
   "metadata": {},
   "outputs": [],
   "source": [
    "# make the directory for the output\n",
    "try:\n",
    "    os.mkdir(gssha_model_directory)\n",
    "except OSError:\n",
    "    pass"
   ]
  },
  {
   "cell_type": "code",
   "execution_count": null,
   "metadata": {},
   "outputs": [],
   "source": [
    "# Save Watershed as a Shapefile for GSSHA\n",
    "ws = quest.api.get_metadata(watershed, as_dataframe=True)"
   ]
  },
  {
   "cell_type": "code",
   "execution_count": null,
   "metadata": {},
   "outputs": [],
   "source": [
    "# workaround for crs not being saved correctly\n",
    "ws.crs = {'init' :'epsg:4326'}"
   ]
  },
  {
   "cell_type": "code",
   "execution_count": null,
   "metadata": {},
   "outputs": [],
   "source": [
    "# Save Watershed as a Shapefile for GSSHA\n",
    "del ws['created_at'] # gpd error on save\n",
    "ws.to_file(boundary_shapefile)"
   ]
  },
  {
   "cell_type": "code",
   "execution_count": null,
   "metadata": {},
   "outputs": [],
   "source": [
    "elevation_file_path = quest.api.get_metadata(elevation)[elevation]['file_path']\n",
    "land_use_file_path = quest.api.get_metadata(land_use)[land_use]['file_path']"
   ]
  },
  {
   "cell_type": "code",
   "execution_count": null,
   "metadata": {},
   "outputs": [],
   "source": [
    "# generate GSSHA model files\n",
    "model = GSSHAModel(project_name=gssha_model_name,\n",
    "                   project_directory=gssha_model_directory,\n",
    "                   mask_shapefile=boundary_shapefile,\n",
    "                   elevation_grid_path=elevation_file_path,\n",
    "                   land_use_grid=land_use_file_path,\n",
    "                   land_use_grid_id=land_use_grid_id,\n",
    "                   out_hydrograph_write_frequency=1,\n",
    "                   )\n",
    "\n",
    "# add card for max depth\n",
    "model.project_manager.setCard('FLOOD_GRID',\n",
    "                              '{0}.fgd'.format(gssha_model_name),\n",
    "                              add_quotes=True)\n",
    "# TODO: Add depth grids to simulation\n",
    "# MAP_FREQ, DEPTH\n",
    "\n",
    "# add event for simulation\n",
    "model.set_event(simulation_start=datetime.utcnow(),\n",
    "                simulation_duration=timedelta(seconds=2*60),\n",
    "                rain_intensity=24,\n",
    "                rain_duration=timedelta(seconds=1*60),\n",
    "                )\n",
    "model.write()"
   ]
  },
  {
   "cell_type": "code",
   "execution_count": null,
   "metadata": {},
   "outputs": [],
   "source": []
  }
 ],
 "metadata": {
  "kernelspec": {
   "display_name": "Python 3",
   "language": "python",
   "name": "python3"
  },
  "language_info": {
   "codemirror_mode": {
    "name": "ipython",
    "version": 3
   },
   "file_extension": ".py",
   "mimetype": "text/x-python",
   "name": "python",
   "nbconvert_exporter": "python",
   "pygments_lexer": "ipython3",
   "version": "3.6.6"
  }
 },
 "nbformat": 4,
 "nbformat_minor": 1
}
