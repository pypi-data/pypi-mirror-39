{
 "cells": [
  {
   "cell_type": "code",
   "execution_count": null,
   "metadata": {},
   "outputs": [],
   "source": [
    "import quest\n",
    "import holoviews as hv\n",
    "import hvplot.pandas\n",
    "from paramnb import Widgets  # can't use parambokeh because the dates widgets don't work properly"
   ]
  },
  {
   "cell_type": "markdown",
   "metadata": {},
   "source": [
    "# Query USGS Data Service for Data"
   ]
  },
  {
   "cell_type": "code",
   "execution_count": null,
   "metadata": {},
   "outputs": [],
   "source": [
    "service_selector = quest.util.ServiceSelector(default='svc://usgs-nwis:iv')\n",
    "Widgets(service_selector)"
   ]
  },
  {
   "cell_type": "code",
   "execution_count": null,
   "metadata": {},
   "outputs": [],
   "source": [
    "download_options = quest.api.get_download_options(service_selector.service, fmt='param')[service_selector.service]\n",
    "Widgets(download_options)"
   ]
  },
  {
   "cell_type": "code",
   "execution_count": null,
   "metadata": {},
   "outputs": [],
   "source": [
    "data = quest.api.get_data(\n",
    "    service_uri=service_selector.service,\n",
    "    search_filters={'bbox': [-91, 32.3, -90.8, 32.34]},\n",
    "    download_options=download_options,\n",
    "    collection_name='examples',\n",
    "    use_cache=True,\n",
    "    as_open_datasets=True,\n",
    "    raise_on_error=True,\n",
    ")[0]\n",
    "data.head()"
   ]
  },
  {
   "cell_type": "code",
   "execution_count": null,
   "metadata": {},
   "outputs": [],
   "source": [
    "data[download_options.parameter].hvplot()"
   ]
  },
  {
   "cell_type": "markdown",
   "metadata": {},
   "source": [
    "# Run a Tool to Transform Downloaded Data"
   ]
  },
  {
   "cell_type": "code",
   "execution_count": null,
   "metadata": {},
   "outputs": [],
   "source": [
    "tool = quest.tools.ts_resample\n",
    "tool.dataset = data.metadata['name']\n",
    "Widgets(tool)"
   ]
  },
  {
   "cell_type": "code",
   "execution_count": null,
   "metadata": {},
   "outputs": [],
   "source": [
    "new_dataset = tool()['datasets'][0]\n",
    "new_data = quest.api.open_dataset(new_dataset)\n",
    "new_data.index = new_data.index.to_timestamp()\n",
    "new_data.head()"
   ]
  },
  {
   "cell_type": "code",
   "execution_count": null,
   "metadata": {},
   "outputs": [],
   "source": [
    "parameter = quest.api.get_metadata(new_dataset)[new_dataset]['parameter']\n",
    "new_data[parameter].hvplot()"
   ]
  },
  {
   "cell_type": "markdown",
   "metadata": {},
   "source": [
    "# Query Quest for Available Data Providers"
   ]
  },
  {
   "cell_type": "code",
   "execution_count": null,
   "metadata": {},
   "outputs": [],
   "source": [
    "publisher_selector = quest.util.PublisherSelector(default='pub://cuahsi-hydroshare:hs_pub')\n",
    "Widgets(publisher_selector)"
   ]
  },
  {
   "cell_type": "markdown",
   "metadata": {},
   "source": [
    "# Publish New Dataset to Data Depot"
   ]
  },
  {
   "cell_type": "code",
   "execution_count": null,
   "metadata": {},
   "outputs": [],
   "source": [
    "publisher = publisher_selector.publisher\n",
    "publish_options = quest.api.get_publish_options(publisher, fmt='param')[publisher]"
   ]
  },
  {
   "cell_type": "code",
   "execution_count": null,
   "metadata": {},
   "outputs": [],
   "source": [
    "Widgets(publish_options)"
   ]
  },
  {
   "cell_type": "code",
   "execution_count": null,
   "metadata": {},
   "outputs": [],
   "source": [
    "if publish_options.datasets:\n",
    "    if not quest.api.get_auth_status('cuahsi-hydroshare'):\n",
    "        quest.api.authenticate_provider('cuahsi-hydroshare')\n",
    "    hs_resource_id = quest.api.publish(publisher, options=publish_options)\n",
    "    print('Hydroshare Resource ID:', hs_resource_id)"
   ]
  },
  {
   "cell_type": "code",
   "execution_count": null,
   "metadata": {},
   "outputs": [],
   "source": []
  }
 ],
 "metadata": {
  "kernelspec": {
   "display_name": "Python 3",
   "language": "python",
   "name": "python3"
  },
  "language_info": {
   "codemirror_mode": {
    "name": "ipython",
    "version": 3
   },
   "file_extension": ".py",
   "mimetype": "text/x-python",
   "name": "python",
   "nbconvert_exporter": "python",
   "pygments_lexer": "ipython3",
   "version": "3.6.6"
  }
 },
 "nbformat": 4,
 "nbformat_minor": 2
}
