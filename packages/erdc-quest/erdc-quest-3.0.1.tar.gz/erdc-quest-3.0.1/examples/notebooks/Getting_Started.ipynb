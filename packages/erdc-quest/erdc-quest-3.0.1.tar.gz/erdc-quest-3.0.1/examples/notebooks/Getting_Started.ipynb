{
 "cells": [
  {
   "cell_type": "markdown",
   "metadata": {},
   "source": [
    "# Getting Started with using Quest."
   ]
  },
  {
   "cell_type": "code",
   "execution_count": null,
   "metadata": {},
   "outputs": [],
   "source": [
    "from pprint import pprint\n",
    "import itertools\n",
    "from IPython.display import display, Markdown\n",
    "\n",
    "import param\n",
    "import ipywidgets as widgets\n",
    "from paramnb import Widgets \n",
    "\n",
    "import quest\n",
    "print('\\nQUEST version %s' % quest.api.get_quest_version())\n",
    "print('\\nQUEST API version %s' % quest.api.get_api_version())"
   ]
  },
  {
   "cell_type": "markdown",
   "metadata": {},
   "source": [
    "### Quest Provider Plugins:"
   ]
  },
  {
   "cell_type": "code",
   "execution_count": null,
   "metadata": {},
   "outputs": [],
   "source": [
    "providers = quest.api.get_providers()\n",
    "print(\"Providers: \")\n",
    "pprint(providers)\n",
    "\n",
    "services = quest.api.get_services()\n",
    "print(\"\\nServices: \")\n",
    "pprint(services)\n",
    "\n",
    "publishers = quest.api.get_publishers()\n",
    "print(\"\\nPublishers: \")\n",
    "pprint(publishers)"
   ]
  },
  {
   "cell_type": "markdown",
   "metadata": {},
   "source": [
    "### Quest Tool Plugins:"
   ]
  },
  {
   "cell_type": "code",
   "execution_count": null,
   "metadata": {},
   "outputs": [],
   "source": [
    "tools = quest.api.get_tools()\n",
    "pprint(tools)"
   ]
  },
  {
   "cell_type": "markdown",
   "metadata": {},
   "source": [
    "### Quest Projects"
   ]
  },
  {
   "cell_type": "code",
   "execution_count": null,
   "metadata": {},
   "outputs": [],
   "source": [
    "print('\\033[1m' + 'Showing existing projects.' + '\\033[0m')\n",
    "projects = quest.api.get_projects()\n",
    "pprint(projects)\n",
    "\n",
    "print('\\n---------------------------\\n')\n",
    "print('\\033[1m' + 'Creating a new project.' + '\\033[0m')\n",
    "\n",
    "if 'quest-demo' in projects:\n",
    "    quest.api.delete_project('quest-demo')\n",
    "\n",
    "quest.api.new_project('Quest-Demo', 'Quest-Demo', 'For demostrating how to use Quest.')"
   ]
  },
  {
   "cell_type": "markdown",
   "metadata": {},
   "source": [
    "### Quest Collections"
   ]
  },
  {
   "cell_type": "code",
   "execution_count": null,
   "metadata": {},
   "outputs": [],
   "source": [
    "print('\\033[1m' + 'Showing existing collections.' + '\\033[0m')\n",
    "collections = quest.api.get_collections()\n",
    "pprint(collections)\n",
    "\n",
    "print('\\n---------------------------\\n')\n",
    "print('\\033[1m' + 'Creating a new project.' + '\\033[0m')\n",
    "\n",
    "collection_name = 'col-test'\n",
    "if collection_name in collections:\n",
    "    quest.api.delete(collection_name)\n",
    "\n",
    "quest.api.new_collection(collection_name, collection_name, 'For demonstrating how to add collections to Quest.')"
   ]
  },
  {
   "cell_type": "markdown",
   "metadata": {},
   "source": [
    "### Getting Catalog Entries:"
   ]
  },
  {
   "cell_type": "code",
   "execution_count": null,
   "metadata": {},
   "outputs": [],
   "source": [
    "filters = {}\n",
    "get_parameter = widgets.Dropdown(options=quest.api.get_mapped_parameters(), description='Parameters:')\n",
    "display(get_parameter)"
   ]
  },
  {
   "cell_type": "code",
   "execution_count": null,
   "metadata": {},
   "outputs": [],
   "source": [
    "if get_parameter.value != '':\n",
    "    filters['parameter'] = get_parameter.value\n",
    "    get_service = widgets.Dropdown(options=quest.api.get_services(parameter=get_parameter.value), description='Services:')\n",
    "else:\n",
    "    get_service = widgets.Dropdown(options=quest.api.get_services(), description='Services:')\n",
    "display(get_service)"
   ]
  },
  {
   "cell_type": "code",
   "execution_count": null,
   "metadata": {},
   "outputs": [],
   "source": [
    "get_geom = widgets.Dropdown(options=['', 'Point', 'Polygon', 'Line'], description='Gemoetry:')\n",
    "display(get_geom)"
   ]
  },
  {
   "cell_type": "code",
   "execution_count": null,
   "metadata": {},
   "outputs": [],
   "source": [
    "if get_geom.value != '':\n",
    "    filters['geom_type'] = get_geom.value\n",
    "    \n",
    "long_min = widgets.Text(description='long min:')\n",
    "lat_min = widgets.Text(description='lat min:')\n",
    "long_max = widgets.Text(description='long max:')\n",
    "lat_max = widgets.Text(description='lat max:')\n",
    "display(long_min, lat_min, long_max, lat_max)"
   ]
  },
  {
   "cell_type": "code",
   "execution_count": null,
   "metadata": {},
   "outputs": [],
   "source": [
    "value = len(long_min.value) * len(lat_min.value) * len(long_max.value) * len(lat_max.value)\n",
    "if value != 0:\n",
    "    bbox = [long_min.value, lat_min.value, long_max.value, lat_max.value]\n",
    "    filters['bbox'] = bbox"
   ]
  },
  {
   "cell_type": "code",
   "execution_count": null,
   "metadata": {},
   "outputs": [],
   "source": [
    "cache = widgets.Checkbox(value=False, description='Update Cache')\n",
    "display(cache)"
   ]
  },
  {
   "cell_type": "code",
   "execution_count": null,
   "metadata": {},
   "outputs": [],
   "source": [
    "filters = {'parameter': get_parameter.value}\n",
    "datasets = quest.api.search_catalog(uris=get_service.value, filters=filters, update_cache=cache.value, as_dataframe=True)\n",
    "datasets"
   ]
  },
  {
   "cell_type": "code",
   "execution_count": null,
   "metadata": {},
   "outputs": [],
   "source": [
    "get_datasets = widgets.Dropdown(options=datasets.index.tolist()[:50], description='Datasets:')\n",
    "display(get_datasets)"
   ]
  },
  {
   "cell_type": "markdown",
   "metadata": {},
   "source": [
    "### Add the dataset to a collection:"
   ]
  },
  {
   "cell_type": "code",
   "execution_count": null,
   "metadata": {},
   "outputs": [],
   "source": [
    "catalog_entry = quest.api.add_datasets(collection_name, get_datasets.value)\n",
    "catalog_entry"
   ]
  },
  {
   "cell_type": "markdown",
   "metadata": {},
   "source": [
    "### Get the download options:"
   ]
  },
  {
   "cell_type": "code",
   "execution_count": null,
   "metadata": {},
   "outputs": [],
   "source": [
    "download_options = quest.api.get_download_options(catalog_entry, fmt='param')[catalog_entry[0]]\n",
    "Widgets(download_options)"
   ]
  },
  {
   "cell_type": "markdown",
   "metadata": {},
   "source": [
    "### Download the selected data:"
   ]
  },
  {
   "cell_type": "code",
   "execution_count": null,
   "metadata": {},
   "outputs": [],
   "source": [
    "staged_id = quest.api.stage_for_download(catalog_entry, options=download_options)\n",
    "print('\\033[1m' + \"Staged ID: \" + '\\033[0m' + staged_id[0])\n",
    "\n",
    "quest.api.download_datasets(staged_id)"
   ]
  },
  {
   "cell_type": "code",
   "execution_count": null,
   "metadata": {},
   "outputs": [],
   "source": []
  }
 ],
 "metadata": {
  "kernelspec": {
   "display_name": "Python 3",
   "language": "python",
   "name": "python3"
  },
  "language_info": {
   "codemirror_mode": {
    "name": "ipython",
    "version": 3
   },
   "file_extension": ".py",
   "mimetype": "text/x-python",
   "name": "python",
   "nbconvert_exporter": "python",
   "pygments_lexer": "ipython3",
   "version": "3.6.6"
  }
 },
 "nbformat": 4,
 "nbformat_minor": 2
}
