{
 "cells": [
  {
   "cell_type": "markdown",
   "metadata": {},
   "source": [
    "See installation instructions in 'Create GSSHA Model' notebook\n",
    "GSSHA needs to be installed as well. INstructions to follow...."
   ]
  },
  {
   "cell_type": "code",
   "execution_count": null,
   "metadata": {},
   "outputs": [],
   "source": [
    "import os\n",
    "from datetime import datetime, timedelta\n",
    "from gsshapy.modeling import GSSHAFramework"
   ]
  },
  {
   "cell_type": "code",
   "execution_count": null,
   "metadata": {},
   "outputs": [],
   "source": [
    "# assuming notebook is run from examples folder\n",
    "base_dir = os.getcwd()\n",
    "gssha_model_name = 'vicksburg_south'\n",
    "base_gssha_model_directory = os.path.join(base_dir, gssha_model_name)\n",
    "\n",
    "gr = GSSHAFramework(\"gssha\",\n",
    "                    base_gssha_model_directory,\n",
    "                    \"{0}.prj\".format(gssha_model_name),\n",
    "                    gssha_simulation_start=datetime(2017, 5 ,9),\n",
    "                    gssha_simulation_duration=timedelta(seconds=2*60))\n",
    "\n",
    "# http://www.gsshawiki.com/Model_Construction:Defining_a_uniform_precipitation_event\n",
    "rain_intensity = 24  # mm/hr \n",
    "rain_duration = timedelta(seconds=1*60)  # 2 minutes\n",
    "gr.event_manager.add_uniform_precip_event(rain_intensity,\n",
    "                                          rain_duration)\n",
    "\n",
    "gssha_event_directory = gr.run()"
   ]
  },
  {
   "cell_type": "markdown",
   "metadata": {
    "collapsed": true
   },
   "source": [
    "The `gssha_event_directory` is where the simulation output is stored."
   ]
  },
  {
   "cell_type": "code",
   "execution_count": null,
   "metadata": {},
   "outputs": [],
   "source": [
    "gssha_event_directory"
   ]
  },
  {
   "cell_type": "code",
   "execution_count": null,
   "metadata": {},
   "outputs": [],
   "source": []
  }
 ],
 "metadata": {
  "kernelspec": {
   "display_name": "Python 3",
   "language": "python",
   "name": "python3"
  },
  "language_info": {
   "codemirror_mode": {
    "name": "ipython",
    "version": 3
   },
   "file_extension": ".py",
   "mimetype": "text/x-python",
   "name": "python",
   "nbconvert_exporter": "python",
   "pygments_lexer": "ipython3",
   "version": "3.6.6"
  }
 },
 "nbformat": 4,
 "nbformat_minor": 2
}
