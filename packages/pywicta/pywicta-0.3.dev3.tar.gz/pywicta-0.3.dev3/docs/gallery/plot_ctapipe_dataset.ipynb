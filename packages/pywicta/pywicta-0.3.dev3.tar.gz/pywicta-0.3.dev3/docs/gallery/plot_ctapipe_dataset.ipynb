{
  "cells": [
    {
      "cell_type": "code",
      "execution_count": null,
      "metadata": {
        "collapsed": false
      },
      "outputs": [],
      "source": [
        "%matplotlib inline"
      ]
    },
    {
      "cell_type": "markdown",
      "metadata": {},
      "source": [
        "\n# Get ctapipe dataset\n\n\nThis example show how to get images from ctapipe embedded datasets using\npywicta image generator and how to print them with pywicta plot functions.\n\n"
      ]
    },
    {
      "cell_type": "code",
      "execution_count": null,
      "metadata": {
        "collapsed": false
      },
      "outputs": [],
      "source": [
        "import pywicta\nfrom pywicta.io import geometry_converter\nfrom pywicta.io.images import image_generator\nfrom pywicta.io.images import plot_ctapipe_image\n\nimport ctapipe\nfrom ctapipe.utils.datasets import get_dataset\n\nimport matplotlib.pyplot as plt"
      ]
    },
    {
      "cell_type": "markdown",
      "metadata": {},
      "source": [
        "Ignore warnings.\n\n"
      ]
    },
    {
      "cell_type": "code",
      "execution_count": null,
      "metadata": {
        "collapsed": false
      },
      "outputs": [],
      "source": [
        "import warnings\nwarnings.filterwarnings('ignore')"
      ]
    },
    {
      "cell_type": "markdown",
      "metadata": {},
      "source": [
        "Print the list of available ctapipe extra resources.\n\n"
      ]
    },
    {
      "cell_type": "code",
      "execution_count": null,
      "metadata": {
        "collapsed": false
      },
      "outputs": [],
      "source": [
        "print(ctapipe.utils.datasets.find_all_matching_datasets(''))"
      ]
    },
    {
      "cell_type": "markdown",
      "metadata": {},
      "source": [
        "Get images from ctapipe embedded datasets.\n\n"
      ]
    },
    {
      "cell_type": "code",
      "execution_count": null,
      "metadata": {
        "collapsed": false
      },
      "outputs": [],
      "source": [
        "#SIMTEL_FILE = get_dataset('gamma_test.simtel.gz')\nSIMTEL_FILE = get_dataset('gamma_test_large.simtel.gz')"
      ]
    },
    {
      "cell_type": "markdown",
      "metadata": {},
      "source": [
        "Get dataset images using pywicta image generator.\n\n"
      ]
    },
    {
      "cell_type": "code",
      "execution_count": null,
      "metadata": {
        "collapsed": false
      },
      "outputs": [],
      "source": [
        "PATHS = [SIMTEL_FILE]\nNUM_IMAGES = 3\n\nCAM_FILTER_LIST = None\n#CAM_FILTER_LIST = [\"LSTCam\"]\n\nit = image_generator(PATHS,\n                     max_num_images=NUM_IMAGES,\n                     ctapipe_format=True,\n                     time_samples=False,\n                     cam_filter_list=CAM_FILTER_LIST)"
      ]
    },
    {
      "cell_type": "markdown",
      "metadata": {},
      "source": [
        "Plot some images in the gamma test dataset using pywicta plot functions.\n\n"
      ]
    },
    {
      "cell_type": "code",
      "execution_count": null,
      "metadata": {
        "collapsed": false
      },
      "outputs": [],
      "source": [
        "for image in it:\n    title_str = \"{} (run {}, event {}, tel {}, {:0.2f} {})\".format(image.meta['cam_id'],\n                                                                   image.meta['run_id'],\n                                                                   image.meta['event_id'],\n                                                                   image.meta['tel_id'],\n                                                                   image.meta['mc_energy'][0],\n                                                                   image.meta['mc_energy'][1])\n    geom1d = geometry_converter.get_geom1d(image.meta['cam_id'])\n    \n    # Plot the image with NSB\n    plot_ctapipe_image(image.input_image, geom=geom1d, plot_axis=False, title=title_str)\n    plt.show()\n    \n    # Plot the image without NSB\n    plot_ctapipe_image(image.reference_image, geom=geom1d, plot_axis=False, title=title_str)\n    plt.show()"
      ]
    }
  ],
  "metadata": {
    "kernelspec": {
      "display_name": "Python 3",
      "language": "python",
      "name": "python3"
    },
    "language_info": {
      "codemirror_mode": {
        "name": "ipython",
        "version": 3
      },
      "file_extension": ".py",
      "mimetype": "text/x-python",
      "name": "python",
      "nbconvert_exporter": "python",
      "pygments_lexer": "ipython3",
      "version": "3.6.6"
    }
  },
  "nbformat": 4,
  "nbformat_minor": 0
}