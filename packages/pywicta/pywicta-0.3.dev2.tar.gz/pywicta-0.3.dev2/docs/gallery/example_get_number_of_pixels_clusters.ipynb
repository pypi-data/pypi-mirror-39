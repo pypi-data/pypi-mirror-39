{
  "cells": [
    {
      "cell_type": "code",
      "execution_count": null,
      "metadata": {
        "collapsed": false
      },
      "outputs": [],
      "source": [
        "%matplotlib inline"
      ]
    },
    {
      "cell_type": "markdown",
      "metadata": {},
      "source": [
        "\n# Get number of pixels clusters example\n\n\nBlablabla\n\n"
      ]
    },
    {
      "cell_type": "code",
      "execution_count": null,
      "metadata": {
        "collapsed": false
      },
      "outputs": [],
      "source": [
        "import numpy as np\n\nimport os\n\nimport pywicta\nfrom pywicta.io import geometry_converter\nfrom pywicta.io.images import image_generator\nfrom pywicta.io.images import plot_ctapipe_image\n\nfrom pywi.processing.filtering import pixel_clusters\n\n# ## Define some constants\n\n#cam_id = \"ASTRICam\"\n#cam_id = \"CHEC\"\n#cam_id = \"DigiCam\"\n#cam_id = \"FlashCam\"\n#cam_id = \"NectarCam\"\ncam_id = \"LSTCam\"\n\n#SIMTEL_FILE = \"~/data/astri_mini_array_konrad/simtel/astri_v2/gamma/gamma_20deg_180deg_run2203___cta-prod3-sst-astri_desert-2150m-Paranal-sst-astri2.simtel.gz\"\n#SIMTEL_FILE = \"~/data/gct_mini_array_konrad/simtel/gct/gamma/gamma_20deg_180deg_run2203___cta-prod3-sst-gct_desert-2150m-Paranal-sst-gct.simtel.gz\"\n#SIMTEL_FILE = \"~/data/sst1m_mini_array_konrad/simtel/sst1m/gamma/gamma_20deg_180deg_run2203___cta-prod3-sst-dc_desert-2150m-Paranal-sst-dc.simtel.gz\"\nSIMTEL_FILE = \"~/data/grid_prod3b_north/simtel/gamma/gamma_20deg_0deg_run104___cta-prod3-lapalma3-2147m-LaPalma.simtel.gz\"\n\nPATHS = [SIMTEL_FILE]\nNUM_IMAGES = 1\n\n\n# ## Configure image calibration\n\n# In[3]:\n\n\nintegrator = 'LocalPeakIntegrator'\nintegration_correction = False\n\nif cam_id == \"ASTRICam\":\n    integrator_window_width = 1\n    integrator_window_shift = 1\nelif cam_id == \"CHEC\":\n    integrator_window_width = 10\n    integrator_window_shift = 5\nelif cam_id == \"DigiCam\":\n    integrator_window_width = 5\n    integrator_window_shift = 2\nelif cam_id == \"FlashCam\":\n    integrator_window_width = 6\n    integrator_window_shift = 3\nelif cam_id == \"NectarCam\":\n    integrator_window_width = 5\n    integrator_window_shift = 2\nelif cam_id == \"LSTCam\":\n    integrator_window_width = 5\n    integrator_window_shift = 2\nelse:\n    raise ValueError('Unknown cam_id \"{}\"'.format(cam_id))\n\nintegrator_t0 = None\nintegrator_sig_amp_cut_hg = None\nintegrator_sig_amp_cut_lg = None\nintegrator_lwt = None\n\n\n# ## Get an image example from a simtel file\n\n# In[4]:\n\n\nit = image_generator(PATHS,\n                     max_num_images=NUM_IMAGES,\n                     cam_filter_list=[cam_id],\n                     ctapipe_format=True,\n                     time_samples=False,\n                     mc_rejection_criteria=None,\n                     integrator=integrator,\n                     integrator_window_width=integrator_window_width,\n                     integrator_window_shift=integrator_window_shift,\n                     integrator_t0=integrator_t0,\n                     integrator_sig_amp_cut_hg=integrator_sig_amp_cut_hg,\n                     integrator_sig_amp_cut_lg=integrator_sig_amp_cut_lg,\n                     integrator_lwt=integrator_lwt,\n                     integration_correction=integration_correction)\n\nimage = next(it)\ninput_image = image.input_image\n\n\n# ## Plot the image example\n\n# In[5]:\n\n\ngeom1d = geometry_converter.get_geom1d(cam_id)\nplot_ctapipe_image(input_image, geom=geom1d, plot_axis=False);\n\n\n# ## Plot the image example after thresholding\n\n# In[6]:\n\n\nTHRESHOLD = 6\n\nfiltered_image = np.copy(input_image)\nfiltered_image[filtered_image < THRESHOLD] = 0\nplot_ctapipe_image(filtered_image, geom=geom1d, plot_axis=False);\n\n\n# ## Get the number of clusters\n\n# In[7]:\n\n\ninput_image_2d = geometry_converter.image_1d_to_2d(input_image, cam_id)\nnum_clusters = pixel_clusters.number_of_pixels_clusters(array=input_image_2d,\n                                                        threshold=THRESHOLD)\nprint(\"Number of clusters:\", num_clusters)"
      ]
    }
  ],
  "metadata": {
    "kernelspec": {
      "display_name": "Python 3",
      "language": "python",
      "name": "python3"
    },
    "language_info": {
      "codemirror_mode": {
        "name": "ipython",
        "version": 3
      },
      "file_extension": ".py",
      "mimetype": "text/x-python",
      "name": "python",
      "nbconvert_exporter": "python",
      "pygments_lexer": "ipython3",
      "version": "3.6.6"
    }
  },
  "nbformat": 4,
  "nbformat_minor": 0
}