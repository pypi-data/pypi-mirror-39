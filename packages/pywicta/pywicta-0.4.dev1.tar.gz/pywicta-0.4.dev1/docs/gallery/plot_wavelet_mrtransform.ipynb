{
  "cells": [
    {
      "cell_type": "code",
      "execution_count": null,
      "metadata": {
        "collapsed": false
      },
      "outputs": [],
      "source": [
        "%matplotlib inline"
      ]
    },
    {
      "cell_type": "markdown",
      "metadata": {},
      "source": [
        "\n# Wavelet MRTransform\n\n\nThis example show how to clean images (remove NSB) using Wavelet transform\nfiltering.\n\n"
      ]
    },
    {
      "cell_type": "code",
      "execution_count": null,
      "metadata": {
        "collapsed": false
      },
      "outputs": [],
      "source": [
        "import numpy as np\n\nimport matplotlib\nimport matplotlib.pyplot as plt\n\nimport pywicta\nfrom pywicta.io import geometry_converter\nfrom pywicta.io.images import image_generator\nfrom pywicta.io.images import plot_ctapipe_image\nfrom pywicta.denoising import wavelets_mrtransform\nfrom pywicta.denoising.wavelets_mrtransform import WaveletTransform\nfrom pywicta.denoising import inverse_transform_sampling\nfrom pywicta.denoising.inverse_transform_sampling import EmpiricalDistribution\n\nimport ctapipe\nfrom ctapipe.utils.datasets import get_dataset"
      ]
    },
    {
      "cell_type": "markdown",
      "metadata": {},
      "source": [
        "Ignore warnings.\n\n"
      ]
    },
    {
      "cell_type": "code",
      "execution_count": null,
      "metadata": {
        "collapsed": false
      },
      "outputs": [],
      "source": [
        "import warnings\nwarnings.filterwarnings('ignore')"
      ]
    },
    {
      "cell_type": "markdown",
      "metadata": {},
      "source": [
        "Get images from ctapipe embedded datasets.\n\n"
      ]
    },
    {
      "cell_type": "code",
      "execution_count": null,
      "metadata": {
        "collapsed": false
      },
      "outputs": [],
      "source": [
        "SIMTEL_FILE = get_dataset('gamma_test_large.simtel.gz')"
      ]
    },
    {
      "cell_type": "markdown",
      "metadata": {},
      "source": [
        "Choose the instrument to use.\n\n"
      ]
    },
    {
      "cell_type": "code",
      "execution_count": null,
      "metadata": {
        "collapsed": false
      },
      "outputs": [],
      "source": [
        "#cam_id = None\n#cam_id = \"ASTRICam\"\n#cam_id = \"CHEC\"\n#cam_id = \"DigiCam\"\n#cam_id = \"FlashCam\"\n#cam_id = \"NectarCam\"\ncam_id = \"LSTCam\""
      ]
    },
    {
      "cell_type": "markdown",
      "metadata": {},
      "source": [
        "Configure the trace integration as in the CTA Mars analysis.\n\n"
      ]
    },
    {
      "cell_type": "code",
      "execution_count": null,
      "metadata": {
        "collapsed": false
      },
      "outputs": [],
      "source": [
        "integrator = 'LocalPeakIntegrator'\nintegration_correction = False\n\nif cam_id == \"ASTRICam\":\n    integrator_window_width = 1\n    integrator_window_shift = 1\nelif cam_id == \"CHEC\":\n    integrator_window_width = 10\n    integrator_window_shift = 5\nelif cam_id == \"DigiCam\":\n    integrator_window_width = 5\n    integrator_window_shift = 2\nelif cam_id == \"FlashCam\":\n    integrator_window_width = 6\n    integrator_window_shift = 3\nelif cam_id == \"NectarCam\":\n    integrator_window_width = 5\n    integrator_window_shift = 2\nelif cam_id == \"LSTCam\":\n    integrator_window_width = 5\n    integrator_window_shift = 2\nelse:\n    raise ValueError('Unknown cam_id \"{}\"'.format(cam_id))\n\nintegrator_t0 = None\nintegrator_sig_amp_cut_hg = None\nintegrator_sig_amp_cut_lg = None\nintegrator_lwt = None"
      ]
    },
    {
      "cell_type": "markdown",
      "metadata": {},
      "source": [
        "Get the 4th image of the dataset using pywicta image generator.\n\n"
      ]
    },
    {
      "cell_type": "code",
      "execution_count": null,
      "metadata": {
        "collapsed": false
      },
      "outputs": [],
      "source": [
        "PATHS = [SIMTEL_FILE]\nNUM_IMAGES = 5\n\n#rejection_criteria = lambda image: not 50 < np.nansum(image.reference_image) < 200\nrejection_criteria = None\n\nit = image_generator(PATHS,\n                     max_num_images=NUM_IMAGES,\n                     cam_filter_list=[cam_id],\n                     ctapipe_format=True,\n                     time_samples=False,\n                     mc_rejection_criteria=rejection_criteria,\n                     integrator=integrator,\n                     integrator_window_width=integrator_window_width,\n                     integrator_window_shift=integrator_window_shift,\n                     integrator_t0=integrator_t0,\n                     integrator_sig_amp_cut_hg=integrator_sig_amp_cut_hg,\n                     integrator_sig_amp_cut_lg=integrator_sig_amp_cut_lg,\n                     integrator_lwt=integrator_lwt,\n                     integration_correction=integration_correction)\n\nimage = next(it)  # This image is useless...\nimage = next(it)  # This image is useless...\nimage = next(it)  # This image is useless...\nimage = next(it)"
      ]
    },
    {
      "cell_type": "markdown",
      "metadata": {},
      "source": [
        "Plot the selected image with NSB.\n\n"
      ]
    },
    {
      "cell_type": "code",
      "execution_count": null,
      "metadata": {
        "collapsed": false
      },
      "outputs": [],
      "source": [
        "geom1d = geometry_converter.get_geom1d(image.meta['cam_id'])\n\ntitle_str = \"{} (run {}, event {}, tel {}, {:0.2f} {})\".format(image.meta['cam_id'],\n                                                               image.meta['run_id'],\n                                                               image.meta['event_id'],\n                                                               image.meta['tel_id'],\n                                                               image.meta['mc_energy'][0],\n                                                               image.meta['mc_energy'][1])\n\nplot_ctapipe_image(image.input_image, geom=geom1d, plot_axis=False, title=title_str)\nplt.show()"
      ]
    },
    {
      "cell_type": "markdown",
      "metadata": {},
      "source": [
        "Plot the selected image with NSB after the geometric transformation.\n\n"
      ]
    },
    {
      "cell_type": "code",
      "execution_count": null,
      "metadata": {
        "collapsed": false
      },
      "outputs": [],
      "source": [
        "image_2d = geometry_converter.image_1d_to_2d(image.input_image, image.meta['cam_id'])\n\nplt.imshow(image_2d)\nplt.show()"
      ]
    },
    {
      "cell_type": "markdown",
      "metadata": {},
      "source": [
        "Fill blank pixels with noise.\n\n"
      ]
    },
    {
      "cell_type": "code",
      "execution_count": null,
      "metadata": {
        "collapsed": false
      },
      "outputs": [],
      "source": [
        "noise_cdf_file = inverse_transform_sampling.get_cdf_file_path(cam_id)  # pywicta.denoising.cdf.LSTCAM_CDF_FILE\nprint(noise_cdf_file)\nnoise_distribution = EmpiricalDistribution(noise_cdf_file)"
      ]
    },
    {
      "cell_type": "markdown",
      "metadata": {},
      "source": [
        "Cleaning the image with Wavelets transform filtering.\n\n"
      ]
    },
    {
      "cell_type": "code",
      "execution_count": null,
      "metadata": {
        "collapsed": false
      },
      "outputs": [],
      "source": [
        "#TMP_DIR = \"/Volumes/ramdisk\"\nTMP_DIR = \".\"\n\nwavelet = WaveletTransform()\ncleaned_image = wavelet.clean_image(image_2d,\n                                    type_of_filtering = 'hard_filtering',\n                                    filter_thresholds = [8, 2],            # <- TODO\n                                    last_scale_treatment = \"mask\",\n                                    detect_only_positive_structures = False,\n                                    kill_isolated_pixels = False,\n                                    noise_distribution = noise_distribution,\n                                    tmp_files_directory = TMP_DIR)"
      ]
    },
    {
      "cell_type": "markdown",
      "metadata": {},
      "source": [
        "Plot the cleaned image.\n\n"
      ]
    },
    {
      "cell_type": "code",
      "execution_count": null,
      "metadata": {
        "collapsed": false
      },
      "outputs": [],
      "source": [
        "plt.imshow(cleaned_image)\nplt.show()\n\ncleaned_image_1d = geometry_converter.image_2d_to_1d(cleaned_image, image.meta['cam_id'])\n\nplot_ctapipe_image(cleaned_image_1d, geom=geom1d, plot_axis=False, title=title_str)\nplt.show()"
      ]
    }
  ],
  "metadata": {
    "kernelspec": {
      "display_name": "Python 3",
      "language": "python",
      "name": "python3"
    },
    "language_info": {
      "codemirror_mode": {
        "name": "ipython",
        "version": 3
      },
      "file_extension": ".py",
      "mimetype": "text/x-python",
      "name": "python",
      "nbconvert_exporter": "python",
      "pygments_lexer": "ipython3",
      "version": "3.6.6"
    }
  },
  "nbformat": 4,
  "nbformat_minor": 0
}