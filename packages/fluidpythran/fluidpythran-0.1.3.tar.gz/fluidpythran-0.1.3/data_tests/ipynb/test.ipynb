{
 "cells": [
  {
   "cell_type": "markdown",
   "metadata": {},
   "source": [
    "Note that this has no effect on coverage :-("
   ]
  },
  {
   "cell_type": "code",
   "execution_count": 1,
   "metadata": {},
   "outputs": [],
   "source": [
    "from fluidpythran.justintime import path_cachedjit, modules, make_hex\n",
    "from pathlib import Path\n",
    "from time import sleep\n",
    "\n",
    "try:\n",
    "    import pythran\n",
    "except ImportError:\n",
    "    pythran = None\n",
    "\n",
    "from fluidpythran import cachedjit, Type\n",
    "\n",
    "src = \"\"\"T = Type(float, str)\n",
    "\n",
    "@cachedjit\n",
    "def test(a: T):\n",
    "    return \"hello\", a\"\"\"\n",
    "\n",
    "hex_src = make_hex(src)\n",
    "module_name = \"__ipython__\" + hex_src\n",
    "path_dir = path_cachedjit / module_name\n",
    "paths = path_dir.glob(\"*\")\n",
    "for path in paths:\n",
    "    path.unlink()"
   ]
  },
  {
   "cell_type": "code",
   "execution_count": 2,
   "metadata": {},
   "outputs": [
    {
     "data": {
      "text/plain": [
       "'e5eaa495a98bbe52223768c805961912'"
      ]
     },
     "execution_count": 2,
     "metadata": {},
     "output_type": "execute_result"
    }
   ],
   "source": [
    "hex_src"
   ]
  },
  {
   "cell_type": "code",
   "execution_count": 3,
   "metadata": {},
   "outputs": [
    {
     "name": "stdout",
     "output_type": "stream",
     "text": [
      "Make new function to replace test (__ipython__e5eaa495a98bbe52223768c805961912)\n",
      "write code in file /home/pierre/.fluidpythran/__cachedjit__/__ipython__e5eaa495a98bbe52223768c805961912/test.py\n"
     ]
    }
   ],
   "source": [
    "T = Type(float, str)\n",
    "\n",
    "@cachedjit\n",
    "def test(a: T):\n",
    "    return \"hello\", a"
   ]
  },
  {
   "cell_type": "code",
   "execution_count": 4,
   "metadata": {},
   "outputs": [],
   "source": [
    "if pythran:\n",
    "    key, mod = list(modules.items())[0]\n",
    "    cjit = mod.cachedjit_functions[\"test\"]\n",
    "    cjit.compiling"
   ]
  },
  {
   "cell_type": "code",
   "execution_count": 5,
   "metadata": {},
   "outputs": [
    {
     "name": "stdout",
     "output_type": "stream",
     "text": [
      "write Pythran signature in file /home/pierre/.fluidpythran/__cachedjit__/__ipython__e5eaa495a98bbe52223768c805961912/test.pythran with types\n",
      "['float']\n"
     ]
    },
    {
     "data": {
      "text/plain": [
       "('hello', 1.0)"
      ]
     },
     "execution_count": 5,
     "metadata": {},
     "output_type": "execute_result"
    }
   ],
   "source": [
    "test(1.)"
   ]
  },
  {
   "cell_type": "code",
   "execution_count": 6,
   "metadata": {},
   "outputs": [],
   "source": [
    "if pythran:\n",
    "    cjit.compiling"
   ]
  },
  {
   "cell_type": "code",
   "execution_count": 7,
   "metadata": {},
   "outputs": [],
   "source": [
    "if pythran:\n",
    "    assert key == module_name"
   ]
  },
  {
   "cell_type": "code",
   "execution_count": 8,
   "metadata": {},
   "outputs": [],
   "source": [
    "if pythran:\n",
    "    for _ in range(100):\n",
    "        test(1.)\n",
    "        sleep(0.1)\n",
    "        if not cjit.compiling:\n",
    "            break"
   ]
  },
  {
   "cell_type": "code",
   "execution_count": 9,
   "metadata": {},
   "outputs": [],
   "source": [
    "if pythran:\n",
    "    cjit.compiling"
   ]
  },
  {
   "cell_type": "code",
   "execution_count": 10,
   "metadata": {},
   "outputs": [
    {
     "data": {
      "text/plain": [
       "('hello', 1.0)"
      ]
     },
     "execution_count": 10,
     "metadata": {},
     "output_type": "execute_result"
    }
   ],
   "source": [
    "test(1.)"
   ]
  },
  {
   "cell_type": "code",
   "execution_count": 11,
   "metadata": {},
   "outputs": [
    {
     "data": {
      "text/plain": [
       "('hello', 'world')"
      ]
     },
     "execution_count": 11,
     "metadata": {},
     "output_type": "execute_result"
    }
   ],
   "source": [
    "test(\"world\")"
   ]
  }
 ],
 "metadata": {
  "kernelspec": {
   "display_name": "Python 3",
   "language": "python",
   "name": "python3"
  },
  "language_info": {
   "codemirror_mode": {
    "name": "ipython",
    "version": 3
   },
   "file_extension": ".py",
   "mimetype": "text/x-python",
   "name": "python",
   "nbconvert_exporter": "python",
   "pygments_lexer": "ipython3",
   "version": "3.6.6"
  }
 },
 "nbformat": 4,
 "nbformat_minor": 2
}
