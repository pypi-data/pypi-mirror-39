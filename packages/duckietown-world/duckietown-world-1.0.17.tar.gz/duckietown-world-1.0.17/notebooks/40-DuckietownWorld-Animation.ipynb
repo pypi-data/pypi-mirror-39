{
 "cells": [
  {
   "cell_type": "markdown",
   "metadata": {
    "deletable": true,
    "editable": true
   },
   "source": [
    "## Setup"
   ]
  },
  {
   "cell_type": "code",
   "execution_count": null,
   "metadata": {
    "collapsed": true,
    "deletable": true,
    "editable": true
   },
   "outputs": [],
   "source": [
    "# disabling contracts for speed\n",
    "import contracts\n",
    "contracts.disable_all()"
   ]
  },
  {
   "cell_type": "code",
   "execution_count": null,
   "metadata": {
    "collapsed": false,
    "deletable": true,
    "editable": true
   },
   "outputs": [],
   "source": [
    "import duckietown_world as dw"
   ]
  },
  {
   "cell_type": "code",
   "execution_count": null,
   "metadata": {
    "collapsed": true,
    "deletable": true,
    "editable": true
   },
   "outputs": [],
   "source": [
    "# reducing the verbosity to critical\n",
    "dw.logger.setLevel(50)"
   ]
  },
  {
   "cell_type": "markdown",
   "metadata": {
    "deletable": true,
    "editable": true
   },
   "source": [
    "Utility function to draw in IPython:"
   ]
  },
  {
   "cell_type": "code",
   "execution_count": null,
   "metadata": {
    "collapsed": true,
    "deletable": true,
    "editable": true
   },
   "outputs": [],
   "source": [
    "from duckietown_world.svg_drawing.ipython_utils import ipython_draw_svg, ipython_draw_html"
   ]
  },
  {
   "cell_type": "markdown",
   "metadata": {
    "deletable": true,
    "editable": true
   },
   "source": [
    "## Pose interpolation code"
   ]
  },
  {
   "cell_type": "code",
   "execution_count": null,
   "metadata": {
    "collapsed": false,
    "deletable": true,
    "editable": true,
    "scrolled": true
   },
   "outputs": [],
   "source": [
    "import geometry as geo\n",
    "import numpy as np"
   ]
  },
  {
   "cell_type": "code",
   "execution_count": null,
   "metadata": {
    "collapsed": true,
    "deletable": true,
    "editable": true
   },
   "outputs": [],
   "source": [
    "def interpolate(q0, q1, alpha):\n",
    "    v = geo.SE2.algebra_from_group(geo.SE2.multiply(geo.SE2.inverse(q0), q1))\n",
    "    vi = v * alpha\n",
    "    q = np.dot(q0, geo.SE2.group_from_algebra(vi))\n",
    "    return q"
   ]
  },
  {
   "cell_type": "markdown",
   "metadata": {
    "deletable": true,
    "editable": true
   },
   "source": [
    "## PlacedObject example\n",
    "\n",
    "All objects in the map are instances of `PlacedObject`. \n",
    "\n",
    "To create a new object, subclass `PlacedObject` and implement the drawing method `draw_svg` \n",
    "and the `extent_points` method.\n",
    "\n",
    "The SVG drawing is done using the [`svgwrite`][svgwrite] library.\n",
    "\n",
    "[svgwrite]: https://svgwrite.readthedocs.io/en/master/"
   ]
  },
  {
   "cell_type": "code",
   "execution_count": null,
   "metadata": {
    "collapsed": true,
    "deletable": true,
    "editable": true
   },
   "outputs": [],
   "source": [
    "class Person(dw.PlacedObject):\n",
    "\n",
    "    def __init__(self, radius, *args, **kwargs):\n",
    "        self.radius = radius\n",
    "        dw.PlacedObject.__init__(self, *args, **kwargs)\n",
    "        \n",
    "    def draw_svg(self, drawing, g):\n",
    "        # drawing is done using the library svgwrite\n",
    "        c = drawing.circle(center=(0, 0), r=self.radius, fill='pink')\n",
    "        g.add(c)\n",
    "        # draws x,y axes\n",
    "        dw.draw_axes(drawing, g)\n",
    "\n",
    "    def extent_points(self):\n",
    "        # set of points describing the boundary \n",
    "        L = self.radius\n",
    "        return [(-L, -L), (+L, +L)]\n"
   ]
  },
  {
   "cell_type": "markdown",
   "metadata": {
    "deletable": true,
    "editable": true
   },
   "source": [
    "## Animation example\n",
    "\n",
    "Create the interpolated poses:"
   ]
  },
  {
   "cell_type": "code",
   "execution_count": null,
   "metadata": {
    "collapsed": true,
    "deletable": true,
    "editable": true
   },
   "outputs": [],
   "source": [
    "q0 = geo.SE2_from_translation_angle([0, 0], 0)\n",
    "q1 = geo.SE2_from_translation_angle([2, -2], np.deg2rad(-90))\n",
    "\n",
    "# create a sequence of poses \n",
    "n = 10\n",
    "seqs = []\n",
    "steps = np.linspace(0, 1, num=n)\n",
    "for alpha in steps:\n",
    "    q = interpolate(q0, q1, alpha)\n",
    "    seqs.append(q)"
   ]
  },
  {
   "cell_type": "markdown",
   "metadata": {
    "deletable": true,
    "editable": true
   },
   "source": [
    "Create a root PlacedObject:"
   ]
  },
  {
   "cell_type": "code",
   "execution_count": null,
   "metadata": {
    "collapsed": true,
    "deletable": true,
    "editable": true
   },
   "outputs": [],
   "source": [
    "root = dw.PlacedObject()"
   ]
  },
  {
   "cell_type": "markdown",
   "metadata": {
    "deletable": true,
    "editable": true
   },
   "source": [
    "Create a SampledSequence of the pose:"
   ]
  },
  {
   "cell_type": "code",
   "execution_count": null,
   "metadata": {
    "collapsed": false,
    "deletable": true,
    "editable": true
   },
   "outputs": [],
   "source": [
    "timestamps = range(len(seqs)) # [0, 1, 2, ...]\n",
    "\n",
    "# SE2Transform is the wrapper for SE2 used by Duckietown World \n",
    "transforms = [dw.SE2Transform.from_SE2(_) for _ in seqs]\n",
    "seq_me = dw.SampledSequence(timestamps, transforms)\n",
    "\n",
    "print(seq_me.timestamps)\n",
    "\n",
    "print(seq_me.values[0])"
   ]
  },
  {
   "cell_type": "markdown",
   "metadata": {
    "deletable": true,
    "editable": true
   },
   "source": [
    "Add the object `me` to the root, saying it's a Person, and with the \n",
    "sequence above given as ground truth for the pose."
   ]
  },
  {
   "cell_type": "code",
   "execution_count": null,
   "metadata": {
    "collapsed": false,
    "deletable": true,
    "editable": true
   },
   "outputs": [],
   "source": [
    "root.set_object(\"me\", Person(0.1), ground_truth=seq_me)"
   ]
  },
  {
   "cell_type": "markdown",
   "metadata": {
    "deletable": true,
    "editable": true
   },
   "source": [
    "Finally, draw the animation:"
   ]
  },
  {
   "cell_type": "code",
   "execution_count": null,
   "metadata": {
    "collapsed": false,
    "deletable": true,
    "editable": true
   },
   "outputs": [],
   "source": [
    "area = dw.RectangularArea((-1, -3), (3, 1))\n",
    "\n",
    "ipython_draw_html(root, area=area);"
   ]
  },
  {
   "cell_type": "markdown",
   "metadata": {
    "deletable": true,
    "editable": true
   },
   "source": [
    "Let's now get the lane object:"
   ]
  },
  {
   "cell_type": "code",
   "execution_count": null,
   "metadata": {
    "collapsed": false,
    "deletable": true,
    "editable": true
   },
   "outputs": [],
   "source": [
    "from duckietown_world.world_duckietown.tile_template import load_tile_types"
   ]
  },
  {
   "cell_type": "code",
   "execution_count": null,
   "metadata": {
    "collapsed": false,
    "deletable": true,
    "editable": true
   },
   "outputs": [],
   "source": [
    "template = load_tile_types()['curve_left']\n",
    "from copy import deepcopy\n",
    "lane_segment = deepcopy(template['curve/lane1'])"
   ]
  },
  {
   "cell_type": "markdown",
   "metadata": {
    "deletable": true,
    "editable": true
   },
   "source": [
    "We can use the function `lane_segment.lane_pose_from_SE2Transform` to get the \n",
    "lane pose information (relative heading, etc.), including the projection\n",
    "to the midlane."
   ]
  },
  {
   "cell_type": "code",
   "execution_count": null,
   "metadata": {
    "collapsed": false,
    "deletable": true,
    "editable": true
   },
   "outputs": [],
   "source": [
    "center_points = []\n",
    "\n",
    "for timestamp, pose_object in seq_me:\n",
    "    lane_pose = lane_segment.lane_pose_from_SE2Transform(pose_object)\n",
    "    print(lane_pose.center_point)\n",
    "    center_points.append(lane_pose.center_point)\n",
    "\n",
    "sequence = dw.SampledSequence(seq_me.timestamps, center_points)\n"
   ]
  },
  {
   "cell_type": "code",
   "execution_count": null,
   "metadata": {
    "collapsed": false,
    "deletable": true,
    "editable": true
   },
   "outputs": [],
   "source": [
    "# we now add a marker for projection in the center point\n",
    "\n",
    "lane_segment.set_object(\"projection2\", dw.PlacedObject(), ground_truth=sequence)\n",
    "lane_segment.set_object(\"me\", Person(0.2), ground_truth=seq_me)\n"
   ]
  },
  {
   "cell_type": "code",
   "execution_count": null,
   "metadata": {
    "collapsed": false,
    "deletable": true,
    "editable": true
   },
   "outputs": [],
   "source": [
    "ipython_draw_html(lane_segment);"
   ]
  }
 ],
 "metadata": {
  "kernelspec": {
   "display_name": "Python 2",
   "language": "python",
   "name": "python2"
  },
  "language_info": {
   "codemirror_mode": {
    "name": "ipython",
    "version": 2
   },
   "file_extension": ".py",
   "mimetype": "text/x-python",
   "name": "python",
   "nbconvert_exporter": "python",
   "pygments_lexer": "ipython2",
   "version": "2.7.11"
  }
 },
 "nbformat": 4,
 "nbformat_minor": 2
}
