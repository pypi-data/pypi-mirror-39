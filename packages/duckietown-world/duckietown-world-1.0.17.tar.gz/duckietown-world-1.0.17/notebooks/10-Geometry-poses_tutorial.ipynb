{
 "cells": [
  {
   "cell_type": "markdown",
   "metadata": {
    "deletable": true,
    "editable": true
   },
   "source": [
    "# Pose representation and operations tutorial\n"
   ]
  },
  {
   "cell_type": "markdown",
   "metadata": {
    "deletable": true,
    "editable": true
   },
   "source": [
    "## Packages\n",
    "\n",
    "We will use the `geometry` library to do operations with coordinate frames,\n",
    "and the Numpy library. We will abbreviate them as `g` and `np`, respectively.\n"
   ]
  },
  {
   "cell_type": "code",
   "execution_count": null,
   "metadata": {
    "collapsed": true,
    "deletable": true,
    "editable": true
   },
   "outputs": [],
   "source": [
    "import geometry as g\n",
    "import numpy as np"
   ]
  },
  {
   "cell_type": "markdown",
   "metadata": {
    "deletable": true,
    "editable": true
   },
   "source": [
    "# Angles\n",
    "\n",
    "In code, angles are *always* represented in radians.\n",
    "\n",
    "The only place where degrees might be acceptable is in configuration files\n",
    "that need to be edited by users.\n",
    "\n",
    "Use the functions `np.deg2rad` and `np.rad2deg` to convert back and forth."
   ]
  },
  {
   "cell_type": "code",
   "execution_count": null,
   "metadata": {
    "collapsed": false,
    "deletable": true,
    "editable": true
   },
   "outputs": [],
   "source": [
    "assert np.allclose(np.deg2rad(60), np.pi/3)\n",
    "assert np.allclose(np.rad2deg(np.pi/3), 60)"
   ]
  },
  {
   "cell_type": "markdown",
   "metadata": {
    "collapsed": true,
    "deletable": true,
    "editable": true
   },
   "source": [
    "The function `np.allclose` allows to compare two numbers allowing some tolerance to \n",
    "tolerate numerical errors."
   ]
  },
  {
   "cell_type": "markdown",
   "metadata": {
    "deletable": true,
    "editable": true
   },
   "source": [
    "## Pose representations\n",
    "\n",
    "To create a pose from translation, angle (in radians), use the function `SE2_from_translation_angle(translation, angle)`:\n",
    "\n"
   ]
  },
  {
   "cell_type": "code",
   "execution_count": null,
   "metadata": {
    "collapsed": false,
    "deletable": true,
    "editable": true
   },
   "outputs": [],
   "source": [
    "translation = [0, 1]\n",
    "angle = np.pi/3\n",
    "q = g.SE2_from_translation_angle(translation, angle)"
   ]
  },
  {
   "cell_type": "markdown",
   "metadata": {
    "deletable": true,
    "editable": true
   },
   "source": [
    "This returns a 3 by 3 matrix:"
   ]
  },
  {
   "cell_type": "code",
   "execution_count": null,
   "metadata": {
    "collapsed": false,
    "deletable": true,
    "editable": true
   },
   "outputs": [],
   "source": [
    "print(q)"
   ]
  },
  {
   "cell_type": "markdown",
   "metadata": {
    "deletable": true,
    "editable": true
   },
   "source": [
    "Use the function `g.SE2.friendly()` to print a nice representation of the matrix:\n",
    "\n"
   ]
  },
  {
   "cell_type": "code",
   "execution_count": null,
   "metadata": {
    "collapsed": false,
    "deletable": true,
    "editable": true
   },
   "outputs": [],
   "source": [
    "print(g.SE2.friendly(q))"
   ]
  },
  {
   "cell_type": "markdown",
   "metadata": {
    "deletable": true,
    "editable": true
   },
   "source": [
    "To convert back to position, angle use the function `translation_angle_from_SE2`\n",
    "\n"
   ]
  },
  {
   "cell_type": "code",
   "execution_count": null,
   "metadata": {
    "collapsed": false,
    "deletable": true,
    "editable": true
   },
   "outputs": [],
   "source": [
    "position, direction = g.translation_angle_from_SE2(q)\n",
    "print(position)\n",
    "print(direction)"
   ]
  },
  {
   "cell_type": "markdown",
   "metadata": {
    "deletable": true,
    "editable": true
   },
   "source": [
    "## Operations on poses\n",
    "\n",
    "The object `geometry.SE2` is a representation of the group SE(2).\n",
    "\n",
    "It provides the operations `multiply`, `identity`, and `inverse`:\n"
   ]
  },
  {
   "cell_type": "code",
   "execution_count": null,
   "metadata": {
    "collapsed": false,
    "deletable": true,
    "editable": true
   },
   "outputs": [],
   "source": [
    "q1 = g.SE2_from_translation_angle([1, 2], np.deg2rad(15))\n",
    "q2 = g.SE2_from_translation_angle([2, 3], np.deg2rad(30))\n",
    "\n",
    "# let's compute the relative pose of q2 wrt q1\n",
    "q2_from_q1 = g.SE2.multiply( g.SE2.inverse(q1), q2)\n",
    "\n",
    "# now let's re-find q2 by adding the relative pose to q1\n",
    "q2b = g.SE2.multiply(q1, q2_from_q1)\n",
    "\n",
    "# this must be equal to q2\n",
    "assert np.allclose(q2, q2b)"
   ]
  },
  {
   "cell_type": "markdown",
   "metadata": {
    "collapsed": true,
    "deletable": true,
    "editable": true
   },
   "source": [
    "## Interpolation of poses\n",
    "\n",
    "Suppose you want to interpolate between two poses. This is the right way to do it.\n",
    "\n",
    "First, compute the relative pose:\n",
    "\n"
   ]
  },
  {
   "cell_type": "code",
   "execution_count": null,
   "metadata": {
    "collapsed": true,
    "deletable": true,
    "editable": true
   },
   "outputs": [],
   "source": [
    "q2_from_q1 = g.SE2.multiply( g.SE2.inverse(q1), q2)"
   ]
  },
  {
   "cell_type": "markdown",
   "metadata": {
    "deletable": true,
    "editable": true
   },
   "source": [
    "Now compute the equivalent \"velocity\". \n",
    "\n",
    "The function `algebra_from_group` computes\n",
    "the element of the algebra of SE(2); that is, *skew symmetric matrices* that \n",
    "represent velocities:"
   ]
  },
  {
   "cell_type": "code",
   "execution_count": null,
   "metadata": {
    "collapsed": false,
    "deletable": true,
    "editable": true
   },
   "outputs": [],
   "source": [
    "vel = g.SE2.algebra_from_group(q2_from_q1)\n",
    "print(vel)"
   ]
  },
  {
   "cell_type": "markdown",
   "metadata": {
    "deletable": true,
    "editable": true
   },
   "source": [
    "The set of velocities on $SE(2)$ is called the *lie algebra* $se(2)$.\n",
    "It is represented by the object `se2`:"
   ]
  },
  {
   "cell_type": "code",
   "execution_count": null,
   "metadata": {
    "collapsed": false,
    "deletable": true,
    "editable": true
   },
   "outputs": [],
   "source": [
    "g.se2.belongs(vel)\n",
    "print(g.se2.friendly(vel))"
   ]
  },
  {
   "cell_type": "markdown",
   "metadata": {
    "deletable": true,
    "editable": true
   },
   "source": [
    "The velocity can be converted to angular, linear components:"
   ]
  },
  {
   "cell_type": "code",
   "execution_count": null,
   "metadata": {
    "collapsed": false,
    "deletable": true,
    "editable": true
   },
   "outputs": [],
   "source": [
    "linear, angular = g.linear_angular_from_se2(vel)\n",
    "print('linear: {}'.format(linear))\n",
    "print('angular: {}'.format(angular))"
   ]
  },
  {
   "cell_type": "markdown",
   "metadata": {
    "deletable": true,
    "editable": true
   },
   "source": [
    "Now, suppose that you want to interpolate smoothly according to a parameter `alpha`,\n",
    "such that `alpha = 0` gives `q1` and `alpha = 1` gives `q2`.\n",
    "\n",
    "You can do that by interpolating linearly in the velocity space:"
   ]
  },
  {
   "cell_type": "code",
   "execution_count": null,
   "metadata": {
    "collapsed": false,
    "deletable": true,
    "editable": true
   },
   "outputs": [],
   "source": [
    "alpha = 0.5\n",
    "rel = g.SE2.group_from_algebra(vel * alpha)\n",
    "q_alpha = g.SE2.multiply( q1, rel)\n",
    "print(g.SE2.friendly(q_alpha))"
   ]
  },
  {
   "cell_type": "code",
   "execution_count": null,
   "metadata": {
    "collapsed": true,
    "deletable": true,
    "editable": true
   },
   "outputs": [],
   "source": [
    "def relative_pose(q0, q1):\n",
    "    return g.SE2.multiply(g.SE2.inverse(q0), q1)\n",
    "\n",
    "def interpolate(q0, q1, alpha):\n",
    "    q1_from_q0 = relative_pose(q0, q1)\n",
    "    vel = g.SE2.algebra_from_group(q1_from_q0)\n",
    "    rel = g.SE2.group_from_algebra(vel * alpha)\n",
    "    q = g.SE2.multiply(q0, rel)\n",
    "    return q\n",
    "\n",
    "# sample two poses\n",
    "q0 = g.SE2.sample_uniform()\n",
    "q1 = g.SE2.sample_uniform()\n",
    "\n",
    "# make sure that for alpha=0,1 we get q0,q1\n",
    "assert np.allclose(q0, interpolate(q0, q1, 0))\n",
    "assert np.allclose(q1, interpolate(q0, q1, 1))\n"
   ]
  },
  {
   "cell_type": "markdown",
   "metadata": {
    "deletable": true,
    "editable": true
   },
   "source": [
    "## Exercise\n",
    "\n",
    "We stand back to back.\n",
    "\n",
    "I walk 3 meters forward; I rotate 20 deg to my right; I walk 7 meters forward.\n",
    "\n",
    "You walk 2 meters forward, you rotate 30 deg to your left, you go 6 meters forward.\n",
    "\n",
    "What is the distance between us?\n",
    "\n",
    "At what angle I see you on my field of view? (0=front, pi/2 = left, -pi/2 = right, -pi=pi back) "
   ]
  }
 ],
 "metadata": {
  "celltoolbar": "Raw Cell Format",
  "kernelspec": {
   "display_name": "Python 2",
   "language": "python",
   "name": "python2"
  },
  "language_info": {
   "codemirror_mode": {
    "name": "ipython",
    "version": 2
   },
   "file_extension": ".py",
   "mimetype": "text/x-python",
   "name": "python",
   "nbconvert_exporter": "python",
   "pygments_lexer": "ipython2",
   "version": "2.7.11"
  }
 },
 "nbformat": 4,
 "nbformat_minor": 2
}
