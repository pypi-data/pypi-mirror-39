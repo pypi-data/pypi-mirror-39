{
 "cells": [
  {
   "cell_type": "markdown",
   "metadata": {},
   "source": [
    "# Dynamics tutorial"
   ]
  },
  {
   "cell_type": "markdown",
   "metadata": {},
   "source": [
    "## Packages\n",
    "\n",
    "We will use the `contracts` and `six` libraries to create the classes,\n",
    "as well as all previously introduced libraries.\n"
   ]
  },
  {
   "cell_type": "code",
   "execution_count": null,
   "metadata": {},
   "outputs": [],
   "source": [
    "from abc import ABCMeta\n",
    "\n",
    "from contracts import contract, check_isinstance\n",
    "from six import with_metaclass\n",
    "\n",
    "from duckietown_serialization_ds1 import Serializable\n",
    "\n",
    "import geometry as geo\n",
    "import numpy as np"
   ]
  },
  {
   "cell_type": "markdown",
   "metadata": {},
   "source": [
    "# Abstract classes\n",
    "\n",
    "In `duckietown-world` there is an interface for the dynamics of a platform. The interface is:"
   ]
  },
  {
   "cell_type": "code",
   "execution_count": null,
   "metadata": {},
   "outputs": [],
   "source": [
    "class PlatformDynamics(with_metaclass(ABCMeta)):\n",
    "    def integrate(self, dt, commands):\n",
    "        \"\"\"\n",
    "            Returns the result of applying commands for dt.\n",
    "\n",
    "            :param dt: time interval\n",
    "            :param commands: class-specific commands\n",
    "            :return: the next state\n",
    "        \"\"\"\n",
    "    def TSE2_from_state(self):\n",
    "        \"\"\" Returns pose, velocity for the state. \"\"\"\n",
    "\n",
    "\n",
    "class PlatformDynamicsFactory(with_metaclass(ABCMeta)):\n",
    "    def initialize(cls, c0, t0=0, seed=None):\n",
    "        \"\"\"\n",
    "            Returns the dynamics initalized at a certain configuration.\n",
    "\n",
    "            :param c0: configuration in TSE2\n",
    "            :param t0: time in which to sstart\n",
    "            :param seed: seed for a possible random number generator\n",
    "\n",
    "        \"\"\""
   ]
  },
  {
   "cell_type": "markdown",
   "metadata": {},
   "source": [
    "In order to explain it let's create a simple system with integrator dynamics in 2D."
   ]
  },
  {
   "cell_type": "markdown",
   "metadata": {},
   "source": [
    "## Integrator2D\n",
    "\n",
    "The state of the system at time step $t$ is $x(t) = [p(t), v(t)]^T$, where $p\\in \\mathbb{R}^2$ is position, and $v \\in \\mathbb{R}^2$ is linear velocity. \n",
    "\n",
    "The input commands to the system are sequences of linear velocities in 2D (sequences of 2 numbers) $u = [u_x, u_y]^T$.\n",
    "\n",
    "Let's create our class `Integrator2D` and constructor with initial parameters for position, velocity and time."
   ]
  },
  {
   "cell_type": "code",
   "execution_count": null,
   "metadata": {},
   "outputs": [],
   "source": [
    "class Integrator2D(PlatformDynamicsFactory, PlatformDynamics, Serializable):\n",
    "    \"\"\"\n",
    "        This represents the dynamics of a 2D integrator.\n",
    "\n",
    "        Commands are sequences of 2 numbers / array of two numbers.\n",
    "\n",
    "    \"\"\"\n",
    "    def __init__(self, p0, v0, t0):\n",
    "        \"\"\"\n",
    "        :param p0: initial point\n",
    "        :param v0: initial velocity\n",
    "        :param t0: initial time\n",
    "        \"\"\"\n",
    "        self.t0 = t0\n",
    "        self.v0 = v0\n",
    "        self.p0 = p0"
   ]
  },
  {
   "cell_type": "markdown",
   "metadata": {},
   "source": [
    "Now, we need to implement `initialize(cls, c0, t0=0, seed=None)` class method from `PlatformDynamicsFactory` abstract class.\n",
    "\n",
    "The input variable is `c0` which is a configuration in `TSE2`, and the method must return the dynamics, basically instance of `Integrator2D` class.\n",
    "\n",
    "Note that $TSE(2)$ is a tangent space which will be represented as a tuple $(q,v)$ where $q\\in SE(2)$ and $v \\in se(2)$\n",
    "\n",
    "Recall that the set of velocities on $SE(2)$ is called the *lie algebra* $se(2)$. \n",
    "\n",
    "To do so, we must get the position from pose in $SE(2)$ and linear velocity from $se(2)$, and the library `geometry` has the appropriate functions.\n",
    "\n"
   ]
  },
  {
   "cell_type": "code",
   "execution_count": null,
   "metadata": {},
   "outputs": [],
   "source": [
    "def initialize(cls, c0, t0=0, seed=None):\n",
    "        \"\"\"\n",
    "            This class initializes the dynamics at a given configuration\n",
    "        \"\"\"\n",
    "        # pose, velocity in SE(2), se(2)\n",
    "        q, v = c0\n",
    "        # get position p from pose\n",
    "        p, theta = geo.translation_angle_from_SE2(q)\n",
    "        # get linear velocity from se(2)\n",
    "        v2d, _ = geo.linear_angular_from_se2(v)\n",
    "        # create the integrator2d initial state\n",
    "        return Integrator2D(p, v2d, t0)"
   ]
  },
  {
   "cell_type": "markdown",
   "metadata": {},
   "source": [
    "The method `integrate` for 2D case is simple. It takes `dt` as time $\\Delta t$ for how long to apply the `commands`, commands are $u = [u_x, u_y]^T$.\n",
    "\n",
    "$ x(t+\\Delta t) = [p(t+\\Delta t), v(t+\\Delta t)]^T$, where:\n",
    "\n",
    "$ p(t+\\Delta t) = p(t) + \\Delta t \\cdot u$\n",
    "\n",
    "$ v(t+\\Delta t) = u $\n",
    "\n"
   ]
  },
  {
   "cell_type": "code",
   "execution_count": null,
   "metadata": {},
   "outputs": [],
   "source": [
    "def integrate(self, dt, commands):\n",
    "        \"\"\"\n",
    "            Returns the next state after applying commands for time dt.\n",
    "\n",
    "            :param dt: for how long to apply the commands\n",
    "            :param commands: sequences of two numbers\n",
    "            :return: another Integrator2D\n",
    "        \"\"\"\n",
    "        # convert things to float, array\n",
    "        dt = float(dt)\n",
    "        commands = np.array(commands, np.float64)\n",
    "\n",
    "        # time incremensts by dt\n",
    "        t1 = self.t0 + dt\n",
    "        # we integrate commands\n",
    "        p1 = self.p0 + dt * commands\n",
    "        # the velocity is the commands\n",
    "        v1 = commands\n",
    "        return Integrator2D(p1, v1, t1)"
   ]
  },
  {
   "cell_type": "markdown",
   "metadata": {},
   "source": [
    "Finally, the last method to implement is `TSE2_from_state()` which returns a configuration in `TSE2`, a tuple `(q,v)` where $q\\in SE(2)$ and $v \\in se(2)$"
   ]
  },
  {
   "cell_type": "code",
   "execution_count": null,
   "metadata": {},
   "outputs": [],
   "source": [
    "    def TSE2_from_state(self):\n",
    "        \"\"\"\n",
    "            For visualization purposes, this function gets a configuration in SE2\n",
    "            from the internal state.\n",
    "        \"\"\"\n",
    "        # pose\n",
    "        q = geo.SE2_from_R2(self.p0)\n",
    "        # velocity\n",
    "        linear = self.v0\n",
    "        angular = 0.0\n",
    "        v = geo.se2_from_linear_angular(linear, angular)\n",
    "        return q, v"
   ]
  },
  {
   "cell_type": "markdown",
   "metadata": {},
   "source": [
    "Let's test the created class with a simple example"
   ]
  },
  {
   "cell_type": "code",
   "execution_count": null,
   "metadata": {},
   "outputs": [],
   "source": [
    "class Integrator2D(PlatformDynamicsFactory, PlatformDynamics, Serializable):\n",
    "    \"\"\"\n",
    "        This represents the dynamics of a 2D integrator.\n",
    "\n",
    "        Commands are sequences of 2 numbers / array of two numbers.\n",
    "\n",
    "    \"\"\"\n",
    "    def __init__(self, p0, v0, t0):\n",
    "        \"\"\"\n",
    "        :param p0: initial point\n",
    "        :param v0: initial velocity\n",
    "        :param t0: initial time\n",
    "        \"\"\"\n",
    "        self.t0 = t0\n",
    "        self.v0 = v0\n",
    "        self.p0 = p0\n",
    "        \n",
    "    def initialize(cls, c0, t0=0, seed=None):\n",
    "        \"\"\"\n",
    "            This class initializes the dynamics at a given configuration\n",
    "        \"\"\"\n",
    "        # pose, velocity in SE(2), se(2)\n",
    "        q, v = c0\n",
    "        # get position p from pose\n",
    "        p, theta = geo.translation_angle_from_SE2(q)\n",
    "        # get linear velocity from se(2)\n",
    "        v2d, _ = geo.linear_angular_from_se2(v)\n",
    "        # create the integrator2d initial state\n",
    "        return Integrator2D(p, v2d, t0)\n",
    "    \n",
    "    def integrate(self, dt, commands):\n",
    "        \"\"\"\n",
    "            Returns the next state after applying commands for time dt.\n",
    "\n",
    "            :param dt: for how long to apply the commands\n",
    "            :param commands: sequences of two numbers\n",
    "            :return: another Integrator2D\n",
    "        \"\"\"\n",
    "        # convert things to float, array\n",
    "        dt = float(dt)\n",
    "        commands = np.array(commands, np.float64)\n",
    "\n",
    "        # time incremensts by dt\n",
    "        t1 = self.t0 + dt\n",
    "        # we integrate commands\n",
    "        p1 = self.p0 + dt * commands\n",
    "        # the velocity is the commands\n",
    "        v1 = commands\n",
    "        return Integrator2D(p1, v1, t1)\n",
    "    \n",
    "    def TSE2_from_state(self):\n",
    "        \"\"\"\n",
    "            For visualization purposes, this function gets a configuration in SE2\n",
    "            from the internal state.\n",
    "        \"\"\"\n",
    "        # pose\n",
    "        q = geo.SE2_from_R2(self.p0)\n",
    "        # velocity\n",
    "        linear = self.v0\n",
    "        angular = 0.0\n",
    "        v = geo.se2_from_linear_angular(linear, angular)\n",
    "        return q, v\n",
    "    "
   ]
  },
  {
   "cell_type": "markdown",
   "metadata": {},
   "source": [
    "To test the class, let's initialize the system at zero initial conditions and apply the same commands every second."
   ]
  },
  {
   "cell_type": "code",
   "execution_count": null,
   "metadata": {},
   "outputs": [],
   "source": [
    "init_pose = [0,0]\n",
    "init_vel = [0,0]\n",
    "init_time = 0\n",
    "system = Integrator2D(init_pose,init_vel,init_time)\n",
    "\n",
    "commands = [1,0.5]\n",
    "delta_t = 1\n",
    "for i in range(5):\n",
    "    system = system.integrate(delta_t,commands)\n",
    "    print(system)"
   ]
  },
  {
   "cell_type": "markdown",
   "metadata": {},
   "source": [
    "The system can also be represented as configuration in $TSE(2)$, and as pose and velocity in $SE(2)$ and $se(2)$, respectively."
   ]
  },
  {
   "cell_type": "code",
   "execution_count": null,
   "metadata": {},
   "outputs": [],
   "source": [
    "config = system.TSE2_from_state()\n",
    "pose,vel = config\n",
    "print(config)"
   ]
  },
  {
   "cell_type": "code",
   "execution_count": null,
   "metadata": {},
   "outputs": [],
   "source": [
    "print(pose)"
   ]
  },
  {
   "cell_type": "code",
   "execution_count": null,
   "metadata": {},
   "outputs": [],
   "source": [
    "print(vel)"
   ]
  },
  {
   "cell_type": "markdown",
   "metadata": {},
   "source": [
    "Also, the system can be initialized if we have the configuration in `TSE2`"
   ]
  },
  {
   "cell_type": "code",
   "execution_count": null,
   "metadata": {},
   "outputs": [],
   "source": [
    "same_system = Integrator2D.initialize(system,config)\n",
    "print(same_system)"
   ]
  },
  {
   "cell_type": "markdown",
   "metadata": {},
   "source": [
    "## GenericKinematicsSE2\n",
    "\n",
    "The next class we are going to explain as an example is `GenericKinematicsSE2`. We give the developed class below and explain the parts as it is similar to the previous example except that we don't have the conversions anymore as the pose is directly in $SE(2)$, and all velocities and commands must belong to $se(2)$.\n"
   ]
  },
  {
   "cell_type": "code",
   "execution_count": null,
   "metadata": {},
   "outputs": [],
   "source": [
    "class GenericKinematicsSE2(PlatformDynamicsFactory, PlatformDynamics, Serializable):\n",
    "    \"\"\"\n",
    "        Any dynamics on SE(2)\n",
    "\n",
    "        Commands = velocities in se(2)\n",
    "    \"\"\"\n",
    "\n",
    "    @classmethod\n",
    "    @contract(c0='TSE2')\n",
    "    def initialize(cls, c0, t0=0, seed=None):\n",
    "        return GenericKinematicsSE2(c0, t0)\n",
    "\n",
    "    @contract(c0='TSE2')\n",
    "    def __init__(self, c0, t0):\n",
    "        # start at q0, v0\n",
    "        q0, v0 = c0\n",
    "        geo.SE2.belongs(q0)\n",
    "        geo.se2.belongs(v0)\n",
    "        self.t0 = t0\n",
    "        self.v0 = v0\n",
    "        self.q0 = q0\n",
    "\n",
    "    def integrate(self, dt, commands):\n",
    "        \"\"\" commands = velocity in body frame \"\"\"\n",
    "        # convert to float\n",
    "        dt = float(dt)\n",
    "        # the commands must belong to se(2)\n",
    "        geo.se2.belongs(commands)\n",
    "        v = commands\n",
    "        # suppose we hold v for dt, which pose are we going to?\n",
    "        diff = geo.SE2.group_from_algebra(dt * v) # exponential map\n",
    "        # compute the absolute new pose; applying diff from q0\n",
    "        q1 = geo.SE2.multiply(self.q0, diff)\n",
    "        # the new configuration\n",
    "        c1 = q1, v\n",
    "        # the new time\n",
    "        t1 = self.t0 + dt\n",
    "        # return the new state\n",
    "        return GenericKinematicsSE2(c1, t1)\n",
    "\n",
    "    @contract(returns='TSE2')\n",
    "    def TSE2_from_state(self):\n",
    "        return self.q0, self.v0"
   ]
  },
  {
   "cell_type": "markdown",
   "metadata": {
    "collapsed": true
   },
   "source": [
    "## Differential Drive Dynamics\n",
    "\n",
    "Now let's create a platform with differential drive dynamics `DifferentialDriveDynamics` based on `GenericKinematicsSE2`. In order to do that, we will create two additional classes for parameters `DifferentialDriveDynamicsParameters` and commands `WheelVelocityCommands`.\n",
    "\n",
    "`WheelVelocityCommands` is a simple class with left and right wheels velocitiy commands for differential drive kinematics expressed in $[rad/s]$. If both of the commands are positive the car moves forward."
   ]
  },
  {
   "cell_type": "code",
   "execution_count": null,
   "metadata": {},
   "outputs": [],
   "source": [
    "class WheelVelocityCommands(Serializable):\n",
    "    def __init__(self, left_wheel_angular_velocity, right_wheel_angular_velocity):\n",
    "        self.left_wheel_angular_velocity = left_wheel_angular_velocity\n",
    "        self.right_wheel_angular_velocity = right_wheel_angular_velocity"
   ]
  },
  {
   "cell_type": "markdown",
   "metadata": {
    "collapsed": true
   },
   "source": [
    "`DifferentialDriveDynamicsParameters` represents the parameters of the ideal differential drive dynamics. The parameters are left and right wheel radii and the weel distance."
   ]
  },
  {
   "cell_type": "code",
   "execution_count": null,
   "metadata": {},
   "outputs": [],
   "source": [
    "class DifferentialDriveDynamicsParameters(PlatformDynamicsFactory, Serializable):\n",
    "    '''\n",
    "        This class represents the parameters of the ideal differential drive dynamics.\n",
    "\n",
    "        radius_left, radius_right: wheels radii\n",
    "        wheel_distance: distance between two wheels\n",
    "\n",
    "    '''\n",
    "\n",
    "    def __init__(self, radius_left, radius_right, wheel_distance):\n",
    "        self.radius_left = radius_left\n",
    "        self.radius_right = radius_right\n",
    "        self.wheel_distance = wheel_distance\n",
    "\n",
    "    def initialize(self, c0, t0=0, seed=None):\n",
    "        return DifferentialDriveDynamics(self, c0, t0)"
   ]
  },
  {
   "cell_type": "markdown",
   "metadata": {
    "collapsed": true
   },
   "source": [
    "Finally, `DifferentialDriveDynamics` is derived from `GenericKinematicsSE2` and initialization parameters are the instances of `DifferentialDriveDynamicsParameters`.\n",
    "\n",
    "The method `integrate` takes instances of `WheelVelocityCommands` and computes linear velocity based on differential drive equations (see LaValle's book p. 726 ch.13.1.2.2).\n",
    "\n",
    "The linear velocity is then represented as $se(2)$ velocity and `integrate` method from `GenericKinematicsSE2` is used."
   ]
  },
  {
   "cell_type": "code",
   "execution_count": null,
   "metadata": {},
   "outputs": [],
   "source": [
    "class DifferentialDriveDynamics(GenericKinematicsSE2):\n",
    "    \"\"\"\n",
    "        This represents the state of differential drive.\n",
    "\n",
    "        This is a particular case of GenericKinematicsSE2.\n",
    "\n",
    "    \"\"\"\n",
    "\n",
    "    def __init__(self, parameters, c0, t0):\n",
    "        \"\"\"\n",
    "        :param parameters:  instance of DifferentialDriveDynamicsParameters\n",
    "        :param c0: initial configuration\n",
    "        :param t0: initial time\n",
    "        \"\"\"\n",
    "        check_isinstance(parameters, DifferentialDriveDynamicsParameters)\n",
    "        self.parameters = parameters\n",
    "        GenericKinematicsSE2.__init__(self, c0, t0)\n",
    "\n",
    "    def integrate(self, dt, commands):\n",
    "        \"\"\"\n",
    "\n",
    "        :param dt:\n",
    "        :param commands: an instance of WheelVelocityCommands\n",
    "        :return:\n",
    "        \"\"\"\n",
    "        check_isinstance(commands, WheelVelocityCommands)\n",
    "\n",
    "        # Compute the linear velocity for the wheels\n",
    "        # by multiplying radius times angular velocity\n",
    "        v_r = self.parameters.radius_right * commands.right_wheel_angular_velocity\n",
    "        v_l = self.parameters.radius_left * commands.left_wheel_angular_velocity\n",
    "\n",
    "        # compute the linear, angular velocities for the platform\n",
    "        # using the differential drive equations\n",
    "        longitudinal = (v_r + v_l) * 0.5\n",
    "        angular = (v_r - v_l) / self.parameters.wheel_distance\n",
    "        lateral = 0.0\n",
    "\n",
    "        linear = [longitudinal, lateral]\n",
    "\n",
    "        # represent this as se(2)\n",
    "        commands_se2 = geo.se2_from_linear_angular(linear, angular)\n",
    "\n",
    "        # Call the \"integrate\" function of GenericKinematicsSE2\n",
    "        s1 = GenericKinematicsSE2.integrate(self, dt, commands_se2)\n",
    "\n",
    "        # new state\n",
    "        c1 = s1.q0, s1.v0\n",
    "        t1 = s1.t0\n",
    "        return DifferentialDriveDynamics(self.parameters, c1, t1)\n",
    "    "
   ]
  },
  {
   "cell_type": "markdown",
   "metadata": {
    "collapsed": true
   },
   "source": [
    "Let us test our `DifferentialDriveDynamics` class. To do this, create `myDiff` and pass the following parameters and initial configuration:"
   ]
  },
  {
   "cell_type": "code",
   "execution_count": null,
   "metadata": {},
   "outputs": [],
   "source": [
    "left_radius = 2.5 # cm\n",
    "right_radius = 2.5\n",
    "wheel_dist = 7.5\n",
    "\n",
    "init_pose = np.array([0,0])\n",
    "init_vel = np.array([0,0])\n",
    "init_time = 0\n",
    "\n",
    "q0 = geo.SE2_from_R2(init_pose)\n",
    "v0 = geo.se2_from_linear_angular(init_vel, 0)\n",
    "\n",
    "c0= q0, v0\n",
    "\n",
    "myCarParams = DifferentialDriveDynamicsParameters(left_radius, right_radius, wheel_dist)\n",
    "\n",
    "myDiff = DifferentialDriveDynamics(myCarParams, c0, init_time)\n",
    "\n"
   ]
  },
  {
   "cell_type": "markdown",
   "metadata": {},
   "source": [
    "Now, use this newly created `myDiff` and update it according to a fixed set of commands (one command for simplicity):"
   ]
  },
  {
   "cell_type": "code",
   "execution_count": null,
   "metadata": {},
   "outputs": [],
   "source": [
    "del_t = 1\n",
    "\n",
    "for i in range(5):\n",
    "    myCarCommands = WheelVelocityCommands(10, 11) # go straight ahead or turn in place \n",
    "    myDiff = myDiff.integrate(del_t, myCarCommands)\n",
    "    current_p, theta = geo.translation_angle_from_SE2(myDiff.q0)\n",
    "    print('pose: {}'.format(current_p))\n",
    "    print('theta: {}'.format(np.rad2deg(theta)))\n",
    "    "
   ]
  },
  {
   "cell_type": "markdown",
   "metadata": {},
   "source": [
    "## Exercise\n",
    "\n",
    "\n",
    "Fork and clone the following repository: https://github.com/duckietown/planning-exercises\n",
    "\n",
    "In the `implementation.py` implement the equivalent CarDynamics according to the description of Lavalle’s book (see 13.1.2.1 A simple car).\n",
    "\n",
    "Create a class `CarDynamics` that integrates the dynamics of a car in the pattern of `DifferentialDriveDynamics`, as well as classes `CarCommmands` and `CarParameters`.\n",
    "\n",
    "`CarCommands` has two variables (please make sure the order is respected):\n",
    " - `linear_velocity`\n",
    " - `steering_angle`\n",
    "    \n",
    "`CarParameters` has one variable:\n",
    " - `wheel_distance`\n",
    " \n",
    "To test your solution run `test.py` in the repository.\n",
    "\n",
    "Copy the `implementation.py` file to `ethz-fall2018-subs/Homework Assignment 4/AMOD18-ETH-last_name-duckiebot_name/`. Push your solution and make a pull request. \n",
    "\n",
    "Deadline is 23:59:59 on Tuesday 13.11.2018.\n"
   ]
  },
  {
   "cell_type": "code",
   "execution_count": null,
   "metadata": {},
   "outputs": [],
   "source": []
  }
 ],
 "metadata": {
  "celltoolbar": "Raw Cell Format",
  "kernelspec": {
   "display_name": "Python 2",
   "language": "python",
   "name": "python2"
  },
  "language_info": {
   "codemirror_mode": {
    "name": "ipython",
    "version": 2
   },
   "file_extension": ".py",
   "mimetype": "text/x-python",
   "name": "python",
   "nbconvert_exporter": "python",
   "pygments_lexer": "ipython2",
   "version": "2.7.12"
  }
 },
 "nbformat": 4,
 "nbformat_minor": 2
}
