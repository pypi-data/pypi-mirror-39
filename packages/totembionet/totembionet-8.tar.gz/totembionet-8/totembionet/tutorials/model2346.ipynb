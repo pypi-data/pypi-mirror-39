{
 "cells": [
  {
   "cell_type": "code",
   "execution_count": null,
   "metadata": {},
   "outputs": [],
   "source": [
    "import discrete_model\n",
    "import ggea\n",
    "import model_picker\n",
    "import simu_net\n",
    "import random\n",
    "import sys\n",
    "import matplotlib.pyplot as plt\n",
    "%matplotlib inline"
   ]
  },
  {
   "cell_type": "code",
   "execution_count": null,
   "metadata": {
    "scrolled": true
   },
   "outputs": [],
   "source": [
    "models = discrete_model.parse_smbionet_output_file('resources/model2346.out')\n",
    "model = model_picker.pick_a_model_randomly(models)\n",
    "print(f\"We picked the model n°{models.index(model)} out of {len(models)}\")\n",
    "print(model)"
   ]
  },
  {
   "cell_type": "code",
   "execution_count": null,
   "metadata": {
    "scrolled": true
   },
   "outputs": [],
   "source": [
    "model.influence_graph.show('dot')"
   ]
  },
  {
   "cell_type": "code",
   "execution_count": null,
   "metadata": {
    "scrolled": true
   },
   "outputs": [],
   "source": [
    "resources_table = discrete_model.ResourceTableWithModel(model)\n",
    "resources_table.as_data_frame()"
   ]
  },
  {
   "cell_type": "code",
   "execution_count": null,
   "metadata": {
    "scrolled": true
   },
   "outputs": [],
   "source": [
    "graph = ggea.Graph(model)\n",
    "graph"
   ]
  },
  {
   "cell_type": "code",
   "execution_count": null,
   "metadata": {
    "scrolled": true
   },
   "outputs": [],
   "source": [
    "simulation = simu_net.Simulation(model)\n",
    "simulation.steps = 15\n",
    "for seed in range(10):\n",
    "    print(\"Seed :\", seed)\n",
    "    simulation.random.seed(seed)\n",
    "    result = simulation.run()\n",
    "    print(\"Initial state :\", result.states[0])\n",
    "    print(\"Final state :\", result.states[-1])\n",
    "    result.plot_evolution()"
   ]
  }
 ],
 "metadata": {
  "kernelspec": {
   "display_name": "Python 3",
   "language": "python",
   "name": "python3"
  },
  "language_info": {
   "codemirror_mode": {
    "name": "ipython",
    "version": 3
   },
   "file_extension": ".py",
   "mimetype": "text/x-python",
   "name": "python",
   "nbconvert_exporter": "python",
   "pygments_lexer": "ipython3",
   "version": "3.7.1"
  }
 },
 "nbformat": 4,
 "nbformat_minor": 2
}
