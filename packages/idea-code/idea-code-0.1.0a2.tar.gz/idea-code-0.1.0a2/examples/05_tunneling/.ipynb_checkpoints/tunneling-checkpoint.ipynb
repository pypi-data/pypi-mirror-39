{
 "cells": [
  {
   "cell_type": "markdown",
   "metadata": {},
   "source": [
    "# Exercise: Many electron tunnelling systems"
   ]
  },
  {
   "cell_type": "markdown",
   "metadata": {},
   "source": [
    "Having read notebooks 1-4, you should be in a position to tackle this exercise. It is designed to test aspects from each of the topics you have learned so far. A worked solution to this exercise is provided, with a small amount of explanation of the underlying physics, but we highly encourage you to fully attempt this exercise first before consulting the solutions. There truly is no better way to check you're up to speed with everything you ought to be than by having a go yourself!"
   ]
  },
  {
   "cell_type": "markdown",
   "metadata": {},
   "source": [
    "The system of interest is going to be a double antisymmetric well, with the exact form of the potential being \n",
    "\n",
    "$$ -\\frac{6}{5} exp \\bigg(\\frac{-1}{125}(x-10)^4\\bigg) - \\frac{9}{10} exp\\bigg(\\frac{-1}{10}(x+10)^2\\bigg), $$\n",
    "\n",
    "or in python format "
   ]
  },
  {
   "cell_type": "code",
   "execution_count": 2,
   "metadata": {},
   "outputs": [],
   "source": [
    "# -(6.0/5.0)*math.e**(-(1.0/125.0)*(x-10)**4)-(9.0/10.0)*math.e**(-(1.0/10.0)*(x+10)**2)"
   ]
  },
  {
   "cell_type": "markdown",
   "metadata": {},
   "source": [
    "Now we'd like you to ** run iDEA, with time dependence and reverse engineering switched on for the non-interacting, exact and LDA cases.** Be sure to adjust your system parameters to suitable values to ensure convergence and to include the whole of the potential. We also recommend running the time dependence for at least $t_{max} = 10 $ a.u. to ensure you are able to see the features we're interested in. The perturbation applied at $t = 0 $ is just the default linear electric field so there is no need to change this for the time being (but you're more than welcome to adjust this and see what its effect is). \n",
    "\n",
    "**After iDEA has finished running, plot your ground state densities for the each of the above cases and the external potential on the same graph commenting on any differences.**"
   ]
  },
  {
   "cell_type": "code",
   "execution_count": 4,
   "metadata": {
    "collapsed": true
   },
   "outputs": [],
   "source": [
    "# Import iDEA and parameters\n",
    "\n"
   ]
  },
  {
   "cell_type": "code",
   "execution_count": 5,
   "metadata": {
    "collapsed": true
   },
   "outputs": [],
   "source": [
    "# Adjust the parameters to answer the exercise\n",
    "# NB - if your system has trouble running iDEA from the notebook, try setting pm.run.verbosity to 'low'\n",
    "\n"
   ]
  },
  {
   "cell_type": "code",
   "execution_count": 6,
   "metadata": {
    "collapsed": true
   },
   "outputs": [],
   "source": [
    "# Change the external potential to that given above\n",
    "\n"
   ]
  },
  {
   "cell_type": "code",
   "execution_count": 7,
   "metadata": {
    "collapsed": true
   },
   "outputs": [],
   "source": [
    "# Optional (but recommended) - check that parameters file has updated as you expected\n",
    "\n"
   ]
  },
  {
   "cell_type": "code",
   "execution_count": 8,
   "metadata": {
    "collapsed": true
   },
   "outputs": [],
   "source": [
    "# Hopefully everything is good to go now, so go ahead and run iDEA\n",
    "\n"
   ]
  },
  {
   "cell_type": "markdown",
   "metadata": {},
   "source": [
    "Hopefully everything has worked as expected so far. Getting to this point means you're comfortable with the basics of running the iDEA code. If you're having problems with this, go back and read the \"Getting Started with iDEA\" notebook."
   ]
  },
  {
   "cell_type": "code",
   "execution_count": 9,
   "metadata": {
    "collapsed": true
   },
   "outputs": [],
   "source": [
    "# Import matplotlib and plot each of the densities you've calculated thus far"
   ]
  },
  {
   "cell_type": "markdown",
   "metadata": {},
   "source": [
    "Use this cell to comment on the differences you see in the graphs:\n",
    "\n"
   ]
  },
  {
   "cell_type": "markdown",
   "metadata": {},
   "source": [
    "That's the first part done! Now let's have a look at why DFT has done so well. **Plot the reverse engineered exact KS potential and the external potential on the same graph and comment on the major differences**"
   ]
  },
  {
   "cell_type": "code",
   "execution_count": 10,
   "metadata": {
    "collapsed": true
   },
   "outputs": [],
   "source": [
    "# Plot the KS potential and the external potential on the same graph\n",
    "\n",
    "\n"
   ]
  },
  {
   "cell_type": "markdown",
   "metadata": {},
   "source": [
    "**Use this cell to comment on the major differences between between the two potentials:**\n",
    "\n"
   ]
  },
  {
   "cell_type": "markdown",
   "metadata": {},
   "source": [
    "Now we're ready to move onto looking at the time dependence of the system. **Animate how the exact density changes over time.**"
   ]
  },
  {
   "cell_type": "code",
   "execution_count": 11,
   "metadata": {
    "collapsed": true
   },
   "outputs": [],
   "source": [
    "# Import the relevant packages for animations\n",
    "\n"
   ]
  },
  {
   "cell_type": "code",
   "execution_count": 1,
   "metadata": {
    "collapsed": true
   },
   "outputs": [],
   "source": [
    "# Store your time dependent solution as an array"
   ]
  },
  {
   "cell_type": "code",
   "execution_count": 2,
   "metadata": {
    "collapsed": true
   },
   "outputs": [],
   "source": [
    "# Set the background for the animation"
   ]
  },
  {
   "cell_type": "code",
   "execution_count": 3,
   "metadata": {
    "collapsed": true
   },
   "outputs": [],
   "source": [
    "# Define the init function"
   ]
  },
  {
   "cell_type": "code",
   "execution_count": 4,
   "metadata": {
    "collapsed": true
   },
   "outputs": [],
   "source": [
    "# Define the animation function"
   ]
  },
  {
   "cell_type": "code",
   "execution_count": 5,
   "metadata": {
    "collapsed": true
   },
   "outputs": [],
   "source": [
    "# Display the animation"
   ]
  },
  {
   "cell_type": "markdown",
   "metadata": {
    "collapsed": true
   },
   "source": [
    "**Use this cell to comment of the major features of the time-evolution. How can we tell it is a tunnelling system?**\n",
    "\n"
   ]
  },
  {
   "cell_type": "code",
   "execution_count": null,
   "metadata": {
    "collapsed": true
   },
   "outputs": [],
   "source": []
  }
 ],
 "metadata": {
  "kernelspec": {
   "display_name": "Python 3",
   "language": "python",
   "name": "python3"
  },
  "language_info": {
   "codemirror_mode": {
    "name": "ipython",
    "version": 3
   },
   "file_extension": ".py",
   "mimetype": "text/x-python",
   "name": "python",
   "nbconvert_exporter": "python",
   "pygments_lexer": "ipython3",
   "version": "3.6.6"
  }
 },
 "nbformat": 4,
 "nbformat_minor": 2
}
