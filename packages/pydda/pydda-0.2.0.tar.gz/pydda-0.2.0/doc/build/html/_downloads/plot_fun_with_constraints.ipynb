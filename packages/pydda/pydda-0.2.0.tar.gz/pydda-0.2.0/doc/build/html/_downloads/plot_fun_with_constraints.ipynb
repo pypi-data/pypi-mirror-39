{
  "nbformat": 4,
  "nbformat_minor": 0,
  "metadata": {
    "kernelspec": {
      "display_name": "Python 3",
      "language": "python",
      "name": "python3"
    },
    "language_info": {
      "pygments_lexer": "ipython3",
      "file_extension": ".py",
      "nbconvert_exporter": "python",
      "version": "3.5.2",
      "codemirror_mode": {
        "version": 3,
        "name": "ipython"
      },
      "mimetype": "text/x-python",
      "name": "python"
    }
  },
  "cells": [
    {
      "execution_count": null,
      "metadata": {
        "collapsed": false
      },
      "outputs": [],
      "source": [
        "%matplotlib inline"
      ],
      "cell_type": "code"
    },
    {
      "metadata": {},
      "source": [
        "\nExample on geographic plotting and constraint variation\n-------------------------------------------------------\n\nIn this example we show how to plot wind fields on a map and change\nthe default constraint coefficients using PyDDA.\n\nThis shows how important it is to have the proper intitial state and\nconstraints when you derive your wind fields. In the first figure,\nthe sounding was used as the initial state, but for the latter\ntwo examples we use a zero initial state which provides for more \nquestionable winds at the edges of the Dual Doppler Lobes.\n\n\n"
      ],
      "cell_type": "markdown"
    },
    {
      "execution_count": null,
      "metadata": {
        "collapsed": false
      },
      "outputs": [],
      "source": [
        "import pydda\nimport pyart\nimport cartopy.crs as ccrs\nimport matplotlib.pyplot as plt\n\n\nberr_grid = pyart.io.read_grid(pydda.tests.BERR_GRID)\ncpol_grid = pyart.io.read_grid(pydda.tests.CPOL_GRID)\n\n# Load our radar data\nsounding = pyart.io.read_arm_sonde(\n    pydda.tests.SOUNDING_PATH)\nu_init, v_init, w_init = pydda.initialization.make_constant_wind_field(\n    berr_grid, (0.0, 0.0, 0.0))\n\n# Let's make a plot on a map\nfig = plt.figure(figsize=(7, 7))\nax = plt.axes(projection=ccrs.PlateCarree())\n\npydda.vis.plot_horiz_xsection_streamlines_map(\n    [berr_grid, cpol_grid], ax=ax, bg_grid_no=-1, level=7, w_vel_contours=[3, 5, 8])\nplt.show()\n\n# Let's see what happens when we use a zero initialization\nnew_grids = pydda.retrieval.get_dd_wind_field([berr_grid, cpol_grid],\n                                    u_init, v_init, w_init,\n                                    Co=1.0, Cm=1500.0, frz=5000.0)\n\nfig = plt.figure(figsize=(7, 7))\nax = plt.axes(projection=ccrs.PlateCarree())\n\npydda.vis.plot_horiz_xsection_streamlines_map(\n    new_grids, ax=ax, bg_grid_no=-1, level=7, w_vel_contours=[3, 5, 8])\nplt.show()\n\n# Or, let's make the radar data more important!\nnew_grids = pydda.retrieval.get_dd_wind_field([berr_grid, cpol_grid],\n                                    u_init, v_init, w_init,\n                                    Co=10.0, Cm=1500.0, frz=5000.0)\nfig = plt.figure(figsize=(7, 7))\nax = plt.axes(projection=ccrs.PlateCarree())\n\npydda.vis.plot_horiz_xsection_streamlines_map(\n    new_grids, ax=ax, bg_grid_no=-1, level=7, w_vel_contours=[3, 5, 8])\nplt.show()"
      ],
      "cell_type": "code"
    }
  ]
}