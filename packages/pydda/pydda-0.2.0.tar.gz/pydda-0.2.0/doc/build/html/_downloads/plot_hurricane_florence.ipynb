{
  "nbformat_minor": 0,
  "cells": [
    {
      "execution_count": null,
      "outputs": [],
      "source": [
        "%matplotlib inline"
      ],
      "cell_type": "code",
      "metadata": {
        "collapsed": false
      }
    },
    {
      "source": [
        "\nExample on integrating radar and HRRR data\n------------------------------------------\n\nThis is an example of how to retrieve winds in Hurricane Florence.\nIn this example, we use data from 2 NEXRAD radars as well as from\nthe HRRR to retrieve the winds.\n\nAuthor: Robert C. Jackson\n\n"
      ],
      "cell_type": "markdown",
      "metadata": {}
    },
    {
      "execution_count": null,
      "outputs": [],
      "source": [
        "import urllib\nimport pyart\nimport pydda\nimport matplotlib.pyplot as plt\nimport cartopy.crs as ccrs\n\nhrrr_url = 'https://pando-rgw01.chpc.utah.edu/hrrr/prs/20180914/hrrr.t06z.wrfprsf00.grib2'   \nurllib.request.urlretrieve(hrrr_url, 'test.grib2')\n\ngrid_mhx = pyart.io.read_grid(pydda.tests.MHX_GRID)\ngrid_ltx = pyart.io.read_grid(pydda.tests.LTX_GRID)\n\ngrid_mhx = pydda.constraints.add_hrrr_constraint_to_grid(grid_mhx,\n            'test.grib2')\nu_init, v_init, w_init = pydda.initialization.make_constant_wind_field(\n    grid_mhx, (0.0, 0.0, 0.0))\nout_grids = pydda.retrieval.get_dd_wind_field([grid_mhx, grid_ltx], u_init, v_init, w_init, Co=0.0, Cm=0.0,\n                                              Cmod=1e-3, mask_outside_opt=True, vel_name='corrected_velocity',\n                                              model_fields=[\"hrrr\"]\n                                              )\n\nfig = plt.figure(figsize=(15,10)) \nax = plt.axes(projection=ccrs.PlateCarree())\nax = pydda.vis.plot_horiz_xsection_barbs_map(out_grids, ax=ax, bg_grid_no=-1, level=1, barb_spacing_x_km=20.0,\n                                             barb_spacing_y_km=20.0)\n\nplt.title(out_grids[0].time['units'][13:] + ' winds at 0.5 km')"
      ],
      "cell_type": "code",
      "metadata": {
        "collapsed": false
      }
    }
  ],
  "nbformat": 4,
  "metadata": {
    "language_info": {
      "name": "python",
      "version": "3.5.2",
      "codemirror_mode": {
        "name": "ipython",
        "version": 3
      },
      "nbconvert_exporter": "python",
      "file_extension": ".py",
      "mimetype": "text/x-python",
      "pygments_lexer": "ipython3"
    },
    "kernelspec": {
      "name": "python3",
      "language": "python",
      "display_name": "Python 3"
    }
  }
}