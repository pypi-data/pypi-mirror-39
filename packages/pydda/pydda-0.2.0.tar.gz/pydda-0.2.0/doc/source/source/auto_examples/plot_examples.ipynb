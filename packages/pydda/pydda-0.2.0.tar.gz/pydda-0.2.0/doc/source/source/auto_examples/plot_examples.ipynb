{
  "nbformat": 4,
  "cells": [
    {
      "metadata": {
        "collapsed": false
      },
      "execution_count": null,
      "source": [
        "%matplotlib inline"
      ],
      "outputs": [],
      "cell_type": "code"
    },
    {
      "metadata": {},
      "source": [
        "\nExample on retrieving and plotting winds\n----------------------------------------\n\nThis is a simple example for how to retrieve and plot winds from 2 radars\nusing PyDDA.\n\nAuthor: Robert C. Jackson\n\n\n"
      ],
      "cell_type": "markdown"
    },
    {
      "metadata": {
        "collapsed": false
      },
      "execution_count": null,
      "source": [
        "import pyart\nimport pydda\nfrom matplotlib import pyplot as plt\n\n\nberr_grid = pyart.io.read_grid(pydda.tests.EXAMPLE_RADAR0)\ncpol_grid = pyart.io.read_grid(pydda.tests.EXAMPLE_RADAR1)\n\nsounding = pyart.io.read_arm_sonde(\n    pydda.tests.SOUNDING_PATH)\n\n\n# Load sounding data and insert as an intialization\nu_init, v_init, w_init = pydda.initialization.make_wind_field_from_profile(\n        cpol_grid, sounding[1], vel_field='VT')\n\n# Start the wind retrieval. This example only uses the mass continuity\n# and data weighting constraints.\nGrids = pydda.retrieval.get_dd_wind_field([berr_grid, cpol_grid], u_init,\n                                          v_init, w_init, Co=10.0, Cm=1500.0,\n                                          Cz=0, vel_name='VT', refl_field='DT',\n                                          frz=5000.0, filt_iterations=2,\n                                          mask_outside_opt=True, upper_bc=1)\n# Plot a horizontal cross section\nplt.figure(figsize=(9, 9))\npydda.vis.plot_horiz_xsection_barbs(Grids, background_field='DT', level=6,\n                                    w_vel_contours=[3, 6, 9, 12, 15],\n                                    barb_spacing_x_km=5.0,\n                                    barb_spacing_y_km=15.0)\nplt.show()\n\n# Plot a vertical X-Z cross section\nplt.figure(figsize=(9, 9))\npydda.vis.plot_xz_xsection_barbs(Grids, background_field='DT', level=40,\n                                 w_vel_contours=[3, 6, 9, 12, 15],\n                                 barb_spacing_x_km=10.0,\n                                 barb_spacing_z_km=2.0)\nplt.show()\n\n# Plot a vertical Y-Z cross section\nplt.figure(figsize=(9, 9))\npydda.vis.plot_yz_xsection_barbs(Grids, background_field='DT', level=40,\n                                 w_vel_contours=[3, 6, 9, 12, 15],\n                                 barb_spacing_y_km=10.0,\n                                 barb_spacing_z_km=2.0)\nplt.show()"
      ],
      "outputs": [],
      "cell_type": "code"
    }
  ],
  "metadata": {
    "kernelspec": {
      "name": "python3",
      "language": "python",
      "display_name": "Python 3"
    },
    "language_info": {
      "name": "python",
      "pygments_lexer": "ipython3",
      "file_extension": ".py",
      "version": "3.5.2",
      "codemirror_mode": {
        "version": 3,
        "name": "ipython"
      },
      "nbconvert_exporter": "python",
      "mimetype": "text/x-python"
    }
  },
  "nbformat_minor": 0
}