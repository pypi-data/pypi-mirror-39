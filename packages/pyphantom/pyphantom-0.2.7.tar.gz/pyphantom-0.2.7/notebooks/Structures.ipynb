{
 "cells": [
  {
   "cell_type": "code",
   "execution_count": 158,
   "metadata": {},
   "outputs": [],
   "source": [
    "from pyphantom.flex import Phantom\n",
    "\n",
    "class PhantomStructures(object):\n",
    "    path = ''\n",
    "\n",
    "    def __init__(self, camera, path=''):\n",
    "        super(PhantomStructures, self).__setattr__('camera', camera)\n",
    "        if path:\n",
    "            super(PhantomStructures, self).__setattr__('path', self.path + path)\n",
    "\n",
    "    def __getattr__(self, item):\n",
    "        if self.path:\n",
    "            return PhantomStructures(self.camera, self.path + '.' + item)\n",
    "        else:\n",
    "            return PhantomStructures(self.camera, item)\n",
    "\n",
    "    def __setattr__(self, key, value):\n",
    "        cmd = 'set {}.{} {}'.format(self.path, key, value)\n",
    "        self.camera.ask(cmd)\n",
    "\n",
    "    def __dir__(self):\n",
    "        try:\n",
    "            return self._get().keys()\n",
    "        except AttributeError:\n",
    "            return dir(self._get())\n",
    "\n",
    "    def _get(self):\n",
    "        cmd = 'get {}'.format(self.path if self.path else '*')\n",
    "        return self.camera.ask(cmd)\n",
    "\n",
    "    def __int__(self):\n",
    "        return int(self._get())\n",
    "\n",
    "    def __float__(self):\n",
    "        return float(self._get())\n",
    "\n",
    "    def __str__(self):\n",
    "        return str(self._get())\n",
    "\n",
    "    def __repr__(self):\n",
    "        return self.__str__()\n",
    "\n",
    "\n",
    "class PH(Phantom):\n",
    "    def __init__(self, ip):\n",
    "        super(PH, self).__init__(ip)\n",
    "\n",
    "    @property\n",
    "    def structures(self):\n",
    "        return PhantomStructures(self)\n"
   ]
  },
  {
   "cell_type": "code",
   "execution_count": 161,
   "metadata": {},
   "outputs": [
    {
     "data": {
      "text/plain": [
       "FakeCam 4K"
      ]
     },
     "execution_count": 161,
     "metadata": {},
     "output_type": "execute_result"
    }
   ],
   "source": [
    "c = PH('localhost')\n",
    "c.connect()\n",
    "c.structures.info.swver = 111\n",
    "c.structures.info.model"
   ]
  },
  {
   "cell_type": "code",
   "execution_count": 160,
   "metadata": {},
   "outputs": [
    {
     "name": "stdout",
     "output_type": "stream",
     "text": [
      "<type 'int'>\n"
     ]
    }
   ],
   "source": [
    "print(type(type_try('10')))"
   ]
  },
  {
   "cell_type": "code",
   "execution_count": 133,
   "metadata": {},
   "outputs": [
    {
     "name": "stdout",
     "output_type": "stream",
     "text": [
      "The slowest run took 4.75 times longer than the fastest. This could mean that an intermediate result is being cached.\n",
      "10000 loops, best of 3: 123 µs per loop\n"
     ]
    }
   ],
   "source": [
    "%%timeit\n",
    "c.ask('set info.swver 111')"
   ]
  },
  {
   "cell_type": "code",
   "execution_count": null,
   "metadata": {},
   "outputs": [],
   "source": []
  }
 ],
 "metadata": {
  "kernelspec": {
   "display_name": "Python 2",
   "language": "python",
   "name": "python2"
  },
  "language_info": {
   "codemirror_mode": {
    "name": "ipython",
    "version": 2
   },
   "file_extension": ".py",
   "mimetype": "text/x-python",
   "name": "python",
   "nbconvert_exporter": "python",
   "pygments_lexer": "ipython2",
   "version": "2.7.14"
  }
 },
 "nbformat": 4,
 "nbformat_minor": 2
}
